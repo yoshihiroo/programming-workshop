{
  "nbformat": 4,
  "nbformat_minor": 0,
  "metadata": {
    "colab": {
      "private_outputs": true,
      "provenance": [],
      "collapsed_sections": [],
      "include_colab_link": true
    },
    "kernelspec": {
      "name": "python3",
      "display_name": "Python 3"
    },
    "language_info": {
      "name": "python"
    }
  },
  "cells": [
    {
      "cell_type": "markdown",
      "metadata": {
        "id": "view-in-github",
        "colab_type": "text"
      },
      "source": [
        "<a href=\"https://colab.research.google.com/github/yoshihiroo/programming-workshop/blob/master/QC4U_2022/qc4uchapter1_cirq.ipynb\" target=\"_parent\"><img src=\"https://colab.research.google.com/assets/colab-badge.svg\" alt=\"Open In Colab\"/></a>"
      ]
    },
    {
      "cell_type": "markdown",
      "source": [
        "# QC4U 第1回 Cirq写経翻訳\n",
        "2022.9.18版"
      ],
      "metadata": {
        "id": "QW039chm5WcH"
      }
    },
    {
      "cell_type": "markdown",
      "source": [
        "東北大学 [大関先生によるQC4U](https://altema.is.tohoku.ac.jp/QC4U/)の解説コードをもとに、理解を深めるためにCirqへの翻訳をやってみているものです。Cirq初心者ですので、正しくないコードの書き方や理解が間違っているところがあるかも知れませんがご容赦ください。説明の本文は敬意をもってほぼ丸々パクらせていただいております。（掲載については大関先生の了解を得ております。ご承諾ありがとうございます。）\n",
        "\n",
        "[元にした2022.09.09 第1回の解説コード](https://colab.research.google.com/gist/mohzeki222/3ac613256834d463de7c5c7eeb7a5b14/qc4uchapter1.ipynb)"
      ],
      "metadata": {
        "id": "Z5Kcvu-s-0jk"
      }
    },
    {
      "cell_type": "markdown",
      "source": [
        "# cirqのインストール\n",
        "\n",
        "量子コンピュータはいくつかの企業さんが利用できる環境を提供しております。\n",
        "そのうちのひとつがGoogleさんですが、ありがたいことに開発用のライブラリを用意しております。\n",
        "こちらを利用して量子コンピュータをみんなで使ってみましょう。\n",
        "\n",
        "（注意追記）コマンド実行後、WARNINGとともにRESTART RUNTIMEボタンが出てくるのでクリックしてランタイムを再起動する。"
      ],
      "metadata": {
        "id": "yoYNDMRnnWr8"
      }
    },
    {
      "cell_type": "code",
      "source": [
        "pip install cirq"
      ],
      "metadata": {
        "id": "2jMYymbRmK0C"
      },
      "execution_count": null,
      "outputs": []
    },
    {
      "cell_type": "markdown",
      "source": [
        "さまざまな文章が登場しますが、インストールにおける途中経過を示しています。\n",
        "文章が新たに登場するのが終わったら、インストール終了です。\n",
        "次にこのインストールしたライブラリからいくつか必要なモジュールを呼び出します。\n",
        "もちろん初めてですから、量子回路を作ってみたいですよね。\n",
        "そういう方にはこちら。"
      ],
      "metadata": {
        "id": "jnWk7GsFv0rF"
      }
    },
    {
      "cell_type": "code",
      "execution_count": null,
      "metadata": {
        "id": "FgZN8RH3jfGL"
      },
      "outputs": [],
      "source": [
        "import cirq"
      ]
    },
    {
      "cell_type": "markdown",
      "source": [
        "### 量子ビットを操作しよう\n",
        "\n",
        "噂の量子ビットを早速準備してみましょう。\n",
        "そのために量子回路全体を構築するベースをまずは準備します。"
      ],
      "metadata": {
        "id": "gQF1SpQVBTdQ"
      }
    },
    {
      "cell_type": "code",
      "source": [
        "qc = cirq.Circuit()"
      ],
      "metadata": {
        "id": "lndQ8RImmsF1"
      },
      "execution_count": null,
      "outputs": []
    },
    {
      "cell_type": "code",
      "source": [
        "q = cirq.LineQubit.range(1)"
      ],
      "metadata": {
        "id": "dWqfqSo_beOj"
      },
      "execution_count": null,
      "outputs": []
    },
    {
      "cell_type": "markdown",
      "source": [
        "あっけないですね。\n",
        "cirq.LineQubit.range(n)というのはn量子ビットを用意するよーという意味です。"
      ],
      "metadata": {
        "id": "vchmTH4rBbP1"
      }
    },
    {
      "cell_type": "markdown",
      "source": [
        "このqcに各種操作を実行することで量子計算を行うことができます。\n",
        "早速量子回路上で、xという回路を追加しましょう。\n",
        "このxという量子回路は、0を1に1を0に反転する回路です。ビット反転回路で、デジタルコンピュータ上でも利用される基本的な回路です。\n",
        "Pythonを始めとするプログラミング言語の多くは、1個目を0と称しますので、次のようなコードを打ちます。"
      ],
      "metadata": {
        "id": "ZLxE22iPcIu0"
      }
    },
    {
      "cell_type": "code",
      "source": [
        "qc.append(cirq.X(q[0]))"
      ],
      "metadata": {
        "id": "E7GgKy-Tmu90"
      },
      "execution_count": null,
      "outputs": []
    },
    {
      "cell_type": "markdown",
      "source": [
        "手応えを感じないと思いますので、量子回路の様子を表示してみたいところです。\n",
        "量子回路の表示はqiskitの機能で次のように打つことで可能です。"
      ],
      "metadata": {
        "id": "VfzfYr_OCtFI"
      }
    },
    {
      "cell_type": "code",
      "source": [
        "print(qc)"
      ],
      "metadata": {
        "id": "9IkluwutCWu0"
      },
      "execution_count": null,
      "outputs": []
    },
    {
      "cell_type": "markdown",
      "source": [
        "Xとかいて、そうこれがXという回路になります。\n",
        "それでは試しにこの計算を実行してみましょう。\n",
        "量子回路では、量子力学に基づく原理で「状態」を変化させていきます。\n",
        "その「状態」を表すものを状態ベクトルと言ったりします。"
      ],
      "metadata": {
        "id": "ZGd8BnI1C9XU"
      }
    },
    {
      "cell_type": "markdown",
      "source": [
        "これで基本はひとまず終了。\n",
        "それでは実際に動作させて見ることにしましょう。"
      ],
      "metadata": {
        "id": "70d5visL988P"
      }
    },
    {
      "cell_type": "markdown",
      "source": [
        "量子回路の中で行われていることを調べるためには量子コンピュータが本来必要なわけですが、\n",
        "ここではGoogleが用意している量子シミュレータを利用して、様子を探ることにしましょう。"
      ],
      "metadata": {
        "id": "HChGv-uPFRHO"
      }
    },
    {
      "cell_type": "code",
      "source": [
        "sim = cirq.Simulator()"
      ],
      "metadata": {
        "id": "Cp2vg7GlFQeV"
      },
      "execution_count": null,
      "outputs": []
    },
    {
      "cell_type": "markdown",
      "source": [
        "この量子シミュレータを利用して、どんな状態ベクトルになっているのかを調べることができます。\n",
        "結果を受け取るためには次のプログラムを実行します。"
      ],
      "metadata": {
        "id": "ZpJ0jeA_HCl3"
      }
    },
    {
      "cell_type": "code",
      "source": [
        "res = sim.simulate(qc)"
      ],
      "metadata": {
        "id": "cdvvCuenHBs_"
      },
      "execution_count": null,
      "outputs": []
    },
    {
      "cell_type": "markdown",
      "source": [
        "この結果として得られたresから、量子ビットの様子を示す状態ベクトルを取り出すのはこちら。"
      ],
      "metadata": {
        "id": "013uglsXJyDe"
      }
    },
    {
      "cell_type": "markdown",
      "source": [
        "このstateをそのまま様子を見ると数値で状態ベクトルを指し示すことができます。"
      ],
      "metadata": {
        "id": "lENOMhfGIEeP"
      }
    },
    {
      "cell_type": "code",
      "source": [
        "print(res)"
      ],
      "metadata": {
        "id": "Sv3vcxUkPr7P"
      },
      "execution_count": null,
      "outputs": []
    },
    {
      "cell_type": "markdown",
      "source": [
        "下を向いているのがわかりますね。cirqでは最初上向きの状態ベクトルで初期化されています。\n",
        "上を向いた状態から、下を向いていることがわかります。これがX回路の役目です。\n",
        "上下に反転するというわけです。\n",
        "だから2回続けて実行すると元に戻るわけです。"
      ],
      "metadata": {
        "id": "R0QYGA-PK5ZP"
      }
    },
    {
      "cell_type": "code",
      "source": [
        "qc2 = cirq.Circuit()\n",
        "q = cirq.LineQubit.range(1)"
      ],
      "metadata": {
        "id": "W0TM2Sy0nL4S"
      },
      "execution_count": null,
      "outputs": []
    },
    {
      "cell_type": "code",
      "source": [
        "qc2.append(cirq.X(q[0]))\n",
        "qc2.append(cirq.X(q[0]))"
      ],
      "metadata": {
        "id": "mbm3yeYMLfvB"
      },
      "execution_count": null,
      "outputs": []
    },
    {
      "cell_type": "markdown",
      "source": [
        "今度は立て続けに2回実行してみました。\n",
        "早速量子回路の様子を見てみましょう。"
      ],
      "metadata": {
        "id": "oMz1K4m7LjdE"
      }
    },
    {
      "cell_type": "code",
      "source": [
        "print(qc2)"
      ],
      "metadata": {
        "id": "Hy2Di8cdLizn"
      },
      "execution_count": null,
      "outputs": []
    },
    {
      "cell_type": "markdown",
      "source": [
        "この量子回路のシミュレーションをしてみましょう。"
      ],
      "metadata": {
        "id": "UyBYuKl_LtjE"
      }
    },
    {
      "cell_type": "code",
      "source": [
        "res2 = sim.simulate(qc2)"
      ],
      "metadata": {
        "id": "d-v7MjiLLxP0"
      },
      "execution_count": null,
      "outputs": []
    },
    {
      "cell_type": "code",
      "source": [
        "print(res2)"
      ],
      "metadata": {
        "id": "m8CFQoKLL2up"
      },
      "execution_count": null,
      "outputs": []
    },
    {
      "cell_type": "markdown",
      "source": [
        "ご覧の通り上向に変わりました。上向きから下向きに、下向きから上向きに、と2回反転をした結果ということになります。\n",
        "このような反転について、量子コンピュータでは、単純に上下の反転以外を行うX以外にも、Y、Zの回転があります。\n",
        "X,Y,Zの由来は、X軸周りに回すこと、Y軸周りに回すこと、Z軸周りに回すことから由来しています。\n",
        "そのため状態ベクトルが上向きから始めると、XとYでは実行結果が変わらないように見えます。"
      ],
      "metadata": {
        "id": "oI3eKtK3L9lo"
      }
    },
    {
      "cell_type": "code",
      "source": [
        "qc3 = cirq.Circuit()\n",
        "q = cirq.LineQubit.range(1)"
      ],
      "metadata": {
        "id": "LBy0albuL8KX"
      },
      "execution_count": null,
      "outputs": []
    },
    {
      "cell_type": "code",
      "source": [
        "qc3.append(cirq.Y(q[0]))\n",
        "print(qc3)"
      ],
      "metadata": {
        "id": "yPj49bYXNWCq"
      },
      "execution_count": null,
      "outputs": []
    },
    {
      "cell_type": "code",
      "source": [
        "res3 = sim.simulate(qc3)\n",
        "print(res3)"
      ],
      "metadata": {
        "id": "3j9mxHVkNcq4"
      },
      "execution_count": null,
      "outputs": []
    },
    {
      "cell_type": "markdown",
      "source": [
        "### 量子状態の意味\n",
        "\n",
        "デジタルコンピュータでは、0と1というふたつの区別できる状態を利用して、\n",
        "数値を01の２つの数字で並びで表して、その計算の状況を表現してきました。\n",
        "例えば0を00,1を01,2を10,3を11といった具合に、0と１を変化させて数値を区別できるようにすれば良いですね。\n",
        "そして足し算・引き算・掛け算・割り算など各種計算に対して、どのように0と1を変化させる、桁を上げたりすれば良いかのルールに従って、回路を設計すれば良いというわけです。\n",
        "その基本的な動作をさせる回路は量子計算でも利用されます。\n",
        "\n",
        "ただ量子計算ではその結果が0と1のどちらかというわけではないところが不思議な事情を生み出します。"
      ],
      "metadata": {
        "id": "rOAM8RDPBSBB"
      }
    },
    {
      "cell_type": "markdown",
      "source": [
        "0を1にする、1を0にするような変化を基本とする古典的な論理回路上での計算ですが、\n",
        "量子回路では0と1に割り振られた数字があって、それを変化させることを基本とします。\n",
        "それではそのふたつの数字はどんな意味があるのでしょうか。\n",
        "それを調べるために再び量子回路を作ってみることにしましょう。"
      ],
      "metadata": {
        "id": "Um2cmjyDN6Vy"
      }
    },
    {
      "cell_type": "code",
      "source": [
        "qc5 = cirq.Circuit()\n",
        "q = cirq.LineQubit.range(1)"
      ],
      "metadata": {
        "id": "mxnrgdcqmXa6"
      },
      "execution_count": null,
      "outputs": []
    },
    {
      "cell_type": "markdown",
      "source": [
        "ここで初めての回路を利用します。\n",
        "アダマール回路というものです。"
      ],
      "metadata": {
        "id": "OG1fePlyWe0a"
      }
    },
    {
      "cell_type": "code",
      "source": [
        "qc5.append(cirq.H(q[0]))"
      ],
      "metadata": {
        "id": "SFEQefdXTpeF"
      },
      "execution_count": null,
      "outputs": []
    },
    {
      "cell_type": "markdown",
      "source": [
        "この量子回路は一体どのような状態ベクトルを生み出すのでしょうか。\n",
        "調べてみましょう。"
      ],
      "metadata": {
        "id": "PLQtJsInWmmu"
      }
    },
    {
      "cell_type": "code",
      "source": [
        "res5 = sim.simulate(qc5)"
      ],
      "metadata": {
        "id": "yQWibEv-Oj_2"
      },
      "execution_count": null,
      "outputs": []
    },
    {
      "cell_type": "markdown",
      "source": [
        "数値で見るとしたらprint文を利用して、ちょうど0と1の間に向いています。今考えたい状況を生み出しているわけです。"
      ],
      "metadata": {
        "id": "vmoGjShlX9bi"
      }
    },
    {
      "cell_type": "code",
      "source": [
        "print(res5)"
      ],
      "metadata": {
        "id": "SkX9fclRX87f"
      },
      "execution_count": null,
      "outputs": []
    },
    {
      "cell_type": "markdown",
      "source": [
        "実数だけで、0.707...、\n",
        "これは実は$1/\\sqrt{2}$で表される数値です。"
      ],
      "metadata": {
        "id": "dOuuNfVWYHuE"
      }
    },
    {
      "cell_type": "markdown",
      "source": [
        "さてこうした量子回路で\"実際に計算をする\"とき、つまり状態ベクトルというよくわからないもので留まるのではなく、私たちに意味のある情報を取り出すことを考えます。\n",
        "電卓やPCなど、わたしたちの身の回りにある計算をしてくれるコンピュータは、その中身を見せず、その計算結果をディスプレイに表示してくれます。\n",
        "つまり計算をさせる部分と計算の結果を示す部分があるわけです。\n",
        "実際のコンピュータにしても、計算をしているのは電気回路で、その結果を取り出す操作が必要となります。\n",
        "量子コンピュータでは、計算をしているのは原子分子レベルの微細に作られた量子回路で、その結果を取り出すために同じように特別な操作を必要とします。\n",
        "これを**「測定」**といいます。"
      ],
      "metadata": {
        "id": "TWIAgAtpYRvC"
      }
    },
    {
      "cell_type": "markdown",
      "source": [
        "その測定を行うためには、measureを利用します。"
      ],
      "metadata": {
        "id": "w38rjpWlZJiv"
      }
    },
    {
      "cell_type": "code",
      "source": [
        "qc5.append(cirq.measure(q[0], key='m'))"
      ],
      "metadata": {
        "id": "eRQknVldad5y"
      },
      "execution_count": null,
      "outputs": []
    },
    {
      "cell_type": "markdown",
      "source": [
        "ここまででどのような回路構成になっているのか調べるには、いつも通りprintを利用しましょう。"
      ],
      "metadata": {
        "id": "UD3eAFOWaNZ1"
      }
    },
    {
      "cell_type": "code",
      "source": [
        "print(qc5)"
      ],
      "metadata": {
        "id": "dESADisXaGpX"
      },
      "execution_count": null,
      "outputs": []
    },
    {
      "cell_type": "markdown",
      "source": [
        "Mがmeasurement、測定を表す記号です。"
      ],
      "metadata": {
        "id": "nL38v4mze1Qa"
      }
    },
    {
      "cell_type": "markdown",
      "source": [
        "早速実行してみましょう。\n",
        "ただしオプションとしてここではrepetitionsというものを指定します。\n",
        "これは量子回路を利用した計算を何度行うかというものです。\n",
        "同じ回路なんだから、何度やっても同じだろうと思うけれども、果たしてどうだろうか。"
      ],
      "metadata": {
        "id": "pS8-6Spdfktp"
      }
    },
    {
      "cell_type": "code",
      "source": [
        "res5 = sim.run(qc5, repetitions=1000)"
      ],
      "metadata": {
        "id": "X-9bOD_ZfUtH"
      },
      "execution_count": null,
      "outputs": []
    },
    {
      "cell_type": "markdown",
      "source": [
        "この例では1000回実行したが、その結果を見てみよう。"
      ],
      "metadata": {
        "id": "SSDuzmZHfr31"
      }
    },
    {
      "cell_type": "code",
      "source": [
        "counts = res5.histogram(key='m')\n",
        "print(counts)"
      ],
      "metadata": {
        "id": "0xRi2oTdfdKe"
      },
      "execution_count": null,
      "outputs": []
    },
    {
      "cell_type": "markdown",
      "source": [
        "回数に多少の違いがあるものの、0と1が同程度出ていることに気づくでしょう。\n",
        "**量子計算では、結果が確率的に出力される**というわけです。"
      ],
      "metadata": {
        "id": "qcD1YCWIgpod"
      }
    },
    {
      "cell_type": "markdown",
      "source": [
        "そこで先程のアダマール回路を経た状態がどのような係数を持っていたかを思い出すと、$1/\\sqrt{2}$でどちらも同じ係数でした。\n",
        "その係数こそが、出力される結果の確率を決めています。\n",
        "この場合であれば、ちょうど半々の$1/2$であったわけです。\n",
        "状態ベクトルの係数の二乗にあたる。量子回路を経て変化した0や1の係数は、出力結果に関係する確率振幅を与えるということがわかります。\n",
        "その確率振幅の二乗を計算すれば、その量子回路から出てくる結果の確率がわかるというわけです。\n",
        "\n",
        "これが古典的な論理回路との大きな違いです。\n",
        "これまでのデジタルコンピュータでは出力結果は0か1で決定的でした。\n",
        "多少のノイズや環境要因で結果が少しぐらつくことがあったとしても、基本的には0か1のどちらかのみでした。\n",
        "それが量子計算では、確率を使い、その確率を変動させることによって、答えへ導くというわけです。\n",
        "いわば0にかかる係数、そして1にかかる係数が100パーセント、係数がどちらかが1のままであったというのがデジタルコンピュータでの計算の様子というわけです。\n",
        "もちろんこれまでのコンピュータでも確率的な計算、というアイデアはあり、それを利用した計算手法はあります。\n",
        "ただ確率ですから、0.0から1.0までの連続的な値で確率0パーセントから100パーセントまでを示す数値である必要があります。\n",
        "しかし量子計算では、虚数単位がありました。0.0から1.0までとは限りません。正の値も負の値もあり得ます。\n",
        "その確率という実態に近づくまでに2乗するという計算が必要となります。\n",
        "その実態に迫るまでは、測定するまでは、なんでもあり、重ね合わせの状態で0と1の両方のことを考慮しながら、複素数を利用して計算することができるというところに、量子計算の工夫の余地があるということになります。"
      ],
      "metadata": {
        "id": "CbTtJbjqhWIj"
      }
    },
    {
      "cell_type": "markdown",
      "source": [
        "こうした量子回路を利用した計算では、状態ベクトルの係数を操作して、\n",
        "複数の異なる状態にまたがる状態ベクトルを用意することができます。\n",
        "この複数の異なる状態にまたがることを**重ね合わせの状態**と呼びます。\n",
        "そしてそのままだと、複数の答えが出てしまう、つまり確率的な結果が出てくるので、答えを絞り込むことが重要となってきます。\n",
        "\n",
        "この観点で見ると、反転のXだけでなく、YやZが登場する量子回路の計算の可能性に少しずつ気づいてくるのではないでしょうか。"
      ],
      "metadata": {
        "id": "oM-l_zPnjM1U"
      }
    },
    {
      "cell_type": "markdown",
      "source": [
        "### 確率振幅と複素数\n",
        "\n",
        "まずは重ね合わせの状態をアダマール回路を用いて作ってみましょう。"
      ],
      "metadata": {
        "id": "3e19MlzErFFm"
      }
    },
    {
      "cell_type": "code",
      "source": [
        "qc6 = cirq.Circuit()\n",
        "q0 = cirq.LineQubit.range(1)\n",
        "qc6.append(cirq.H(q[0]))"
      ],
      "metadata": {
        "id": "7oTDpMfprMK0"
      },
      "execution_count": null,
      "outputs": []
    },
    {
      "cell_type": "markdown",
      "source": [
        "ここまででどのような状態ベクトルになっているのかをみてみましょう。"
      ],
      "metadata": {
        "id": "s9HKzuNLrS5c"
      }
    },
    {
      "cell_type": "code",
      "source": [
        "res6 = sim.simulate(qc6)\n",
        "print(res6)"
      ],
      "metadata": {
        "id": "_tsaQ_oirv1b"
      },
      "execution_count": null,
      "outputs": []
    },
    {
      "cell_type": "markdown",
      "source": [
        "print文で見てもわかるように、これは0と1の重ね合わせ状態ということがわかります。\n",
        "さて、この状態に対して、新しい回路として、Rz回路を適用してみましょう。\n",
        "Rz回路は、z軸方向に角度$\\phi$だけ回転してくれるというものです。\n",
        "$\\phi=\\pi$であればZ回路と同じものになります。"
      ],
      "metadata": {
        "id": "xfokCJktsDq2"
      }
    },
    {
      "cell_type": "code",
      "source": [
        "import numpy as np\n",
        "\n",
        "phi = np.pi/2\n",
        "qc6.append(cirq.Rz(rads=phi)(q[0]))"
      ],
      "metadata": {
        "id": "yUSTVtP3sYU-"
      },
      "execution_count": null,
      "outputs": []
    },
    {
      "cell_type": "markdown",
      "source": [
        "回路全体は以下の通りです。"
      ],
      "metadata": {
        "id": "IoVlL09NsoDu"
      }
    },
    {
      "cell_type": "code",
      "source": [
        "print(qc6)"
      ],
      "metadata": {
        "id": "g7kW9XgFsna0"
      },
      "execution_count": null,
      "outputs": []
    },
    {
      "cell_type": "markdown",
      "source": [
        "状態ベクトルを図示してみると以下の通りです。"
      ],
      "metadata": {
        "id": "hDSUk-Tpsr6Z"
      }
    },
    {
      "cell_type": "code",
      "source": [
        "res6 = sim.simulate(qc6)"
      ],
      "metadata": {
        "id": "GCEXnCSxslEQ"
      },
      "execution_count": null,
      "outputs": []
    },
    {
      "cell_type": "code",
      "source": [
        "print(res6)"
      ],
      "metadata": {
        "id": "rLsrioRYwoUw"
      },
      "execution_count": null,
      "outputs": []
    },
    {
      "cell_type": "markdown",
      "source": [
        "この状態は係数が複素数$0.5-0.5i$および$0.5+0.5i$となっている状態ですから、\n",
        "もしも測定の結果、確率振幅の2乗で確率が決まるなら、それぞれ\n",
        "\n",
        "$(0.5-0.5i)^2 = 0.25-2*0.25-0.25 = -0.5$\n",
        "\n",
        "$(0.5+0.5i)^2 = 0.25+2*0.25-0.25 = 0.5$\n",
        "\n",
        "となりそうです。これだと確率が負になってしまいますから、何かおかしいです。\n",
        "確率振幅の単なる2乗ではなく、必ず正の値とするために**複素数の大きさの2乗**を計算する必要があります。\n",
        "\n",
        "$(0.5-0.5i)(0.5+0.5i) = 0.25+0.25 = 0.5$\n",
        "\n",
        "$(0.5+0.5i)(0.5-0.5i) = 0.25+0.25 = 0.5$\n",
        "\n",
        "こうするとどちらも半々の確率で結果が生じるということになります。\n",
        "実際に測定して調べてみることにしましょう。\n"
      ],
      "metadata": {
        "id": "HCW8u70vww68"
      }
    },
    {
      "cell_type": "code",
      "source": [
        "qc6.append(cirq.measure(q[0], key='m'))\n",
        "res6 = sim.run(qc6, repetitions=1000)\n",
        "counts = res6.histogram(key='m')\n",
        "print(counts)"
      ],
      "metadata": {
        "id": "kBwkGHlm1Wtf"
      },
      "execution_count": null,
      "outputs": []
    },
    {
      "cell_type": "markdown",
      "source": [
        "期待通りに半々の確率になりました。\n",
        "どちらかによらせることができれば、確率振幅を大きく・小さくしたりできそうです。\n",
        "\n",
        "そこでアダマール変換・次はY軸回転のRyを利用してみましょう。"
      ],
      "metadata": {
        "id": "z9xr3OS6sI8n"
      }
    },
    {
      "cell_type": "code",
      "source": [
        "qc7 = cirq.Circuit()\n",
        "q0 = cirq.LineQubit.range(1)\n",
        "qc7.append(cirq.H(q[0]))\n",
        "\n",
        "phi = np.pi/4\n",
        "qc7.append(cirq.Ry(rads=-phi)(q[0]))"
      ],
      "metadata": {
        "id": "QV3343ug28rp"
      },
      "execution_count": null,
      "outputs": []
    },
    {
      "cell_type": "code",
      "source": [
        "res7 = sim.simulate(qc7)\n",
        "print(res7)"
      ],
      "metadata": {
        "id": "f650BLJh35OS"
      },
      "execution_count": null,
      "outputs": []
    },
    {
      "cell_type": "markdown",
      "source": [
        "少し0よりにずれましたので、おそらく0が出やすい状態になったと思われます。\n",
        "実際に測定までしてみることにしましょう。\n"
      ],
      "metadata": {
        "id": "5dkG-peO3xB8"
      }
    },
    {
      "cell_type": "code",
      "source": [
        "qc7.append(cirq.measure(q[0], key='m'))\n",
        "res7 = sim.run(qc7, repetitions=1000)\n",
        "counts = res7.histogram(key='m')\n",
        "print(counts)"
      ],
      "metadata": {
        "id": "FJJ7duub4eKM"
      },
      "execution_count": null,
      "outputs": []
    },
    {
      "cell_type": "markdown",
      "source": [
        "確かに0が多く出るようになりました。\n",
        "ただこれではあまり意外性がないかもしれません。\n",
        "量子ビットを自分が望むように操作して、その通りになったというだけのことですから。\n",
        "もう少し意外な結果を招くためにはどうしたら良いでしょうか。\n",
        "\n",
        "そのためには複数の量子ビットを用意して動かしていくことになります。"
      ],
      "metadata": {
        "id": "p3M4RGj05qSb"
      }
    },
    {
      "cell_type": "markdown",
      "source": [
        "### 複数の量子ビット\n",
        "量子ビットを複数用意することは準備としてはさほど難しいことはありません。\n",
        "LineQubit.rangeの数を変えることで実現できます。"
      ],
      "metadata": {
        "id": "WCg9cn8k7QQb"
      }
    },
    {
      "cell_type": "code",
      "source": [
        "qc8 = cirq.Circuit()\n",
        "q = cirq.LineQubit.range(2)"
      ],
      "metadata": {
        "id": "cAgKHMQN7hA8"
      },
      "execution_count": null,
      "outputs": []
    },
    {
      "cell_type": "markdown",
      "source": [
        "複数の量子ビットとなると、その操作のバリエーションが一気に増えることになります。\n",
        "デジタルコンピュータの中で利用されている論理回路も、２つのビットにまたがる計算があります。\n",
        "同じように量子コンピュータでも２つの量子ビット演算というものが存在します。\n",
        "その一つがControl-X（制御X）回路です。"
      ],
      "metadata": {
        "id": "j3IZVXdK7kdf"
      }
    },
    {
      "cell_type": "code",
      "source": [
        "qc8.append(cirq.CNOT(q[0], q[1]))\n",
        "print(qc8)"
      ],
      "metadata": {
        "id": "c01M2ozQXDW4"
      },
      "execution_count": null,
      "outputs": []
    },
    {
      "cell_type": "markdown",
      "source": [
        "これは@で指定された量子ビット（制御量子ビット）が0の場合は何もしない、量子ビットが1の場合は、ペアとなる量子ビット（標的量子ビット）にXの演算をする操作です。Xは反転する操作ですから、ペアとなる量子ビットは、0から1に、1から0になります。\n",
        "早速実行してみましょう。cirqではそれぞれ量子ビットは0にセットされているものですから、何もこのままでは起こりません。\n",
        "そこで最初に制御量子ビットを反転しておきましょう。"
      ],
      "metadata": {
        "id": "Z9pyys8o9EPZ"
      }
    },
    {
      "cell_type": "code",
      "source": [
        "qc8 = cirq.Circuit()\n",
        "q = cirq.LineQubit.range(2)"
      ],
      "metadata": {
        "id": "pvIPOypT-Cqc"
      },
      "execution_count": null,
      "outputs": []
    },
    {
      "cell_type": "code",
      "source": [
        "qc8.append(cirq.X(q[0]))\n",
        "qc8.append(cirq.CNOT(q[0],q[1]))\n",
        "print(qc8)"
      ],
      "metadata": {
        "id": "gM212R5z-E_t"
      },
      "execution_count": null,
      "outputs": []
    },
    {
      "cell_type": "code",
      "source": [
        "from cirq.contrib.svg import SVGCircuit\n",
        "SVGCircuit(qc8)"
      ],
      "metadata": {
        "id": "_wAEceOmYl8M"
      },
      "execution_count": null,
      "outputs": []
    },
    {
      "cell_type": "markdown",
      "source": [
        "さてこの結果はどうなるでしょうか。制御量子ビットは0から1に変更を受けて、その結果を受けて、制御X回路が動作して標的量子ビットも0から1に反転します。"
      ],
      "metadata": {
        "id": "Qd-vNakM-K5C"
      }
    },
    {
      "cell_type": "code",
      "source": [
        "res8 = sim.simulate(qc8)\n",
        "print(res8)"
      ],
      "metadata": {
        "id": "GoLNqxnT-Y4K"
      },
      "execution_count": null,
      "outputs": []
    },
    {
      "cell_type": "code",
      "source": [
        "print(res8.final_state_vector)"
      ],
      "metadata": {
        "id": "RiWncl7AgnRT"
      },
      "execution_count": null,
      "outputs": []
    },
    {
      "cell_type": "markdown",
      "source": [
        "この４つの数字は左から順々に、00,01,10,11の４つの状態の確率振幅を示しています。\n",
        "つまり11になる確率が100パーセントだというわけで、所望の動作をしていることがわかります。"
      ],
      "metadata": {
        "id": "dRK8-O2v-txz"
      }
    },
    {
      "cell_type": "markdown",
      "source": [
        "それでは制御量子ビットが重ね合わせの状態にある場合は、どうでしょうか？\n",
        "実は0の場合と1の場合の両者の場合について計算することができます。\n",
        "これが量子計算の驚くべき性質です。"
      ],
      "metadata": {
        "id": "ID-I2mKt-h0v"
      }
    },
    {
      "cell_type": "code",
      "source": [
        "qc9 = cirq.Circuit()\n",
        "q = cirq.LineQubit.range(2)"
      ],
      "metadata": {
        "id": "8UB26_o0DOAg"
      },
      "execution_count": null,
      "outputs": []
    },
    {
      "cell_type": "markdown",
      "source": [
        "アダマール回路を利用して、制御量子ビットに重ね合わせの状態を作っておきます。\n",
        "その後に制御X回路を適用してみましょう。"
      ],
      "metadata": {
        "id": "CU7MsZliDQdm"
      }
    },
    {
      "cell_type": "code",
      "source": [
        "qc9.append(cirq.H(q[0]))\n",
        "qc9.append(cirq.CNOT(q[0],q[1]))\n",
        "SVGCircuit(qc9)"
      ],
      "metadata": {
        "id": "7AuBsOtzDbEr"
      },
      "execution_count": null,
      "outputs": []
    },
    {
      "cell_type": "markdown",
      "source": [
        "この結果を見てみます。制御量子ビットが0の場合、1の場合の両方の結果を標的量子ビットに適用することになリマス。\n",
        "そのままと反転するという結果です。"
      ],
      "metadata": {
        "id": "tbM6dqJ-DmCX"
      }
    },
    {
      "cell_type": "code",
      "source": [
        "res9 = sim.simulate(qc9)\n",
        "print(res9)"
      ],
      "metadata": {
        "id": "jJpxR_2UDkcz"
      },
      "execution_count": null,
      "outputs": []
    },
    {
      "cell_type": "code",
      "source": [
        "print(res9.final_state_vector)"
      ],
      "metadata": {
        "id": "3EG-BRQwD7VA"
      },
      "execution_count": null,
      "outputs": []
    },
    {
      "cell_type": "markdown",
      "source": [
        "この結果を見ると、00と11という結果が半々になっています。\n",
        "制御量子ビットが0の場合、標的量子ビットを0のままにしておくのだから00、\n",
        "制御量子ビットが1の場合、標的量子ビットを0から1にするのだから11になります。\n",
        "確かにその通りになっていることがわかります。\n",
        "このように量子計算では、重ね合わせの状態を利用して、どちらの場合の計算結果も反映させて、計算を続けることができます。\n",
        "そのため0の場合、1の場合、それぞれ試す必要はなく、\n",
        "同時に試すことができる、などと表現したりするわけです。"
      ],
      "metadata": {
        "id": "a-StOGg1EE2g"
      }
    },
    {
      "cell_type": "markdown",
      "source": [
        "でもその表現は、正確には間違いです。\n",
        "0の場合、1の場合を試すことができるのはその通りなのですが、その試した結果どうなっているのかは、実際には「測定」した後の結果を見るしかできないために、そのどちらかしか出てきません。\n",
        "そうすると、最低でも2回、下手すると何度かやってみないと両者の結果がどうなったのかを調べることができないのです。\n",
        "その意味で量子計算は、**重ね合わせの状態を利用**して、同時に試すことができるが、\n",
        "その両者の場合にどうなっているのかをそれぞれ調べるのは、やはり同じ数だけ試す必要が出てきます。\n",
        "そのため量子計算の基本は、うまくいっているものだけを取り出すような計算にすることが求められます。\n",
        "複数の数字のうち、うまく割り切ってくれるものだけを取り出す\n",
        "複数の候補のうち、欲しいものだけを取り出す。\n",
        "前者は有名なショアのアルゴリズム。\n",
        "後者はグローバーの探索アルゴリズムというわけです。"
      ],
      "metadata": {
        "id": "PRwiPWENGyYD"
      }
    }
  ]
}