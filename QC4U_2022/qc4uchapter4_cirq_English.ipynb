{
  "nbformat": 4,
  "nbformat_minor": 0,
  "metadata": {
    "colab": {
      "private_outputs": true,
      "provenance": [],
      "collapsed_sections": [],
      "include_colab_link": true
    },
    "kernelspec": {
      "name": "python3",
      "display_name": "Python 3"
    },
    "language_info": {
      "name": "python"
    }
  },
  "cells": [
    {
      "cell_type": "markdown",
      "metadata": {
        "id": "view-in-github",
        "colab_type": "text"
      },
      "source": [
        "<a href=\"https://colab.research.google.com/github/yoshihiroo/programming-workshop/blob/master/QC4U_2022/qc4uchapter4_cirq_English.ipynb\" target=\"_parent\"><img src=\"https://colab.research.google.com/assets/colab-badge.svg\" alt=\"Open In Colab\"/></a>"
      ]
    },
    {
      "cell_type": "markdown",
      "source": [
        "# QC4U Day4 Cirq porting\n",
        "2022.10.15 Updated."
      ],
      "metadata": {
        "id": "lvG-lQ-pJovD"
      }
    },
    {
      "cell_type": "markdown",
      "source": [
        "This is an attempt to porting of the [QC4U](https://altema.is.tohoku.ac.jp/QC4U/) code written by Prof. Ohzeki of Tohoku University into Cirq for my recap and understanding. I am stealing with pride the almost all text of the explanation from the original site. (The article has been published with Prof. Ohzeki's permission.)\n",
        "\n",
        "[The original code of Day 4](https://colab.research.google.com/gist/mohzeki222/202865a9fcc45bd37dc2e124d9ab0a84/qc4uchapter4.ipynb)"
      ],
      "metadata": {
        "id": "cOztWLIKJvBw"
      }
    },
    {
      "cell_type": "markdown",
      "source": [
        "# Installing Cirq\n",
        "\n",
        "Without further ado, let's explore the possibilities of quantum computing again this time!\n",
        "First, install Cirq provided by Google."
      ],
      "metadata": {
        "id": "SowVGevA_i1D"
      }
    },
    {
      "cell_type": "code",
      "execution_count": null,
      "metadata": {
        "id": "PqwFT-7G-0RF"
      },
      "outputs": [],
      "source": [
        "pip install cirq"
      ]
    },
    {
      "cell_type": "markdown",
      "source": [
        "First, prepare the modules you always use."
      ],
      "metadata": {
        "id": "X6YQwgm2_ucd"
      }
    },
    {
      "cell_type": "code",
      "source": [
        "import cirq"
      ],
      "metadata": {
        "id": "Abqblmi-_t6a"
      },
      "execution_count": null,
      "outputs": []
    },
    {
      "cell_type": "markdown",
      "source": [
        "### Previous Recap.\n",
        "\n",
        "So far we have learned H, X, Z, and the control Z-gate.\n",
        "Each of them is characterized by H = superposition, X = inversion, and Z = scratch (negative sign for only |1>).\n",
        "And the control Z-gate was to scratch only|11>.\n",
        "By combining these features to create a qubit interaction, we were able to simulate what was happening within matter."
      ],
      "metadata": {
        "id": "-yKDyQLO_1xm"
      }
    },
    {
      "cell_type": "markdown",
      "source": [
        "For example, in a magnet, spins, which are like pieces of a magnet, are constantly changing direction.\n",
        "However, the interactions between neighboring spins, which try to align their orientations, tend to align the overall orientation.\n",
        "The overall orientation tends to be aligned.\n",
        "Some of the factors that interfere with this are of environmental origin, such as thermal fluctuations, while others can be prevented through the manipulation of the spins by toppling their orientation.\n",
        "\n",
        "Let us consider a quantum circuit that simulates such a situation.\n",
        "You created that interaction last time.\n",
        "Let us assume that the spin (piece of a magnet) of a qubit is upward directed at the qubit's |0> and downward directed at the qubit's |1>, and let us assume that the spin of the qubit is parallel or antiparallel to the spin of the magnet.\n",
        "We created a circuit such that the probability amplitude remains the same when each direction is aligned parallel or antiparallel, and is negative when the direction is upside down."
      ],
      "metadata": {
        "id": "MdpewFEnAP0c"
      }
    },
    {
      "cell_type": "code",
      "source": [
        "qc = cirq.Circuit()\n",
        "q = cirq.LineQubit.range(2)\n",
        "\n",
        "qc.append(cirq.CNOT(q[0], q[1]))\n",
        "qc.append(cirq.Z(q[1]))\n",
        "qc.append(cirq.CNOT(q[0], q[1]))"
      ],
      "metadata": {
        "id": "pmVQhCcz_1EA"
      },
      "execution_count": null,
      "outputs": []
    },
    {
      "cell_type": "markdown",
      "source": [
        "When you looked at the circuit, it was print or SVGCircuit."
      ],
      "metadata": {
        "id": "IrXVyAqFBgpe"
      }
    },
    {
      "cell_type": "code",
      "source": [
        "#print(qc)\n",
        "from cirq.contrib.svg import SVGCircuit\n",
        "SVGCircuit(qc)"
      ],
      "metadata": {
        "id": "yIuv_2LN_zEw"
      },
      "execution_count": null,
      "outputs": []
    },
    {
      "cell_type": "markdown",
      "source": [
        "If you want to see what kind of results you will get, run the simulation.\n",
        "We will again use our own function that we created last time."
      ],
      "metadata": {
        "id": "2HrVgS1bCKS3"
      }
    },
    {
      "cell_type": "code",
      "source": [
        "import numpy as np\n",
        "def sim_state(qc,disp=True):\n",
        "  res = sim.simulate(qc)\n",
        "  if disp == True:\n",
        "    print(cirq.dirac_notation(np.array(res.final_state_vector)))\n",
        "  return res"
      ],
      "metadata": {
        "id": "RdLJecDBVPfP"
      },
      "execution_count": null,
      "outputs": []
    },
    {
      "cell_type": "markdown",
      "source": [
        "This time, since we are also interested in the result of which state will eventually be output, let's provide a function that can also display a histogram based on that probability.\n",
        "So, let's prepare a function that can also display a histogram based on that probability."
      ],
      "metadata": {
        "id": "hgO2Q9INYuUq"
      }
    },
    {
      "cell_type": "code",
      "source": [
        "def sim_state_exp(qc):\n",
        "  qc.append(cirq.measure(q, key='m'))\n",
        "  res = sim.run(qc, repetitions=1000)\n",
        "  counts = res.histogram(key='m')\n",
        "  return res"
      ],
      "metadata": {
        "id": "EzgLydO0YfFp"
      },
      "execution_count": null,
      "outputs": []
    },
    {
      "cell_type": "code",
      "source": [
        "sim = cirq.Simulator()\n",
        "state = sim_state(qc)"
      ],
      "metadata": {
        "id": "rdJ7w7LSCY8a"
      },
      "execution_count": null,
      "outputs": []
    },
    {
      "cell_type": "code",
      "source": [
        "import matplotlib.pyplot as plt\n",
        "\n",
        "def binary_labels(num_qubits):\n",
        "    return [bin(x)[2:].zfill(num_qubits) for x in range(2 ** num_qubits)]\n",
        "\n",
        "ans = sim_state_exp(qc)\n",
        "cirq.plot_state_histogram(ans, plt.subplot(), tick_label=binary_labels(2))\n",
        "plt.show()"
      ],
      "metadata": {
        "id": "AP7GRJmNY27t"
      },
      "execution_count": null,
      "outputs": []
    },
    {
      "cell_type": "markdown",
      "source": [
        "The initial condition of the qubit input to the quantum circuit is |00>, so the result was returned as is.\n",
        "To find out what happens when various inputs are put in, we can use the Hadamard circuit."
      ],
      "metadata": {
        "id": "ApTcYjyzCn1B"
      }
    },
    {
      "cell_type": "code",
      "source": [
        "qc2 = cirq.Circuit()\n",
        "q = cirq.LineQubit.range(2)\n",
        "\n",
        "\n",
        "#2 qubits in superposition state\n",
        "qc2.append(cirq.H.on_each(q))\n",
        "\n",
        "qc2.append(cirq.CNOT(q[0], q[1]))\n",
        "qc2.append(cirq.Z(q[1]))\n",
        "qc2.append(cirq.CNOT(q[0], q[1]))"
      ],
      "metadata": {
        "id": "oy8_eDWvCnNt"
      },
      "execution_count": null,
      "outputs": []
    },
    {
      "cell_type": "code",
      "source": [
        "SVGCircuit(qc2)"
      ],
      "metadata": {
        "id": "yyu9xxAxEpze"
      },
      "execution_count": null,
      "outputs": []
    },
    {
      "cell_type": "code",
      "source": [
        "state2 = sim_state(qc2)"
      ],
      "metadata": {
        "id": "f-toeKk1Esuv"
      },
      "execution_count": null,
      "outputs": []
    },
    {
      "cell_type": "markdown",
      "source": [
        "As we had hoped, the sign of the probability amplitude over the|00> and|11> remained the same, and when the two qubits were different, as in the case of|01> and|10>, the sign was reversed."
      ],
      "metadata": {
        "id": "mo0IBVV_B_lx"
      }
    },
    {
      "cell_type": "markdown",
      "source": [
        "Inside matter, microscopic objects on the atomic scale evolve in time according to quantum mechanics.\n",
        "The rules are quite simple: just multiply the exponential function by an imaginary number, energy, and time.\n",
        "\n",
        "If both spins are aligned, the energy goes down (the spin thinks that's a good deal), and if they are mutually exclusive, the energy goes up (the spin thinks that's a loss). Consider such a situation. This is the Ising model, known as the standard model of magnets.\n",
        "In this case, let's make the Z-circuit a rotating Z-circuit and vary its angle with time."
      ],
      "metadata": {
        "id": "ua7bC1l0E6mW"
      }
    },
    {
      "cell_type": "code",
      "source": [
        "qc3 = cirq.Circuit()\n",
        "q = cirq.LineQubit.range(2)\n",
        "\n",
        "theta = 0.3\n",
        "\n",
        "qc3.append(cirq.H.on_each(q))\n",
        "\n",
        "qc3.append(cirq.CNOT(q[0], q[1]))\n",
        "qc3.append(cirq.rz(theta).on(q[1]))\n",
        "qc3.append(cirq.CNOT(q[0], q[1]))"
      ],
      "metadata": {
        "id": "cweTB7c0B-1q"
      },
      "execution_count": null,
      "outputs": []
    },
    {
      "cell_type": "code",
      "source": [
        "SVGCircuit(qc3)"
      ],
      "metadata": {
        "id": "aOD_CRmRBe_g"
      },
      "execution_count": null,
      "outputs": []
    },
    {
      "cell_type": "code",
      "source": [
        "state3 = sim_state(qc3)"
      ],
      "metadata": {
        "id": "es9qrnooF570"
      },
      "execution_count": null,
      "outputs": []
    },
    {
      "cell_type": "markdown",
      "source": [
        "When the qubits (spins) are aligned, the imaginary part is (-), and when they are mutually different, the imaginary part is (+), showing the difference, right?\n",
        "This indicates that the probability amplitude changes depending on the energy, and the direction of the amplitude depends on the sign of the energy.\n",
        "\n",
        "### Eigenstates and Quantum Calculations\n",
        "\n",
        "Next, let's consider manipulating the spin orientation.\n",
        "This is where the X-gate, or rotational X-gate, comes in.\n",
        "\n",
        "If we continue to apply this, we will constantly change the orientation of the object to|0> and|1>.\n"
      ],
      "metadata": {
        "id": "ibY7DOwFGLNy"
      }
    },
    {
      "cell_type": "code",
      "source": [
        "qc4 = cirq.Circuit()\n",
        "q = cirq.LineQubit.range(1)\n",
        "\n",
        "theta = 0.3\n",
        "\n",
        "qc4.append(cirq.rx(theta).on(q[0]))"
      ],
      "metadata": {
        "id": "wcqV89gBF_nU"
      },
      "execution_count": null,
      "outputs": []
    },
    {
      "cell_type": "code",
      "source": [
        "SVGCircuit(qc4)"
      ],
      "metadata": {
        "id": "v2FEWqFLHm0i"
      },
      "execution_count": null,
      "outputs": []
    },
    {
      "cell_type": "code",
      "source": [
        "state4 = sim_state(qc4)"
      ],
      "metadata": {
        "id": "2LfJwew3Hn9y"
      },
      "execution_count": null,
      "outputs": []
    },
    {
      "cell_type": "code",
      "source": [
        "from cirq_web import BlochSphere\n",
        "display(BlochSphere(state_vector=cirq.to_valid_state_vector(state4.final_state_vector)))"
      ],
      "metadata": {
        "id": "1itypZucb8BB"
      },
      "execution_count": null,
      "outputs": []
    },
    {
      "cell_type": "markdown",
      "source": [
        "We can see that the state is gradually transitioning from|0> to|1>.\n",
        "The way this probability amplitude changes is also characteristic.\n",
        "\n",
        "As we saw earlier, the probability amplitude was preserved as it is when the initial condition is |00>.\n",
        "Also, even if the Hadamard circuit is used to superimpose the probability amplitude on the condition of|00>, |01>, |10>, and |11>, the magnitude of each of them does not actually change.\n",
        "In other words, the probability of occurrence of the result remains the same.\n",
        "In this sense, the state of the system does not change.\n",
        "Such a state is called an eigenstate, and each quantum circuit has its own eigenstate.\n",
        "\n",
        "On the other hand, the rotating X-gate (and X-gate) changes the probability amplitude of the |0> state and transfers it to the other state, |1>.\n",
        "This indicates that for a rotating X-gate, neither|0> nor|1> is an eigenstate.\n",
        "\n",
        "In quantum computation, we need to hurt the probability amplitude, and\n",
        "and reducing the probability amplitude and transitioning to another state is skillfully used to achieve the desired result.\n",
        "The key concept is whether it is an eigenstate or not.\n",
        "The states |0> and |1> are eigenstates with respect to Z-related effects.\n",
        "Therefore, another action, such as an X-gate, is needed to move the qubit or change the probability amplitude.\n",
        "\n",
        "Incidentally, the X-gate has the superposition state as an eigenstate."
      ],
      "metadata": {
        "id": "EyTRlRPmH5UA"
      }
    },
    {
      "cell_type": "code",
      "source": [
        "qc5 = cirq.Circuit()\n",
        "q = cirq.LineQubit.range(1)\n",
        "\n",
        "theta = 0.3\n",
        "\n",
        "qc5.append(cirq.H(q[0]))\n",
        "qc5.append(cirq.rx(theta).on(q[0]))"
      ],
      "metadata": {
        "id": "jwtFR2QqHv2g"
      },
      "execution_count": null,
      "outputs": []
    },
    {
      "cell_type": "code",
      "source": [
        "SVGCircuit(qc5)"
      ],
      "metadata": {
        "id": "buccTgZKKP74"
      },
      "execution_count": null,
      "outputs": []
    },
    {
      "cell_type": "code",
      "source": [
        "state5 = sim_state(qc5)"
      ],
      "metadata": {
        "id": "1oRrYZHGKVtn"
      },
      "execution_count": null,
      "outputs": []
    },
    {
      "cell_type": "markdown",
      "source": [
        "It is an eigenstate because we are only changing the probability amplitude while keeping the cohesion of the superposition state of |0>+|1>.\n",
        "\n",
        "So what happens when we apply a rotating Z-gate to this quantum state?"
      ],
      "metadata": {
        "id": "vB490VHELOHs"
      }
    },
    {
      "cell_type": "code",
      "source": [
        "qc6 = cirq.Circuit()\n",
        "q = cirq.LineQubit.range(1)\n",
        "\n",
        "theta = 0.3\n",
        "\n",
        "qc6.append(cirq.H(q[0]))\n",
        "qc6.append(cirq.rz(theta).on(q[0]))"
      ],
      "metadata": {
        "id": "9Ic1zHBRLKKb"
      },
      "execution_count": null,
      "outputs": []
    },
    {
      "cell_type": "code",
      "source": [
        "SVGCircuit(qc6)"
      ],
      "metadata": {
        "id": "03o02K6kMv4r"
      },
      "execution_count": null,
      "outputs": []
    },
    {
      "cell_type": "code",
      "source": [
        "state6 = sim_state(qc6)"
      ],
      "metadata": {
        "id": "KqBhZ_i2Mv0z"
      },
      "execution_count": null,
      "outputs": []
    },
    {
      "cell_type": "markdown",
      "source": [
        "The respective magnitudes of the probability amplitudes do not change because each of the |0> and |1> is an eigenstate of the Z-gate.\n",
        "However, the superposition is broken.\n",
        "They are not the same coefficients.\n",
        "When the Hadamard circuit is applied to the superposition state, it returns to |0>.\n",
        "You could use that to see the degree of superposition state.\n",
        "We did the same thing with Grover's algorithm.\n",
        "Now let's apply the Hadamard circuit."
      ],
      "metadata": {
        "id": "DskXf4IWM9GD"
      }
    },
    {
      "cell_type": "code",
      "source": [
        "qc6.append(cirq.H(q[0]))\n"
      ],
      "metadata": {
        "id": "dCkSR95OMzE5"
      },
      "execution_count": null,
      "outputs": []
    },
    {
      "cell_type": "code",
      "source": [
        "state6 = sim_state(qc6)"
      ],
      "metadata": {
        "id": "Ucwssf6zNmBV"
      },
      "execution_count": null,
      "outputs": []
    },
    {
      "cell_type": "markdown",
      "source": [
        "The collapse of the superposition has affected the state of the overlap, and the state of |1> has popped up.\n",
        "From the superposition state, a rotating Z-gate was applied to collapse it.\n",
        "After going through the Hadamard circuit, we were able to separate the part of the superposition that was holding and the part that was collapsing.\n",
        "The Hadamard circuit corresponds to a 90-degree rotation when expressed in terms of a rotational X-gate.\n",
        "Therefore, the rotating X-gate is used to preserve the part of the superposition state and separate the other parts.\n"
      ],
      "metadata": {
        "id": "FQkqmbTvOIit"
      }
    },
    {
      "cell_type": "code",
      "source": [
        "qc7 = cirq.Circuit()\n",
        "q = cirq.LineQubit.range(1)\n",
        "\n",
        "theta = 0.3\n",
        "\n",
        "qc7.append(cirq.H(q[0]))\n",
        "qc7.append(cirq.rz(theta).on(q[0]))\n",
        "qc7.append(cirq.rx(theta).on(q[0]))"
      ],
      "metadata": {
        "id": "8rXyqhncNoi-"
      },
      "execution_count": null,
      "outputs": []
    },
    {
      "cell_type": "code",
      "source": [
        "SVGCircuit(qc7)"
      ],
      "metadata": {
        "id": "vMiZ1gcgOtFy"
      },
      "execution_count": null,
      "outputs": []
    },
    {
      "cell_type": "code",
      "source": [
        "state7 = sim_state(qc7)"
      ],
      "metadata": {
        "id": "kJiLMG3kPEqA"
      },
      "execution_count": null,
      "outputs": []
    },
    {
      "cell_type": "markdown",
      "source": [
        "Calculating the square of the magnitude of the amplitude, we find that the value for|0> is about 0.535 and that for|1> is about 0.465.\n",
        "The probability of occurrence is slightly higher for|0>."
      ],
      "metadata": {
        "id": "fnV0U6BLPY5z"
      }
    },
    {
      "cell_type": "code",
      "source": [
        "ans = sim_state_exp(qc7)\n",
        "cirq.plot_state_histogram(ans, plt.subplot(), tick_label=binary_labels(1))\n",
        "plt.show()"
      ],
      "metadata": {
        "id": "36i8HZdfaWoN"
      },
      "execution_count": null,
      "outputs": []
    },
    {
      "cell_type": "markdown",
      "source": [
        "The state of|0> is taken out of the superposition of|0> and|1>.\n",
        "This suggests that Rz is squeezing out the state of the overlap.\n",
        "Rx is responsible for pushing out the other collapsed states while leaving the superposition intact.\n",
        "Rz is collapsing the amplitudes of the overlap states of |0> and |1>.\n",
        "\n",
        "### Quantum Annealing\n",
        "\n",
        "Now recall that Rz is a rotation, and that the angle of rotation corresponds to the energy of a qubit or spin in quantum mechanics.\n",
        "A qubit pointing upward now has its probability amplitude unchanged, while a qubit pointing downward now has a negative probability amplitude. Interpreting this in the same way as before, let's think that the upward direction corresponds to a situation where the energy goes down (a bargain) and the downward direction corresponds to a situation where the energy goes up (a loss).\n",
        "Then we see the gradual emergence of the upward qubit state, which is the profitable state.\n",
        "\n",
        "An algorithm that takes advantage of this to extract the lowest energy ground state is called\n",
        "quantum annealing.\n",
        "In quantum annealing.\n",
        "At first, the action of the rotating X-gate is kept strong and the Z-related gate is kept weak (superposition state), and\n",
        "Finally, the action of the rotating X-gate is weakened and the Z-related gate is strengthened.\n"
      ],
      "metadata": {
        "id": "-GUmGbfHagUr"
      }
    },
    {
      "cell_type": "code",
      "source": [
        "qc8 = cirq.Circuit()\n",
        "q = cirq.LineQubit.range(1)\n",
        "\n",
        "theta = 0.1\n",
        "\n",
        "qc8.append(cirq.H(q[0]))\n",
        "\n",
        "Tall = 100\n",
        "for k in range(Tall):\n",
        "  qc8.append(cirq.rz(theta*k/Tall).on(q[0]))\n",
        "  qc8.append(cirq.rx(theta*(1-k/Tall)).on(q[0]))"
      ],
      "metadata": {
        "id": "SHQC2q18PHa-"
      },
      "execution_count": null,
      "outputs": []
    },
    {
      "cell_type": "code",
      "source": [
        "SVGCircuit(qc8)"
      ],
      "metadata": {
        "id": "yzxSSW49PTER"
      },
      "execution_count": null,
      "outputs": []
    },
    {
      "cell_type": "code",
      "source": [
        "state8 = sim_state(qc8)"
      ],
      "metadata": {
        "id": "zh6GiaR_PWOH"
      },
      "execution_count": null,
      "outputs": []
    },
    {
      "cell_type": "code",
      "source": [
        "ans8 = sim_state_exp(qc8)\n",
        "cirq.plot_state_histogram(ans8, plt.subplot(), tick_label=binary_labels(1))\n",
        "plt.show()"
      ],
      "metadata": {
        "id": "gr-NwjTIakLF"
      },
      "execution_count": null,
      "outputs": []
    },
    {
      "cell_type": "markdown",
      "source": [
        "Only the well|0> states can be obtained with large probability.\n",
        "The same can be done for multiple qubits.\n"
      ],
      "metadata": {
        "id": "3Go45o75Tx4M"
      }
    },
    {
      "cell_type": "code",
      "source": [
        "qc9 = cirq.Circuit()\n",
        "q = cirq.LineQubit.range(2)\n",
        "\n",
        "theta = 0.2\n",
        "\n",
        "qc9.append(cirq.H.on_each(q))\n",
        "\n",
        "Tall = 100\n",
        "for k in range(Tall):\n",
        "  qc9.append(cirq.rx(theta*(1-k/Tall)).on_each(q))\n",
        "\n",
        "  qc9.append(cirq.CNOT(q[0], q[1]))\n",
        "  qc9.append(cirq.rz(theta*k/Tall).on(q[1]))\n",
        "  qc9.append(cirq.CNOT(q[0], q[1]))"
      ],
      "metadata": {
        "id": "58-ejbipRqWS"
      },
      "execution_count": null,
      "outputs": []
    },
    {
      "cell_type": "code",
      "source": [
        "SVGCircuit(qc9)"
      ],
      "metadata": {
        "id": "mtSKZgzmUNx_"
      },
      "execution_count": null,
      "outputs": []
    },
    {
      "cell_type": "code",
      "source": [
        "state9 = sim_state(qc9)"
      ],
      "metadata": {
        "id": "5RxWx86qUUcd"
      },
      "execution_count": null,
      "outputs": []
    },
    {
      "cell_type": "code",
      "source": [
        "ans9 = sim_state_exp(qc9)\n",
        "cirq.plot_state_histogram(ans9, plt.subplot(), tick_label=binary_labels(2))\n",
        "plt.show()"
      ],
      "metadata": {
        "id": "KptuvpV5awB3"
      },
      "execution_count": null,
      "outputs": []
    },
    {
      "cell_type": "markdown",
      "source": [
        "As you aim, you will get either |00> or |11> with very high probability.\n",
        "\n",
        "We should be able to use this for general Ising models.\n",
        "Even this simple one of|0> and|1>, if we expand its interpretation, we can come up with so many applications.\n",
        "It is better to be left or right instead of up or down, or to let a quantum computer choose, etc.\n",
        "Or, \"Should I choose a science course or a liberal arts course? Let the quantum computer make the choice, for example.\n",
        "It is not just one of the two options, but many other factors are involved, and it is difficult to decide what is the appropriate choice. In such cases, just as with energy, there is or can be set a numerical indicator that shows which is preferable, and the best choice is taken out.\n",
        "Mathematical problems with such a goal are called combinatorial optimization problems.\n",
        "Quantum annealing can solve such combinatorial optimization problems.\n"
      ],
      "metadata": {
        "id": "D1n9u042Ub-0"
      }
    },
    {
      "cell_type": "code",
      "source": [
        "class QA(cirq.Gate):\n",
        "  def __init__(self,J,h,s1,s2):\n",
        "    self.J = J\n",
        "    self.h = h\n",
        "    self.s1 = s1\n",
        "    self.s2 = s2\n",
        "    self.n = len(self.h)\n",
        "\n",
        "  def _num_qubits_(self):\n",
        "    return self.n\n",
        "\n",
        "  def _decompose_(self, qubits):\n",
        "    q = qubits\n",
        "\n",
        "    #Rotating X-gate for entire qubit\n",
        "    yield cirq.rx(self.s1).on_each(q)\n",
        "\n",
        "    #Rotating Z-gate etc. based on J and h throughout the qubit\n",
        "    for i in range(self.n):\n",
        "      yield cirq.rz(self.s2*self.h[i]).on(q[i])\n",
        "\n",
        "    for i in range(self.n):\n",
        "      for j in range(self.n):\n",
        "        if i != j:\n",
        "          yield cirq.CNOT(q[i], q[j])\n",
        "          yield cirq.rz(self.s2*J[i,j]).on(q[j])\n",
        "          yield cirq.CNOT(q[i], q[j])\n",
        "\n",
        "  def _circuit_diagram_info_(self, args):\n",
        "    return [\"Uqubo\"] * self.num_qubits()"
      ],
      "metadata": {
        "id": "XTAbaD5mUYPr"
      },
      "execution_count": null,
      "outputs": []
    },
    {
      "cell_type": "markdown",
      "source": [
        "Now let's make a suitable problem."
      ],
      "metadata": {
        "id": "GXuwHc-OXvP9"
      }
    },
    {
      "cell_type": "code",
      "source": [
        "n = 3\n",
        "J = - np.ones(n**2).reshape(n,n)\n",
        "h = np.zeros(n)"
      ],
      "metadata": {
        "id": "PU5pU1N9Xxe-"
      },
      "execution_count": null,
      "outputs": []
    },
    {
      "cell_type": "markdown",
      "source": [
        "It is a pair of three qubits that interact with each other.\n",
        "However, let|01> and|10> be in a low energy (gain) state and let|00> and|11> be in a high energy (loss) state. This is called the antiferromagnetic Ising model.\n",
        "This creates a state of frustration, where all spins are in a 3-spin state, and it is hard to know which one to point up."
      ],
      "metadata": {
        "id": "33ylgMqH66Zb"
      }
    },
    {
      "cell_type": "markdown",
      "source": [
        "In theoretical quantum annealing, it is better to make the change little by little, so vary the strength of the rotating X and Z related gates by k/Tall and (1-k/Tall) while applying very small dt."
      ],
      "metadata": {
        "id": "-FGvb61P7ajY"
      }
    },
    {
      "cell_type": "code",
      "source": [
        "#Number of Steps\n",
        "Tall = 100\n",
        "dt = 0.01\n",
        "\n",
        "qc10 = cirq.Circuit()\n",
        "q = cirq.LineQubit.range(n)\n",
        "\n",
        "#Start with a superposition\n",
        "qc10.append(cirq.H.on_each(q))\n",
        "\n",
        "for k in range(Tall):\n",
        "  s1 = dt*(1 - k/Tall)\n",
        "  s2 = dt*k/Tall\n",
        "  Uqubo = QA(J, h, s1, s2)\n",
        "  qc10.append(Uqubo.on(*q))"
      ],
      "metadata": {
        "id": "01ybcQGlXSjn"
      },
      "execution_count": null,
      "outputs": []
    },
    {
      "cell_type": "code",
      "source": [
        "state10 = sim_state(qc10)"
      ],
      "metadata": {
        "id": "9Aplf_ZoX9AX"
      },
      "execution_count": null,
      "outputs": []
    },
    {
      "cell_type": "code",
      "source": [
        "def binary_labels(num_qubits):\n",
        "    return [bin(x)[2:].zfill(num_qubits) for x in range(2 ** num_qubits)]\n",
        "\n",
        "ans10 = sim_state_exp(qc10)\n",
        "cirq.plot_state_histogram(ans10, plt.subplot(), tick_label=binary_labels(n))\n",
        "plt.show()"
      ],
      "metadata": {
        "id": "n6jVnrC3YK66"
      },
      "execution_count": null,
      "outputs": []
    },
    {
      "cell_type": "markdown",
      "source": [
        "This shows that certain states have a high probability of being selected.\n",
        "We can see which ones to choose, such as|001>,|010>, and|100>, and which ones to choose.\n",
        "And also candidates such as|011>,|010>, and|110> are appearing."
      ],
      "metadata": {
        "id": "KiR-2hiobsPa"
      }
    },
    {
      "cell_type": "markdown",
      "source": [
        "### QAOA (Quantum Approximation Optimization Algorithm)\n",
        "\n",
        "Now, QAOA is a method to obtain an efficient optimal solution by optimizing the time to act on the rotating X-gate and the Z-related gate of quantum annealing.\n",
        "The criterion for optimization is energy.\n",
        "\n",
        "The criterion for that optimization is energy, and it is necessary to be able to calculate that energy from the output result of the quantum circuit."
      ],
      "metadata": {
        "id": "DYVCtRytcNWa"
      }
    },
    {
      "cell_type": "markdown",
      "source": [
        "Calculate the energy in terms of the expected value of the spin we used last time."
      ],
      "metadata": {
        "id": "duH6LEpbdbKP"
      }
    },
    {
      "cell_type": "code",
      "source": [
        "def ene_exp(qc,h,J,n):\n",
        "  state = sim_state(qc, disp=False)\n",
        "\n",
        "  op = cirq.PauliString()\n",
        "  for k in range(n):\n",
        "    op += -float(h[k])*cirq.Z(q[k])\n",
        " \n",
        "  for k in range(n):\n",
        "    for l in range(n):\n",
        "      if k < l:\n",
        "        op += -float(J[k,l])*cirq.Z(q[k])*cirq.Z(q[l])\n",
        "      elif k > l:\n",
        "        op += -float(J[l,k])*cirq.Z(q[l])*cirq.Z(q[k])\n",
        "\n",
        "  collector = cirq.PauliSumCollector(circuit=qc, observable=op, samples_per_term=100)\n",
        "  collector.collect(sampler=cirq.Simulator())\n",
        "  y = collector.estimated_energy()\n",
        "\n",
        "  return y, state"
      ],
      "metadata": {
        "id": "GhgzS60Ta7HO"
      },
      "execution_count": null,
      "outputs": []
    },
    {
      "cell_type": "markdown",
      "source": [
        "Optimize parameters along the way based on this."
      ],
      "metadata": {
        "id": "J6NObwUAg2x1"
      }
    },
    {
      "cell_type": "code",
      "source": [
        "def ene_func(params):\n",
        "  Tall = int(len(params)/2)\n",
        "  qc = cirq.Circuit()\n",
        "  q = cirq.LineQubit.range(n)\n",
        "\n",
        "  #Start with a superposition\n",
        "  qc.append(cirq.H.on_each(q))\n",
        "\n",
        "  for k in range(Tall):\n",
        "    s1 = params[k]\n",
        "    s2 = params[k+Tall]\n",
        "    Uqubo = QA(J, h, s1, s2)\n",
        "    qc.append(Uqubo.on(*q))\n",
        "    \n",
        "  ene = ene_exp(qc,h,J,n)\n",
        "\n",
        "  return ene"
      ],
      "metadata": {
        "id": "N9oocczfg2gK"
      },
      "execution_count": null,
      "outputs": []
    },
    {
      "cell_type": "code",
      "source": [
        "Tall = 2\n",
        "params = np.random.rand(2*Tall)"
      ],
      "metadata": {
        "id": "aR3rLV0hhdNj"
      },
      "execution_count": null,
      "outputs": []
    },
    {
      "cell_type": "markdown",
      "source": [
        "Let's use the same optimization method as before, but without gradients."
      ],
      "metadata": {
        "id": "IZMDopDS88SF"
      }
    },
    {
      "cell_type": "code",
      "source": [
        "from scipy.optimize import minimize\n",
        "result = minimize(ene_func, params, method=\"COBYLA\", options={\"maxiter\": 100})"
      ],
      "metadata": {
        "id": "VN0FJRQrgAQ8"
      },
      "execution_count": null,
      "outputs": []
    },
    {
      "cell_type": "markdown",
      "source": [
        "To get the resulting parameters, it was result.x, wasn't it?"
      ],
      "metadata": {
        "id": "ywu0wQrX87tr"
      }
    },
    {
      "cell_type": "code",
      "source": [
        "result.fun"
      ],
      "metadata": {
        "id": "zVqI5mdkgUpV"
      },
      "execution_count": null,
      "outputs": []
    },
    {
      "cell_type": "code",
      "source": [
        "result.x"
      ],
      "metadata": {
        "id": "1SxA1mUnhm5f"
      },
      "execution_count": null,
      "outputs": []
    },
    {
      "cell_type": "markdown",
      "source": [
        "What if we actually run it with the parameters obtained?"
      ],
      "metadata": {
        "id": "7Kkqg_KDjJOE"
      }
    },
    {
      "cell_type": "code",
      "source": [
        "params = result.x\n",
        "qc11 = cirq.Circuit()\n",
        "q = cirq.LineQubit.range(n)\n",
        "\n",
        "#Start with a superposition\n",
        "qc11.append(cirq.H.on_each(q))\n",
        "\n",
        "for k in range(Tall):\n",
        "  s1 = params[k]\n",
        "  s2 = params[k+Tall]\n",
        "  Uqubo = QA(J, h, s1, s2)\n",
        "  qc11.append(Uqubo.on(*q))"
      ],
      "metadata": {
        "id": "ab3b5t0djDTE"
      },
      "execution_count": null,
      "outputs": []
    },
    {
      "cell_type": "code",
      "source": [
        "ans11 = sim_state_exp(qc11)\n",
        "cirq.plot_state_histogram(ans11, plt.subplot(), tick_label=binary_labels(n))\n",
        "plt.show()"
      ],
      "metadata": {
        "id": "I1ebJU2mjPrH"
      },
      "execution_count": null,
      "outputs": []
    },
    {
      "cell_type": "markdown",
      "source": [
        "You have obtained a quantum circuit that can successfully obtain the desired state.\n",
        "In terms of the number of steps, you obtained something less than what was used in the quantum annealing simulation."
      ],
      "metadata": {
        "id": "nOY7Xsna9GYm"
      }
    },
    {
      "cell_type": "markdown",
      "source": [
        "ちなみに同じ問題を株式会社Jijの開発する量子アニーリングシミュレータのOpenJijで解かせてみるとどうでしょうか。\n"
      ],
      "metadata": {
        "id": "ne2RI7gwjsLH"
      }
    },
    {
      "cell_type": "code",
      "source": [
        "pip install openjij"
      ],
      "metadata": {
        "id": "xDkZ7IaSjVAn"
      },
      "execution_count": null,
      "outputs": []
    },
    {
      "cell_type": "markdown",
      "source": [
        "These include simulations of quantum annealing (using the quantum Monte Carlo method)."
      ],
      "metadata": {
        "id": "2VFkO5Fw_iSe"
      }
    },
    {
      "cell_type": "code",
      "source": [
        "from openjij import SQASampler\n",
        "sampler = SQASampler()"
      ],
      "metadata": {
        "id": "ku3o--xRj-Tl"
      },
      "execution_count": null,
      "outputs": []
    },
    {
      "cell_type": "markdown",
      "source": [
        "h and J are processed as follows for input in dict format.\n",
        "(The sign of the interaction in the QA simulator is opposite to that in physics textbooks, etc., so the sign is minus.)"
      ],
      "metadata": {
        "id": "jUDJsq2f_nxU"
      }
    },
    {
      "cell_type": "code",
      "source": [
        "h_dict = {}\n",
        "for i in range(n):\n",
        "  h_dict[i] = h[i]\n",
        "\n",
        "J_dict = {}\n",
        "for i in range(n):\n",
        "  for j in range(n):\n",
        "    if i != j:\n",
        "      J_dict[i,j] = - J[i,j]"
      ],
      "metadata": {
        "id": "Mq-WbaGakD1V"
      },
      "execution_count": null,
      "outputs": []
    },
    {
      "cell_type": "markdown",
      "source": [
        "Execution is simple, just throw h and J as follows."
      ],
      "metadata": {
        "id": "0vvkE3fwAC6e"
      }
    },
    {
      "cell_type": "code",
      "source": [
        "sampleset = sampler.sample_ising(h_dict, J_dict, num_reads=10)"
      ],
      "metadata": {
        "id": "qgdTKaZvACeF"
      },
      "execution_count": null,
      "outputs": []
    },
    {
      "cell_type": "code",
      "source": [
        "print(sampleset.record)"
      ],
      "metadata": {
        "id": "nzW9c0n4kE7x"
      },
      "execution_count": null,
      "outputs": []
    },
    {
      "cell_type": "markdown",
      "source": [
        "Let's try to solve each of these problems with a more concrete problem.\n",
        "We will deal with a number division problem.\n",
        "You have some numbers and you want to divide them into two numbers.\n",
        "However, we want the sum of the two numbers to be as equal as possible.\n",
        "If the difference between the sums of the two numbers is small, then the answer is correct.\n",
        "When each number is divided into two groups A and B as $n_i$, the sum of each number is calculated as follows.\n",
        "\n",
        "\\begin{equation}\n",
        "I_A = \\sum_{i \\in A} n_i\n",
        "\\end{equation}\n",
        "and\n",
        "\\begin{equation}\n",
        "I_B = \\sum_{i \\in B} n_i\n",
        "\\end{equation}\n",
        "\n",
        "The smaller these differences are, whether positive or negative, the happier we are, so we take the difference and square it.\n",
        "\\begin{equation}\n",
        "(I_A - I_B)^2 = (\\sum_{i \\in A} n_i\n",
        "- \\sum_{i \\in B} n_i)^2\n",
        "\\end{equation}\n",
        "Consider dividing them into these two groups by using the binary values of 0 and 1 or -1 and +1, as in the Ising model. writing again those assigned to A as z_i=+1 and those assigned to B as z_i=-1, we can see that this The situation can be written in a mathematical formula.\n",
        "\\begin{equation}\n",
        "(I_A - I_B)^2 = (\\sum_{i} n_i z_i )^2\n",
        "\\end{equation}\n",
        "We can think of a minimization problem for this.\n",
        "Let's expand on that a bit.\n",
        "\\begin{equation}\n",
        "(\\sum_{i} n_i z_i )(\\sum_{j} n_j z_j ) = 2\\sum_i n_i + \\sum_{i \\neq j} n_in_j z_i z_j \n",
        "\\end{equation}\n",
        "and that it has the same form as the Ising model.\n",
        "\n"
      ],
      "metadata": {
        "id": "A0imh8W3AQYT"
      }
    },
    {
      "cell_type": "code",
      "source": [
        "n = 6\n",
        "N = np.linspace(1,n,n)"
      ],
      "metadata": {
        "id": "A3BiEuHVB_nt"
      },
      "execution_count": null,
      "outputs": []
    },
    {
      "cell_type": "markdown",
      "source": [
        "First, prepare numbers from 1 to n.\n",
        "Multiply these together to make J (no h is fine this time)"
      ],
      "metadata": {
        "id": "ShR1v70XCYCD"
      }
    },
    {
      "cell_type": "code",
      "source": [
        "h = np.zeros(n)\n",
        "J = np.zeros(n**2).reshape(n,n)\n",
        "\n",
        "for k in range(n):\n",
        "  for l in range(n):\n",
        "    if k != l:\n",
        "      J[k,l] = - N[k]*N[l]"
      ],
      "metadata": {
        "id": "W8BaEMhKCWqe"
      },
      "execution_count": null,
      "outputs": []
    },
    {
      "cell_type": "markdown",
      "source": [
        "First, let's run it with quantum annealing."
      ],
      "metadata": {
        "id": "02qDhOl3DKQ-"
      }
    },
    {
      "cell_type": "code",
      "source": [
        "#Number of Steps\n",
        "Tall = 200\n",
        "dt = 0.01\n",
        "\n",
        "qc12 = cirq.Circuit()\n",
        "q = cirq.LineQubit.range(n)\n",
        "\n",
        "#Start with a superposition\n",
        "qc12.append(cirq.H.on_each(q))\n",
        "\n",
        "for k in range(Tall):\n",
        "  s1 = dt*k/Tall\n",
        "  s2 = dt*(1 - k/Tall)\n",
        "  Uqubo = QA(J, h, s1, s2)\n",
        "  qc12.append(Uqubo.on(*q))"
      ],
      "metadata": {
        "id": "1b5gqFvKCW91"
      },
      "execution_count": null,
      "outputs": []
    },
    {
      "cell_type": "code",
      "source": [
        "state12 = sim_state(qc12)"
      ],
      "metadata": {
        "id": "4hMZPbqJDUv_"
      },
      "execution_count": null,
      "outputs": []
    },
    {
      "cell_type": "code",
      "source": [
        "ans12 = sim_state_exp(qc12)\n",
        "cirq.plot_state_histogram(ans12, plt.subplot(), tick_label=binary_labels(n))\n",
        "plt.xticks(rotation=-90)\n",
        "plt.show()"
      ],
      "metadata": {
        "id": "dGdVUsX3DYfM"
      },
      "execution_count": null,
      "outputs": []
    },
    {
      "cell_type": "markdown",
      "source": [
        "It is hard to see in the graph, but several states are highlighted.\n",
        "The ans can be seen in the numerical values."
      ],
      "metadata": {
        "id": "Kcz-0Ra7Df6g"
      }
    },
    {
      "cell_type": "markdown",
      "source": [
        "Let's do the same with QAOA."
      ],
      "metadata": {
        "id": "RRUWhscfFk0c"
      }
    },
    {
      "cell_type": "code",
      "source": [
        "def ene_func(params):\n",
        "  Tall = int(len(params)/2)\n",
        "  qc = cirq.Circuit()\n",
        "  q = cirq.LineQubit.range(n)\n",
        "\n",
        "  #Start with a superposition\n",
        "  qc.append(cirq.H.on_each(q))\n",
        "\n",
        "  for k in range(Tall):\n",
        "    s1 = params[k]\n",
        "    s2 = params[k+Tall]\n",
        "    Uqubo = QA(J, h, s1, s2)\n",
        "    qc.append(Uqubo.on(*q))\n",
        "    \n",
        "  ene = ene_exp(qc,h,J,n)\n",
        "\n",
        "  return ene"
      ],
      "metadata": {
        "id": "xogRcCXdDdBB"
      },
      "execution_count": null,
      "outputs": []
    },
    {
      "cell_type": "code",
      "source": [
        "Tall = 10\n",
        "params = np.random.rand(2*Tall)"
      ],
      "metadata": {
        "id": "Fa7XJ1AYD2wE"
      },
      "execution_count": null,
      "outputs": []
    },
    {
      "cell_type": "code",
      "source": [
        "from scipy.optimize import minimize\n",
        "result = minimize(ene_func, params, method=\"COBYLA\", options={\"maxiter\": 100})"
      ],
      "metadata": {
        "id": "nb-TD67wFt_i"
      },
      "execution_count": null,
      "outputs": []
    },
    {
      "cell_type": "markdown",
      "source": [
        "If you want to extract the obtained results, use result.fun and result.x."
      ],
      "metadata": {
        "id": "2H99_Cq5F0wP"
      }
    },
    {
      "cell_type": "code",
      "source": [
        "result.fun"
      ],
      "metadata": {
        "id": "Rv2A6Fy3Fz0W"
      },
      "execution_count": null,
      "outputs": []
    },
    {
      "cell_type": "code",
      "source": [
        "params = result.x\n",
        "qc13 = cirq.Circuit()\n",
        "q = cirq.LineQubit.range(n)\n",
        "\n",
        "#Start with a superposition\n",
        "qc13.append(cirq.H.on_each(q))\n",
        "\n",
        "for k in range(Tall):\n",
        "  s1 = params[k]\n",
        "  s2 = params[k+Tall]\n",
        "  Uqubo = QA(J, h, s1, s2)\n",
        "  qc13.append(Uqubo.on(*q))"
      ],
      "metadata": {
        "id": "H3Pg8Ac_F4Yk"
      },
      "execution_count": null,
      "outputs": []
    },
    {
      "cell_type": "code",
      "source": [
        "ans13 = sim_state_exp(qc13)\n",
        "cirq.plot_state_histogram(ans13, plt.subplot(), tick_label=binary_labels(n))\n",
        "plt.xticks(rotation=90)\n",
        "plt.show()"
      ],
      "metadata": {
        "id": "giP4hhtGGC9Z"
      },
      "execution_count": null,
      "outputs": []
    },
    {
      "cell_type": "markdown",
      "source": [
        "It is quite a difficult problem, and if you can find a division 2,3,5 and 1,4,6 or something like that with a total of 10 and 11, you are correct.\n",
        "1,4,5, 2,3,6, etc. are also acceptable."
      ],
      "metadata": {
        "id": "cFcovL4VHipa"
      }
    },
    {
      "cell_type": "code",
      "source": [
        "ans13.histogram(key='m')"
      ],
      "metadata": {
        "id": "Kx4hG9v8JBKI"
      },
      "execution_count": null,
      "outputs": []
    },
    {
      "cell_type": "code",
      "source": [],
      "metadata": {
        "id": "Fc2fQnwjIAlc"
      },
      "execution_count": null,
      "outputs": []
    }
  ]
}