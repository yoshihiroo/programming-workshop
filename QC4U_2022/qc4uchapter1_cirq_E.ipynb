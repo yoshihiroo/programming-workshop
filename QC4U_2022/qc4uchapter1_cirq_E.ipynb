{
  "nbformat": 4,
  "nbformat_minor": 0,
  "metadata": {
    "colab": {
      "private_outputs": true,
      "provenance": [],
      "collapsed_sections": [],
      "include_colab_link": true
    },
    "kernelspec": {
      "name": "python3",
      "display_name": "Python 3"
    },
    "language_info": {
      "name": "python"
    }
  },
  "cells": [
    {
      "cell_type": "markdown",
      "metadata": {
        "id": "view-in-github",
        "colab_type": "text"
      },
      "source": [
        "<a href=\"https://colab.research.google.com/github/yoshihiroo/programming-workshop/blob/master/QC4U_2022/qc4uchapter1_cirq_E.ipynb\" target=\"_parent\"><img src=\"https://colab.research.google.com/assets/colab-badge.svg\" alt=\"Open In Colab\"/></a>"
      ]
    },
    {
      "cell_type": "markdown",
      "source": [
        "# QC4U Day1 Cirq porting\n",
        "2022.9.18 ver."
      ],
      "metadata": {
        "id": "QW039chm5WcH"
      }
    },
    {
      "cell_type": "markdown",
      "source": [
        "This is an attempt to porting of the [QC4U](https://altema.is.tohoku.ac.jp/QC4U/) code written by Prof. Ohzeki of Tohoku University into Cirq for my recap and understanding. I am stealing with pride the almost all text of the explanation from the original site. (The article has been published with Prof. Ohzeki's permission.)\n",
        "\n",
        "[The original code of Day 1](https://colab.research.google.com/gist/mohzeki222/3ac613256834d463de7c5c7eeb7a5b14/qc4uchapter1.ipynb)"
      ],
      "metadata": {
        "id": "Z5Kcvu-s-0jk"
      }
    },
    {
      "cell_type": "markdown",
      "source": [
        "# Installing Cirq\n",
        "\n",
        "Quantum computers are available from several companies.\n",
        "One of them is Google, which thankfully provides a library for development.\n",
        "Let's use the quantum computer together by using this library.\n",
        "\n",
        "(Note added) After executing the command, the RESTART RUNTIME button will appear with WARNING, so click on it to restart the runtime."
      ],
      "metadata": {
        "id": "yoYNDMRnnWr8"
      }
    },
    {
      "cell_type": "code",
      "source": [
        "pip install cirq"
      ],
      "metadata": {
        "id": "2jMYymbRmK0C"
      },
      "execution_count": null,
      "outputs": []
    },
    {
      "cell_type": "markdown",
      "source": [
        "Various sentences will appear, indicating intermediate steps in the installation.\n",
        "When the new sentences are finished, the installation is finished.\n",
        "Next, we will call some necessary modules from this installed library.\n",
        "Of course, since this is your first time, you would like to build a quantum circuit.\n",
        "For those who do, here it is."
      ],
      "metadata": {
        "id": "jnWk7GsFv0rF"
      }
    },
    {
      "cell_type": "code",
      "execution_count": null,
      "metadata": {
        "id": "FgZN8RH3jfGL"
      },
      "outputs": [],
      "source": [
        "import cirq"
      ]
    },
    {
      "cell_type": "markdown",
      "source": [
        "### Let's manipulate quantum bits!\n",
        "\n",
        "Let's quickly prepare the rumored quantum bit.\n",
        "To do so, we first prepare the base on which the entire quantum circuit is built."
      ],
      "metadata": {
        "id": "gQF1SpQVBTdQ"
      }
    },
    {
      "cell_type": "code",
      "source": [
        "qc = cirq.Circuit()"
      ],
      "metadata": {
        "id": "lndQ8RImmsF1"
      },
      "execution_count": null,
      "outputs": []
    },
    {
      "cell_type": "code",
      "source": [
        "q = cirq.LineQubit.range(1)"
      ],
      "metadata": {
        "id": "dWqfqSo_beOj"
      },
      "execution_count": null,
      "outputs": []
    },
    {
      "cell_type": "markdown",
      "source": [
        "That's too easy.\n",
        "cirq.LineQubit.range(n) means I'll prepare n qubits."
      ],
      "metadata": {
        "id": "vchmTH4rBbP1"
      }
    },
    {
      "cell_type": "markdown",
      "source": [
        "We can perform quantum computation by performing various operations on this qc.\n",
        "Let's quickly add a circuit called X on the quantum circuit.\n",
        "This quantum circuit called X is a circuit that inverts 0s to 1s and 1s to 0s. It is a bit inversion circuit and is a basic circuit that is also used on digital computers.\n",
        "Most programming languages, including Python, refer to the first one as 0, so we can type the following code."
      ],
      "metadata": {
        "id": "ZLxE22iPcIu0"
      }
    },
    {
      "cell_type": "code",
      "source": [
        "qc.append(cirq.X(q[0]))"
      ],
      "metadata": {
        "id": "E7GgKy-Tmu90"
      },
      "execution_count": null,
      "outputs": []
    },
    {
      "cell_type": "markdown",
      "source": [
        "I don't think you will get a good response, so I would like to display the quantum circuit.\n",
        "The quantum circuit can be displayed by typing the following command."
      ],
      "metadata": {
        "id": "VfzfYr_OCtFI"
      }
    },
    {
      "cell_type": "code",
      "source": [
        "print(qc)"
      ],
      "metadata": {
        "id": "9IkluwutCWu0"
      },
      "execution_count": null,
      "outputs": []
    },
    {
      "cell_type": "markdown",
      "source": [
        "If we write X, this is the circuit called X.\n",
        "Now let's run this calculation to try it out.\n",
        "In a quantum circuit, the \"state\" is changed based on the principles of quantum mechanics.\n",
        "The \"state\" is represented by a state vector."
      ],
      "metadata": {
        "id": "ZGd8BnI1C9XU"
      }
    },
    {
      "cell_type": "markdown",
      "source": [
        "This completes the basics.\n",
        "Now let's see it in action."
      ],
      "metadata": {
        "id": "70d5visL988P"
      }
    },
    {
      "cell_type": "markdown",
      "source": [
        "To investigate what is going on in a quantum circuit, you essentially need a quantum computer.\n",
        "Here, we will use the quantum simulator provided by Google to explore the situation."
      ],
      "metadata": {
        "id": "HChGv-uPFRHO"
      }
    },
    {
      "cell_type": "code",
      "source": [
        "sim = cirq.Simulator()"
      ],
      "metadata": {
        "id": "Cp2vg7GlFQeV"
      },
      "execution_count": null,
      "outputs": []
    },
    {
      "cell_type": "markdown",
      "source": [
        "You can use this quantum simulator to find out what state vector you are in.\n",
        "To receive the results, run the following program"
      ],
      "metadata": {
        "id": "ZpJ0jeA_HCl3"
      }
    },
    {
      "cell_type": "code",
      "source": [
        "res = sim.simulate(qc)"
      ],
      "metadata": {
        "id": "cdvvCuenHBs_"
      },
      "execution_count": null,
      "outputs": []
    },
    {
      "cell_type": "markdown",
      "source": [
        "From the resulting res, here is the state vector that shows the state of the qubit."
      ],
      "metadata": {
        "id": "013uglsXJyDe"
      }
    },
    {
      "cell_type": "markdown",
      "source": [
        "If we look at this state as it is, we can point to the state vector in numerical values."
      ],
      "metadata": {
        "id": "lENOMhfGIEeP"
      }
    },
    {
      "cell_type": "code",
      "source": [
        "print(res)"
      ],
      "metadata": {
        "id": "Sv3vcxUkPr7P"
      },
      "execution_count": null,
      "outputs": []
    },
    {
      "cell_type": "markdown",
      "source": [
        "You can see that it is facing down, and in cirq it is initially initialized with an upward state vector.\n",
        "You can see that it goes from upward to downward. This is what the X circuit does.\n",
        "So it flips up and down.\n",
        "So if you run it twice in a row, it goes back to the original."
      ],
      "metadata": {
        "id": "R0QYGA-PK5ZP"
      }
    },
    {
      "cell_type": "code",
      "source": [
        "qc2 = cirq.Circuit()\n",
        "q = cirq.LineQubit.range(1)"
      ],
      "metadata": {
        "id": "W0TM2Sy0nL4S"
      },
      "execution_count": null,
      "outputs": []
    },
    {
      "cell_type": "code",
      "source": [
        "qc2.append(cirq.X(q[0]))\n",
        "qc2.append(cirq.X(q[0]))"
      ],
      "metadata": {
        "id": "mbm3yeYMLfvB"
      },
      "execution_count": null,
      "outputs": []
    },
    {
      "cell_type": "markdown",
      "source": [
        "This time, we ran it twice in a row.\n",
        "Let's take a quick look at the quantum circuit."
      ],
      "metadata": {
        "id": "oMz1K4m7LjdE"
      }
    },
    {
      "cell_type": "code",
      "source": [
        "print(qc2)"
      ],
      "metadata": {
        "id": "Hy2Di8cdLizn"
      },
      "execution_count": null,
      "outputs": []
    },
    {
      "cell_type": "markdown",
      "source": [
        "Let's simulate this quantum circuit."
      ],
      "metadata": {
        "id": "UyBYuKl_LtjE"
      }
    },
    {
      "cell_type": "code",
      "source": [
        "res2 = sim.simulate(qc2)"
      ],
      "metadata": {
        "id": "d-v7MjiLLxP0"
      },
      "execution_count": null,
      "outputs": []
    },
    {
      "cell_type": "code",
      "source": [
        "print(res2)"
      ],
      "metadata": {
        "id": "m8CFQoKLL2up"
      },
      "execution_count": null,
      "outputs": []
    },
    {
      "cell_type": "markdown",
      "source": [
        "As you can see, it has turned upward. This means that it is the result of two reversals, from upward to downward and downward to upward.\n",
        "For such a reversal, in a quantum computer, there are Y and Z rotations in addition to X, which is simply a non-up-and-down reversal.\n",
        "The X, Y, and Z are derived from turning around the X axis, turning around the Y axis, and turning around the Z axis.\n",
        "Therefore, if the state vector starts from the upward direction, the execution result will appear to be the same for X and Y."
      ],
      "metadata": {
        "id": "oI3eKtK3L9lo"
      }
    },
    {
      "cell_type": "code",
      "source": [
        "qc3 = cirq.Circuit()\n",
        "q = cirq.LineQubit.range(1)"
      ],
      "metadata": {
        "id": "LBy0albuL8KX"
      },
      "execution_count": null,
      "outputs": []
    },
    {
      "cell_type": "code",
      "source": [
        "qc3.append(cirq.Y(q[0]))\n",
        "print(qc3)"
      ],
      "metadata": {
        "id": "yPj49bYXNWCq"
      },
      "execution_count": null,
      "outputs": []
    },
    {
      "cell_type": "code",
      "source": [
        "res3 = sim.simulate(qc3)\n",
        "print(res3)"
      ],
      "metadata": {
        "id": "3j9mxHVkNcq4"
      },
      "execution_count": null,
      "outputs": []
    },
    {
      "cell_type": "markdown",
      "source": [
        "### Meaning of Quantum States\n",
        "\n",
        "In digital computers, two distinguishable states, 0 and 1, have been used.\n",
        "The numerical values have been represented by a sequence of two numbers, 01 and 01, to express the status of the calculation.\n",
        "For example, 0 is 00, 1 is 01, 2 is 10, 3 is 11, and so on.\n",
        "Then, for various calculations such as addition, subtraction, multiplication, and division, we can design a circuit according to the rules of how to change the 0s and 1s and increase the digits.\n",
        "The circuits that perform these basic operations are also used in quantum computation.\n",
        "\n",
        "However, the fact that the result of a quantum computation is not necessarily either 0 or 1 creates a curious situation."
      ],
      "metadata": {
        "id": "rOAM8RDPBSBB"
      }
    },
    {
      "cell_type": "markdown",
      "source": [
        "It's a calculation on a classical logic circuit based on changes like 0 to 1 or 1 to 0.\n",
        "In quantum circuits, there are numbers assigned to 0 and 1, and the basic idea is to change them.\n",
        "So what do these two numbers mean?\n",
        "To find out, let's try to build a quantum circuit again."
      ],
      "metadata": {
        "id": "Um2cmjyDN6Vy"
      }
    },
    {
      "cell_type": "code",
      "source": [
        "qc5 = cirq.Circuit()\n",
        "q = cirq.LineQubit.range(1)"
      ],
      "metadata": {
        "id": "mxnrgdcqmXa6"
      },
      "execution_count": null,
      "outputs": []
    },
    {
      "cell_type": "markdown",
      "source": [
        "This is where we will use our first circuit.\n",
        "It is called the Adamar circuit."
      ],
      "metadata": {
        "id": "OG1fePlyWe0a"
      }
    },
    {
      "cell_type": "code",
      "source": [
        "qc5.append(cirq.H(q[0]))"
      ],
      "metadata": {
        "id": "SFEQefdXTpeF"
      },
      "execution_count": null,
      "outputs": []
    },
    {
      "cell_type": "markdown",
      "source": [
        "What kind of state vector does this quantum circuit produce?\n",
        "Let's find out."
      ],
      "metadata": {
        "id": "PLQtJsInWmmu"
      }
    },
    {
      "cell_type": "code",
      "source": [
        "res5 = sim.simulate(qc5)"
      ],
      "metadata": {
        "id": "yQWibEv-Oj_2"
      },
      "execution_count": null,
      "outputs": []
    },
    {
      "cell_type": "markdown",
      "source": [
        "If we were to look at it numerically, we would use the print statement and it would be oriented exactly between 0 and 1. So we are creating the situation we want to think about now."
      ],
      "metadata": {
        "id": "vmoGjShlX9bi"
      }
    },
    {
      "cell_type": "code",
      "source": [
        "print(res5)"
      ],
      "metadata": {
        "id": "SkX9fclRX87f"
      },
      "execution_count": null,
      "outputs": []
    },
    {
      "cell_type": "markdown",
      "source": [
        "The real number alone is 0.707... ,.\n",
        "This is actually the number represented by $1/\\sqrt{2}$."
      ],
      "metadata": {
        "id": "dOuuNfVWYHuE"
      }
    },
    {
      "cell_type": "markdown",
      "source": [
        "Now, when we \"actually perform calculations\" with these quantum circuits, we are thinking about extracting information that is meaningful to us, rather than staying with a state vector, which is something we do not understand.\n",
        "Computers that perform calculations around us, such as calculators and PCs, show us the results of their calculations on their displays without showing us what is inside.\n",
        "In other words, there are two parts: the part that performs the calculation and the part that shows the result of the calculation.\n",
        "In an actual computer, it is the electric circuit that is doing the calculation, and the operation to retrieve the result is necessary.\n",
        "In a quantum computer, it is a quantum circuit made at the atomic and molecular level that is doing the calculation, and requires the same special operation to retrieve the result.\n",
        "This is called **\"measurement \"**."
      ],
      "metadata": {
        "id": "TWIAgAtpYRvC"
      }
    },
    {
      "cell_type": "markdown",
      "source": [
        "To make that measurement, use MEASURE."
      ],
      "metadata": {
        "id": "w38rjpWlZJiv"
      }
    },
    {
      "cell_type": "code",
      "source": [
        "qc5.append(cirq.measure(q[0], key='m'))"
      ],
      "metadata": {
        "id": "eRQknVldad5y"
      },
      "execution_count": null,
      "outputs": []
    },
    {
      "cell_type": "markdown",
      "source": [
        "To find out what the circuit configuration looks like so far, use print as usual."
      ],
      "metadata": {
        "id": "UD3eAFOWaNZ1"
      }
    },
    {
      "cell_type": "code",
      "source": [
        "print(qc5)"
      ],
      "metadata": {
        "id": "dESADisXaGpX"
      },
      "execution_count": null,
      "outputs": []
    },
    {
      "cell_type": "markdown",
      "source": [
        "M is the symbol for measurement."
      ],
      "metadata": {
        "id": "nL38v4mze1Qa"
      }
    },
    {
      "cell_type": "markdown",
      "source": [
        "Let's run it as soon as possible.\n",
        "However, we will specify the option \"repetitions\" here.\n",
        "This is the number of times to perform the calculation using the quantum circuit.\n",
        "Since it is the same circuit, I think it will be the same no matter how many times we do it, but how about it?"
      ],
      "metadata": {
        "id": "pS8-6Spdfktp"
      }
    },
    {
      "cell_type": "code",
      "source": [
        "res5 = sim.run(qc5, repetitions=1000)"
      ],
      "metadata": {
        "id": "X-9bOD_ZfUtH"
      },
      "execution_count": null,
      "outputs": []
    },
    {
      "cell_type": "markdown",
      "source": [
        "In this example, it was run 1,000 times, and let's see the results."
      ],
      "metadata": {
        "id": "SSDuzmZHfr31"
      }
    },
    {
      "cell_type": "code",
      "source": [
        "counts = res5.histogram(key='m')\n",
        "print(counts)"
      ],
      "metadata": {
        "id": "0xRi2oTdfdKe"
      },
      "execution_count": null,
      "outputs": []
    },
    {
      "cell_type": "markdown",
      "source": [
        "You will notice that there is a slight difference in the number of times, but that there are equal amounts of 0s and 1s.\n",
        "**In quantum computation, the result is a probabilistic output**."
      ],
      "metadata": {
        "id": "qcD1YCWIgpod"
      }
    },
    {
      "cell_type": "markdown",
      "source": [
        "Then I remembered what coefficient the state that went through the Adamar circuit earlier had, and it was $1/\\sqrt{2}$, and both had the same coefficient.\n",
        "That coefficient is what determines the probability of the output result.\n",
        "In this case, it was exactly half of $1/2$.\n",
        "It is the square of the coefficient of the state vector. We can see that the coefficients of 0s and 1s changed through the quantum circuit give the probability amplitude related to the output result.\n",
        "If we calculate the square of that probability amplitude, we can find the probability of the result coming out of that quantum circuit.\n",
        "\n",
        "This is a major difference from classical logic circuits.\n",
        "In conventional digital computers, the output result is deterministic, either 0 or 1.\n",
        "Even if the result may be slightly skewed by noise or environmental factors, it is basically only 0 or 1.\n",
        "Quantum computation, on the other hand, uses probability, and by varying that probability, leads to an answer.\n",
        "In other words, the coefficient on 0 and the coefficient on 1 were 100 percent, and one of the coefficients remained 1, which is how calculations are done on digital computers.\n",
        "Of course, conventional computers also have the idea of probabilistic calculation, and there are calculation methods that use this idea.\n",
        "However, since it is a probability, it must be a continuous value from 0.0 to 1.0, indicating a probability of 0 to 100 percent.\n",
        "But in quantum computation, there was an imaginary unit: not necessarily from 0.0 to 1.0. It could be positive or negative.\n",
        "The calculation of squaring is necessary to get close to the reality of the probability.\n",
        "Until we get close to that reality, until we measure it, anything is possible, and the fact that we can calculate using complex numbers while considering both 0 and 1 in a superposition state means that there is room for ingenuity in quantum computation."
      ],
      "metadata": {
        "id": "CbTtJbjqhWIj"
      }
    },
    {
      "cell_type": "markdown",
      "source": [
        "In these quantum circuit-based calculations, the coefficients of the state vector can be manipulated to\n",
        "state vectors that span multiple different states.\n",
        "This spanning over several different states is called **overlapping states**.\n",
        "And as it is, we get multiple answers, or probabilistic results, so it is important to narrow down the answers.\n",
        "\n",
        "If you look at it from this perspective, you will gradually realize the possibilities of computing quantum circuits, where not only the inversion X, but also Y and Z come into play."
      ],
      "metadata": {
        "id": "oM-l_zPnjM1U"
      }
    },
    {
      "cell_type": "markdown",
      "source": [
        "### Probability Amplitudes and Complex Numbers\n",
        "\n",
        "First, let's create a superposition state using an Adamar circuit."
      ],
      "metadata": {
        "id": "3e19MlzErFFm"
      }
    },
    {
      "cell_type": "code",
      "source": [
        "qc6 = cirq.Circuit()\n",
        "q0 = cirq.LineQubit.range(1)\n",
        "qc6.append(cirq.H(q[0]))"
      ],
      "metadata": {
        "id": "7oTDpMfprMK0"
      },
      "execution_count": null,
      "outputs": []
    },
    {
      "cell_type": "markdown",
      "source": [
        "Let's see what the state vector looks like so far."
      ],
      "metadata": {
        "id": "s9HKzuNLrS5c"
      }
    },
    {
      "cell_type": "code",
      "source": [
        "res6 = sim.simulate(qc6)\n",
        "print(res6)"
      ],
      "metadata": {
        "id": "_tsaQ_oirv1b"
      },
      "execution_count": null,
      "outputs": []
    },
    {
      "cell_type": "markdown",
      "source": [
        "As you can see from the print statement, this is a superposition state of 0s and 1s.\n",
        "Now, let's apply a new circuit, the Rz circuit, to this state.\n",
        "The Rz circuit is supposed to rotate us by an angle $\\phi$ in the z-axis direction.\n",
        "If $\\phi=\\pi$, it will be the same as the Z circuit."
      ],
      "metadata": {
        "id": "xfokCJktsDq2"
      }
    },
    {
      "cell_type": "code",
      "source": [
        "import numpy as np\n",
        "\n",
        "phi = np.pi/2\n",
        "qc6.append(cirq.Rz(rads=phi)(q[0]))"
      ],
      "metadata": {
        "id": "yUSTVtP3sYU-"
      },
      "execution_count": null,
      "outputs": []
    },
    {
      "cell_type": "markdown",
      "source": [
        "The entire circuit is as follows"
      ],
      "metadata": {
        "id": "IoVlL09NsoDu"
      }
    },
    {
      "cell_type": "code",
      "source": [
        "print(qc6)"
      ],
      "metadata": {
        "id": "g7kW9XgFsna0"
      },
      "execution_count": null,
      "outputs": []
    },
    {
      "cell_type": "markdown",
      "source": [
        "The state vector is illustrated below."
      ],
      "metadata": {
        "id": "hDSUk-Tpsr6Z"
      }
    },
    {
      "cell_type": "code",
      "source": [
        "res6 = sim.simulate(qc6)"
      ],
      "metadata": {
        "id": "GCEXnCSxslEQ"
      },
      "execution_count": null,
      "outputs": []
    },
    {
      "cell_type": "code",
      "source": [
        "print(res6)"
      ],
      "metadata": {
        "id": "rLsrioRYwoUw"
      },
      "execution_count": null,
      "outputs": []
    },
    {
      "cell_type": "markdown",
      "source": [
        "Since this is the state in which the coefficients are complex $0.5-0.5i$ and $0.5+0.5i$, we have\n",
        "If the probability is determined by the square of the probability amplitude as a result of the measurement, then respectively.\n",
        "\n",
        "$(0.5-0.5i)^2 = 0.25-2*0.25-0.25 = -0.5$\n",
        "\n",
        "$(0.5+0.5i)^2 = 0.25+2*0.25-0.25 = 0.5$\n",
        "\n",
        "This seems to be the case. This would make the probability negative, which is something wrong.\n",
        "We need to calculate **the square of the magnitude of the complex number** to make it always positive, not just a mere square of the probability amplitude.\n",
        "\n",
        "$(0.5-0.5i)(0.5+0.5i) = 0.25+0.25 = 0.5$\n",
        "\n",
        "$(0.5+0.5i)(0.5-0.5i) = 0.25+0.25 = 0.5$\n",
        "\n",
        "This way, both results have a 50-50 chance of occurring.\n",
        "Let's actually measure and find out.\n"
      ],
      "metadata": {
        "id": "HCW8u70vww68"
      }
    },
    {
      "cell_type": "code",
      "source": [
        "qc6.append(cirq.measure(q[0], key='m'))\n",
        "res6 = sim.run(qc6, repetitions=1000)\n",
        "counts = res6.histogram(key='m')\n",
        "print(counts)"
      ],
      "metadata": {
        "id": "kBwkGHlm1Wtf"
      },
      "execution_count": null,
      "outputs": []
    },
    {
      "cell_type": "markdown",
      "source": [
        "As expected, the probability was 50-50.\n",
        "If we can make it lean one way or the other, we may be able to increase or decrease the probability amplitude.\n",
        "\n",
        "So, let's use the Adamar transform, and next, the Ry of the Y-axis rotation."
      ],
      "metadata": {
        "id": "z9xr3OS6sI8n"
      }
    },
    {
      "cell_type": "code",
      "source": [
        "qc7 = cirq.Circuit()\n",
        "q0 = cirq.LineQubit.range(1)\n",
        "qc7.append(cirq.H(q[0]))\n",
        "\n",
        "phi = np.pi/4\n",
        "qc7.append(cirq.Ry(rads=-phi)(q[0]))"
      ],
      "metadata": {
        "id": "QV3343ug28rp"
      },
      "execution_count": null,
      "outputs": []
    },
    {
      "cell_type": "code",
      "source": [
        "res7 = sim.simulate(qc7)\n",
        "print(res7)"
      ],
      "metadata": {
        "id": "f650BLJh35OS"
      },
      "execution_count": null,
      "outputs": []
    },
    {
      "cell_type": "markdown",
      "source": [
        "It has shifted a little more than 0, which probably makes it easier to get 0.\n",
        "Let's try to actually measure it.\n"
      ],
      "metadata": {
        "id": "5dkG-peO3xB8"
      }
    },
    {
      "cell_type": "code",
      "source": [
        "qc7.append(cirq.measure(q[0], key='m'))\n",
        "res7 = sim.run(qc7, repetitions=1000)\n",
        "counts = res7.histogram(key='m')\n",
        "print(counts)"
      ],
      "metadata": {
        "id": "FJJ7duub4eKM"
      },
      "execution_count": null,
      "outputs": []
    },
    {
      "cell_type": "markdown",
      "source": [
        "It is true that there are now more zeros.\n",
        "But this may not be very surprising.\n",
        "It is just a matter of manipulating the quantum bits as you wish and getting what you want.\n",
        "What can we do to make the result a little more surprising?\n",
        "\n",
        "To do this, you would have to prepare multiple qubits and move them around."
      ],
      "metadata": {
        "id": "p3M4RGj05qSb"
      }
    },
    {
      "cell_type": "markdown",
      "source": [
        "### Multiple qubits\n",
        "Preparing multiple qubits is not very difficult.\n",
        "This can be accomplished by changing the number of LineQubit.range."
      ],
      "metadata": {
        "id": "WCg9cn8k7QQb"
      }
    },
    {
      "cell_type": "code",
      "source": [
        "qc8 = cirq.Circuit()\n",
        "q = cirq.LineQubit.range(2)"
      ],
      "metadata": {
        "id": "cAgKHMQN7hA8"
      },
      "execution_count": null,
      "outputs": []
    },
    {
      "cell_type": "markdown",
      "source": [
        "When it comes to multiple qubits, the variations in their operation increase dramatically.\n",
        "Logic circuits used in digital computers also have calculations that span two bits.\n",
        "Similarly, in a quantum computer, there are two qubit operations.\n",
        "One of these is the Control-X (Control-X) circuit."
      ],
      "metadata": {
        "id": "j3IZVXdK7kdf"
      }
    },
    {
      "cell_type": "code",
      "source": [
        "qc8.append(cirq.CNOT(q[0], q[1]))\n",
        "print(qc8)"
      ],
      "metadata": {
        "id": "c01M2ozQXDW4"
      },
      "execution_count": null,
      "outputs": []
    },
    {
      "cell_type": "markdown",
      "source": [
        "This is an operation that does nothing if the qubit specified by @ (control qubit) is 0, and if the qubit is 1, it performs an X operation on the paired qubits (target qubits). x is an inversion operation, so the paired qubits go from 0 to 1 and 1 to 0.\n",
        "Let's do it right away: in cirq, each qubit is set to 0, so nothing will happen as it is.\n",
        "So let's invert the control qubits first."
      ],
      "metadata": {
        "id": "Z9pyys8o9EPZ"
      }
    },
    {
      "cell_type": "code",
      "source": [
        "qc8 = cirq.Circuit()\n",
        "q = cirq.LineQubit.range(2)"
      ],
      "metadata": {
        "id": "pvIPOypT-Cqc"
      },
      "execution_count": null,
      "outputs": []
    },
    {
      "cell_type": "code",
      "source": [
        "qc8.append(cirq.X(q[0]))\n",
        "qc8.append(cirq.CNOT(q[0],q[1]))\n",
        "print(qc8)"
      ],
      "metadata": {
        "id": "gM212R5z-E_t"
      },
      "execution_count": null,
      "outputs": []
    },
    {
      "cell_type": "code",
      "source": [
        "from cirq.contrib.svg import SVGCircuit\n",
        "SVGCircuit(qc8)"
      ],
      "metadata": {
        "id": "_wAEceOmYl8M"
      },
      "execution_count": null,
      "outputs": []
    },
    {
      "cell_type": "markdown",
      "source": [
        "Now what is the result of this? The control qubit receives a change from 0 to 1. The result is that the control X circuit operates and the target qubit also flips from 0 to 1."
      ],
      "metadata": {
        "id": "Qd-vNakM-K5C"
      }
    },
    {
      "cell_type": "code",
      "source": [
        "res8 = sim.simulate(qc8)\n",
        "print(res8)"
      ],
      "metadata": {
        "id": "GoLNqxnT-Y4K"
      },
      "execution_count": null,
      "outputs": []
    },
    {
      "cell_type": "code",
      "source": [
        "print(res8.final_state_vector)"
      ],
      "metadata": {
        "id": "RiWncl7AgnRT"
      },
      "execution_count": null,
      "outputs": []
    },
    {
      "cell_type": "markdown",
      "source": [
        "These four numbers, in order from left to right, represent the probability amplitudes of the four states: 00, 01, 10, and 11.\n",
        "In other words, there is a 100 percent probability of being 11, which means that the desired behavior is being achieved."
      ],
      "metadata": {
        "id": "dRK8-O2v-txz"
      }
    },
    {
      "cell_type": "markdown",
      "source": [
        "So what about the case where the control qubits are in a superposition state?\n",
        "In fact, it is possible to compute for both cases of 0 and 1.\n",
        "This is the amazing nature of quantum computation."
      ],
      "metadata": {
        "id": "ID-I2mKt-h0v"
      }
    },
    {
      "cell_type": "code",
      "source": [
        "qc9 = cirq.Circuit()\n",
        "q = cirq.LineQubit.range(2)"
      ],
      "metadata": {
        "id": "8UB26_o0DOAg"
      },
      "execution_count": null,
      "outputs": []
    },
    {
      "cell_type": "markdown",
      "source": [
        "Use the Adamar circuit to create a superposition state in the control qubits.\n",
        "Then apply the control X circuit."
      ],
      "metadata": {
        "id": "CU7MsZliDQdm"
      }
    },
    {
      "cell_type": "code",
      "source": [
        "qc9.append(cirq.H(q[0]))\n",
        "qc9.append(cirq.CNOT(q[0],q[1]))\n",
        "SVGCircuit(qc9)"
      ],
      "metadata": {
        "id": "7AuBsOtzDbEr"
      },
      "execution_count": null,
      "outputs": []
    },
    {
      "cell_type": "markdown",
      "source": [
        "Let's look at this result. The result is that the target qubit is applied to both the case where the control qubit is 0 and the case where the control qubit is 1.\n",
        "The result is that it is both intact and inverted."
      ],
      "metadata": {
        "id": "tbM6dqJ-DmCX"
      }
    },
    {
      "cell_type": "code",
      "source": [
        "res9 = sim.simulate(qc9)\n",
        "print(res9)"
      ],
      "metadata": {
        "id": "jJpxR_2UDkcz"
      },
      "execution_count": null,
      "outputs": []
    },
    {
      "cell_type": "code",
      "source": [
        "print(res9.final_state_vector)"
      ],
      "metadata": {
        "id": "3EG-BRQwD7VA"
      },
      "execution_count": null,
      "outputs": []
    },
    {
      "cell_type": "markdown",
      "source": [
        "This result shows a 50/50 split between the results 00 and 11.\n",
        "If the control qubit is 0, the target qubit is left at 0, so 00, and\n",
        "11, because if the control qubit is 1, the target qubit is changed from 0 to 1.\n",
        "We can see that this is indeed the case.\n",
        "In this way, quantum computation uses the superposition state to reflect the result of the computation in both cases, and the computation can continue.\n",
        "Therefore, there is no need to try the 0 case and the 1 case, respectively.\n",
        "We can try both cases at the same time, and so on."
      ],
      "metadata": {
        "id": "a-StOGg1EE2g"
      }
    },
    {
      "cell_type": "markdown",
      "source": [
        "But that expression is not exactly true.\n",
        "It is true that you can try the case of 0 and the case of 1, but the only way to see what happens as a result of that try is to actually look at the result after you \"measure\" it, and you will only get one of those results.\n",
        "Then you have to try it at least twice, or several times if you are not careful, to find out what happened to both results.\n",
        "In that sense, quantum computation **takes advantage of the superposition state** and can be tried at the same time, but\n",
        "To find out what happens in each of those two cases, you will still have to try the same number of times.\n",
        "Therefore, the basis of quantum computation requires that the calculation be made such that only the ones that work well are taken out.\n",
        "Of the multiple numbers, take out only the ones that divide well.\n",
        "Of the multiple candidates, we take out only the ones we want.\n",
        "The former is the famous Shore's algorithm.\n",
        "The latter is Grover's search algorithm."
      ],
      "metadata": {
        "id": "PRwiPWENGyYD"
      }
    },
    {
      "cell_type": "code",
      "source": [],
      "metadata": {
        "id": "y4H0DXcvMz1Q"
      },
      "execution_count": null,
      "outputs": []
    }
  ]
}