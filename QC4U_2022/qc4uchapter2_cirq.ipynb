{
  "nbformat": 4,
  "nbformat_minor": 0,
  "metadata": {
    "colab": {
      "private_outputs": true,
      "provenance": [],
      "collapsed_sections": [],
      "include_colab_link": true
    },
    "kernelspec": {
      "name": "python3",
      "display_name": "Python 3"
    },
    "language_info": {
      "name": "python"
    }
  },
  "cells": [
    {
      "cell_type": "markdown",
      "metadata": {
        "id": "view-in-github",
        "colab_type": "text"
      },
      "source": [
        "<a href=\"https://colab.research.google.com/github/yoshihiroo/programming-workshop/blob/master/QC4U_2022/qc4uchapter2_cirq.ipynb\" target=\"_parent\"><img src=\"https://colab.research.google.com/assets/colab-badge.svg\" alt=\"Open In Colab\"/></a>"
      ]
    },
    {
      "cell_type": "markdown",
      "source": [
        "# QC4U 第2回 Cirq写経翻訳\n",
        "2022.9.18版"
      ],
      "metadata": {
        "id": "BrDsVfUv6WcT"
      }
    },
    {
      "cell_type": "markdown",
      "source": [
        "東北大学 [大関先生によるQC4U](https://altema.is.tohoku.ac.jp/QC4U/)の解説コードをもとに、理解を深めるためにCirqへの翻訳をやってみているものです。Cirq初心者ですので、正しくないコードの書き方や理解が間違っているところがあるかも知れませんがご容赦ください。説明の本文は敬意をもってほぼ丸々パクらせていただいております。（掲載については大関先生の了解を得ております。ご承諾ありがとうございます。）\n",
        "\n",
        "[元にした2022.09.16 第2回の解説コード](https://colab.research.google.com/gist/mohzeki222/3e775df4ee15de10cd5aa6912332abdb/qc4uchapter2.ipynb)"
      ],
      "metadata": {
        "id": "LDrZDGjcibyw"
      }
    },
    {
      "cell_type": "markdown",
      "source": [
        "# cirqのインストール\n",
        "\n",
        "前回に引き続きGoogleが提供するcirqを利用しましょう。\n",
        "（注意追記）コマンド実行後、WARNINGとともにRESTART RUNTIMEボタンが出てくるのでクリックしてランタイムを再起動する。"
      ],
      "metadata": {
        "id": "yoYNDMRnnWr8"
      }
    },
    {
      "cell_type": "code",
      "source": [
        "pip install cirq"
      ],
      "metadata": {
        "id": "2jMYymbRmK0C"
      },
      "execution_count": null,
      "outputs": []
    },
    {
      "cell_type": "markdown",
      "source": [
        "今回はグローバーの探索アルゴリズムを用いて、振幅を大きくして、所望の量子状態を得るという計算を実行してみます。"
      ],
      "metadata": {
        "id": "jnWk7GsFv0rF"
      }
    },
    {
      "cell_type": "code",
      "execution_count": null,
      "metadata": {
        "id": "FgZN8RH3jfGL"
      },
      "outputs": [],
      "source": [
        "import cirq"
      ]
    },
    {
      "cell_type": "markdown",
      "source": [
        "今回は5量子ビットを利用して、$2^5$通りの量子状態の中から所望の量子状態を1つ取り出します。\n",
        "グローバーのアルゴリズムでは、どの量子状態が欲しいのかをリクエストする「オラクル」の存在が必要です。\n",
        "そのオラクルに、この量子状態が欲しいとチェックしてもらいます。\n",
        "ただそのチェックが、振幅を大きくするようなものであったらやらせになってしまいますので、\n",
        "そのオラクルは、あくまで振幅の大きさはそのままに反転だけしてくれるというものとします。"
      ],
      "metadata": {
        "id": "PvFXndnDXfLT"
      }
    },
    {
      "cell_type": "markdown",
      "source": [
        "まずその所望の状態に目印をつけるためには、どうしたら良いのかを考えてみましょう。\n",
        "1つの量子ビットだけだったらちょっと簡単かもしれないので2つ以上を考えましょう。\n",
        "|00>,|01>,|10>,|11>の4つの状態から、一つを取り出すというわけです。\n",
        "例えば|11>という量子状態だけを目印をつけることを考えます。\n",
        "これにはちょうど良い回路があり制御Zゲートというものがあります。\n",
        "\n"
      ],
      "metadata": {
        "id": "hpwmef3JggQq"
      }
    },
    {
      "cell_type": "code",
      "source": [
        "n=2\n",
        "\n",
        "qc = cirq.Circuit()\n",
        "q = cirq.LineQubit.range(n)"
      ],
      "metadata": {
        "id": "nPcdKcEug8Vx"
      },
      "execution_count": null,
      "outputs": []
    },
    {
      "cell_type": "markdown",
      "source": [
        "まずは2つの量子ビットを用意しました。\n",
        "これに複数の状態を重ね合わせの状態にするためにアダマール回路を適用します。\n"
      ],
      "metadata": {
        "id": "qaLVp9q2g-Wi"
      }
    },
    {
      "cell_type": "code",
      "source": [
        "qc.append(cirq.H.on_each(q))\n",
        "\n",
        "#以下の二行のコマンドと同じ\n",
        "#qc.append(cirq.H(q[0]))\n",
        "#qc.append(cirq.H(q[1]))"
      ],
      "metadata": {
        "id": "K9t7nB94qdUC"
      },
      "execution_count": null,
      "outputs": []
    },
    {
      "cell_type": "markdown",
      "source": [
        "途中経過を見てみたいときはシミュレータで動かしてみましょう。"
      ],
      "metadata": {
        "id": "9PiyHOYrhUFo"
      }
    },
    {
      "cell_type": "code",
      "source": [
        "sim = cirq.Simulator()\n",
        "res = sim.simulate(qc)\n",
        "print(res)"
      ],
      "metadata": {
        "id": "djX0GeWFhWuI"
      },
      "execution_count": null,
      "outputs": []
    },
    {
      "cell_type": "markdown",
      "source": [
        "結果を表示するためには次の通りのコードでよかったですね。"
      ],
      "metadata": {
        "id": "udJEybUhhaR_"
      }
    },
    {
      "cell_type": "code",
      "source": [
        "print(res.final_state_vector.round(5))"
      ],
      "metadata": {
        "id": "fSlsaVeXhfMd"
      },
      "execution_count": null,
      "outputs": []
    },
    {
      "cell_type": "markdown",
      "source": [
        "それぞれ1/2ですから2乗してみると1/4です。4つの状態のどれも均等な確率になるというわけです。"
      ],
      "metadata": {
        "id": "mMHzxSw4hlfs"
      }
    },
    {
      "cell_type": "markdown",
      "source": [
        "さてこれに制御Zゲートを適用してみましょう。\n",
        "czで実装することができます。\n",
        "どちらが制御量子ビットでどちらが標的量子ビットかを指定して実行します。"
      ],
      "metadata": {
        "id": "YqRJJ4Jghsx_"
      }
    },
    {
      "cell_type": "code",
      "source": [
        "qc.append(cirq.CZ(q[0], q[1]))"
      ],
      "metadata": {
        "id": "l5d-cJ8Eh65z"
      },
      "execution_count": null,
      "outputs": []
    },
    {
      "cell_type": "markdown",
      "source": [
        "途中の回路の状況を見るにはprintでしたね。"
      ],
      "metadata": {
        "id": "AuARJXkJh9yr"
      }
    },
    {
      "cell_type": "code",
      "source": [
        "print(qc)"
      ],
      "metadata": {
        "id": "cPR3oXpriAZR"
      },
      "execution_count": null,
      "outputs": []
    },
    {
      "cell_type": "markdown",
      "source": [
        "さてこのときに振幅はどうなっているのでしょうか。"
      ],
      "metadata": {
        "id": "oT9mKKjEiCq-"
      }
    },
    {
      "cell_type": "code",
      "source": [
        "sim = cirq.Simulator()\n",
        "res = sim.simulate(qc)\n",
        "print(res)"
      ],
      "metadata": {
        "id": "Ge8DuD6ViJLD"
      },
      "execution_count": null,
      "outputs": []
    },
    {
      "cell_type": "markdown",
      "source": [
        "狙い通り|11>に-1を目印をつけることができました。\n",
        "これは何をしているのかというと、制御量子ビットが0の時は何もしない。そして制御量子ビットが1の時にはZという回路を作用させるというものです。\n",
        "|00>と|01>には何もせず、|10>,|11>には何かをするというわけです。\n",
        "その何かであるZという回路は、0の場合にはそのまま、1のときには-1という目印をつけるというものになっています。\n",
        "だから|10>は何もせず,|11>は目印をつけるという計算結果になっています。\n",
        "これが並列的に、|00>,|01>,|10>,|11>とそれぞれを取り出してやらないで**一度だけでできているというところが驚き**です。"
      ],
      "metadata": {
        "id": "wKAAg2yciLte"
      }
    },
    {
      "cell_type": "markdown",
      "source": [
        "### 等価な回路\n",
        "量子回路にはさまざまなものがありますが、中には同じ計算結果になるものもあります。\n",
        "その全てを覚えることは難しいかと思いますが、慣れていくと計算結果がわかってくるので、これは別の書き方ができるな、と思うものもあるかもしれません。\n",
        "\n",
        "特にアダマール回路は、ZとXの役割を反転させることで有名です。\n",
        "Zは0の場合にそのまま、1の場合には目印をつけてくれました。\n",
        "アダマール回路は、|0>の場合に|0>＋|1>という重ね合わせの状態を、|1>の場合に|0>-|1>という重ね合わせの状態を作り出してくれます。\n",
        "そこでXを利用して反転させると|1>-|0>となって、元の状態に比べると係数が-1倍されていることがわかります。これはZの効果と似ていることに気づきます。\n",
        "しかしこの重ね合わせの状態のままだとややこしいので、元に戻しましょう。\n",
        "次のような回路を実行してみます。"
      ],
      "metadata": {
        "id": "qR4TEBV9sNF_"
      }
    },
    {
      "cell_type": "code",
      "source": [
        "qc2 = cirq.Circuit()\n",
        "q = cirq.LineQubit.range(1)"
      ],
      "metadata": {
        "id": "i71vgPcltGLe"
      },
      "execution_count": null,
      "outputs": []
    },
    {
      "cell_type": "markdown",
      "source": [
        "ここでアダマール回路の後にXを適用し、その後にアダマール回路を施します。\n"
      ],
      "metadata": {
        "id": "a9w3aDUetInL"
      }
    },
    {
      "cell_type": "code",
      "source": [
        "qc2.append([\n",
        "    cirq.H(q[0]),\n",
        "    cirq.X(q[0]),\n",
        "    cirq.H(q[0])\n",
        "])\n",
        "\n",
        "#以下の３行の書き方と同じ\n",
        "#qc2.append(cirq.H(q[0]))\n",
        "#qc2.append(cirq.X(q[0]))\n",
        "#qc2.append(cirq.H(q[0]))"
      ],
      "metadata": {
        "id": "BBC0VHOYtSv-"
      },
      "execution_count": null,
      "outputs": []
    },
    {
      "cell_type": "markdown",
      "source": [
        "回路の全体像は次の通りです。"
      ],
      "metadata": {
        "id": "6svAlQRdtbFf"
      }
    },
    {
      "cell_type": "code",
      "source": [
        "print(qc2)"
      ],
      "metadata": {
        "id": "JcUuY90ItdNm"
      },
      "execution_count": null,
      "outputs": []
    },
    {
      "cell_type": "markdown",
      "source": [
        "この計算結果はどのようになるでしょうか。\n"
      ],
      "metadata": {
        "id": "VyfrjiS_teuW"
      }
    },
    {
      "cell_type": "code",
      "source": [
        "res2 = sim.simulate(qc2)\n",
        "print(res2.final_state_vector.round(5))"
      ],
      "metadata": {
        "id": "OuezM7wetil2"
      },
      "execution_count": null,
      "outputs": []
    },
    {
      "cell_type": "markdown",
      "source": [
        "何も起きないのは仕方ありませんね。最初の状態が|0>でしたので、そのまま何も起こらなかったのでしょう。\n",
        "これはZの作用と似ています。\n",
        "それでは最初の状態を反転した|1>にしてみましょう。"
      ],
      "metadata": {
        "id": "RIgHzXyxtjtB"
      }
    },
    {
      "cell_type": "code",
      "source": [
        "qc3 = cirq.Circuit()\n",
        "q = cirq.LineQubit.range(1)\n",
        "qc3.append(cirq.X(q[0]))"
      ],
      "metadata": {
        "id": "d0vMTmlCtu2H"
      },
      "execution_count": null,
      "outputs": []
    },
    {
      "cell_type": "markdown",
      "source": [
        "さてこれに対して、アダマールとX、そしてアダマールを実行してみよう。"
      ],
      "metadata": {
        "id": "0e_8uM5nvGeV"
      }
    },
    {
      "cell_type": "code",
      "source": [
        "qc3.append([\n",
        "    cirq.H(q[0]),\n",
        "    cirq.X(q[0]),\n",
        "    cirq.H(q[0])\n",
        "])"
      ],
      "metadata": {
        "id": "5gZcPiK4vAsA"
      },
      "execution_count": null,
      "outputs": []
    },
    {
      "cell_type": "markdown",
      "source": [
        "回路の全体像は次の通り。"
      ],
      "metadata": {
        "id": "-LVNfrrAvOcU"
      }
    },
    {
      "cell_type": "code",
      "source": [
        "print(qc3)"
      ],
      "metadata": {
        "id": "DK7vhLTEvQQj"
      },
      "execution_count": null,
      "outputs": []
    },
    {
      "cell_type": "markdown",
      "source": [
        "シミュレーターでどんな結果になるのかを見てみましょう。"
      ],
      "metadata": {
        "id": "wwaPtRyYvSOO"
      }
    },
    {
      "cell_type": "code",
      "source": [
        "res3 = sim.simulate(qc3)\n",
        "print(res3.final_state_vector)"
      ],
      "metadata": {
        "id": "URApq4wCvWJh"
      },
      "execution_count": null,
      "outputs": []
    },
    {
      "cell_type": "markdown",
      "source": [
        "Zと同じように0の時は何もせず、1の時は-1と係数が反転するようになりました。"
      ],
      "metadata": {
        "id": "oNrpu4eCvZ2I"
      }
    },
    {
      "cell_type": "markdown",
      "source": [
        "これと同じように制御Z回路は、制御X回路から作ることができます。"
      ],
      "metadata": {
        "id": "mEt0FH5Cvhj_"
      }
    },
    {
      "cell_type": "markdown",
      "source": [
        "そのため|11>だけに-1をつけるということは次のようにしても実行できることになります。"
      ],
      "metadata": {
        "id": "c66jYd5qvn6c"
      }
    },
    {
      "cell_type": "code",
      "source": [
        "qc4 = cirq.Circuit()\n",
        "q = cirq.LineQubit.range(2)"
      ],
      "metadata": {
        "id": "OrK_qfMwvmS8"
      },
      "execution_count": null,
      "outputs": []
    },
    {
      "cell_type": "markdown",
      "source": [
        "これでまずはアダマール回路を適用して重ね合わせの状態を作ります。"
      ],
      "metadata": {
        "id": "dCQIOqnqvvjH"
      }
    },
    {
      "cell_type": "code",
      "source": [
        "qc4.append(cirq.H.on_each(q))"
      ],
      "metadata": {
        "id": "inBdtdDcvzwE"
      },
      "execution_count": null,
      "outputs": []
    },
    {
      "cell_type": "markdown",
      "source": [
        "そして制御Zゲートの代わりに制御Xゲートを使って実行してみましょう。"
      ],
      "metadata": {
        "id": "YOeu92X3v6el"
      }
    },
    {
      "cell_type": "code",
      "source": [
        "qc4.append([\n",
        "    cirq.H(q[1]),\n",
        "    cirq.CX(q[0],q[1]),\n",
        "    cirq.H(q[1])\n",
        "])"
      ],
      "metadata": {
        "id": "3CGn-DNMv_gx"
      },
      "execution_count": null,
      "outputs": []
    },
    {
      "cell_type": "markdown",
      "source": [
        "回路の全体像を見てみるとなかなか複雑な格好をし始めてきました。"
      ],
      "metadata": {
        "id": "3U7TrTDmwLWI"
      }
    },
    {
      "cell_type": "code",
      "source": [
        "from cirq.contrib.svg import SVGCircuit\n",
        "SVGCircuit(qc4)"
      ],
      "metadata": {
        "id": "AUvN2cfqwOQp"
      },
      "execution_count": null,
      "outputs": []
    },
    {
      "cell_type": "markdown",
      "source": [
        "それではこの回路を実行してみましょう。"
      ],
      "metadata": {
        "id": "5oCsQRLrwQwe"
      }
    },
    {
      "cell_type": "code",
      "source": [
        "res4 = sim.simulate(qc4)\n",
        "print(res4.final_state_vector.round(5))"
      ],
      "metadata": {
        "id": "dOpnGFRGwYk4"
      },
      "execution_count": null,
      "outputs": []
    },
    {
      "cell_type": "markdown",
      "source": [
        "望み通り、|11>だけの係数を-1に反転することに成功しました！\n",
        "このようにアダマール回路は、XとZの効果を逆転させることができます。\n",
        "また|0>の状態に作用させると|0>+|1>という重ね合わせの状態にするところも、量子回路らしい特徴を持った重要な回路であることをうかがわせます。"
      ],
      "metadata": {
        "id": "m5KGkDnKwk22"
      }
    },
    {
      "cell_type": "markdown",
      "source": [
        "### 自由な回路設計\n",
        "\n",
        "目印をつけたいときに11ではない、\n",
        "他の状態に目印をつけるにはどうしたら良いでしょう。\n",
        "例えば01に目印をつけたいとしましょう。\n",
        "その場合には、01を11にしてCZを適用した後に、何事もなかったように元に戻してあげるということを試してみましょう。"
      ],
      "metadata": {
        "id": "yrvYahcwiGQs"
      }
    },
    {
      "cell_type": "code",
      "source": [
        "qc5 = cirq.Circuit()\n",
        "q = cirq.LineQubit.range(2)"
      ],
      "metadata": {
        "id": "Ag1wbjqbjFAp"
      },
      "execution_count": null,
      "outputs": []
    },
    {
      "cell_type": "markdown",
      "source": [
        "まずは同じように重ね合わせの状態を作り、2つ目の量子ビットにXを適用して、01は11になるようにします。\n",
        "ここで00も10に反転してしまいますが、この場合は目印はつけられないので、\n",
        "後で元に戻せば怒られません。"
      ],
      "metadata": {
        "id": "3iiTFgusjLc6"
      }
    },
    {
      "cell_type": "code",
      "source": [
        "qc5.append(cirq.H.on_each(q))"
      ],
      "metadata": {
        "id": "HPf1FaIbjYr_"
      },
      "execution_count": null,
      "outputs": []
    },
    {
      "cell_type": "code",
      "source": [
        "qc5.append([\n",
        "    cirq.X(q[1]),\n",
        "    cirq.CZ(q[0],q[1]),\n",
        "    cirq.X(q[1])\n",
        "])"
      ],
      "metadata": {
        "id": "EWEazlzhn8Yi"
      },
      "execution_count": null,
      "outputs": []
    },
    {
      "cell_type": "markdown",
      "source": [
        "回路の全体像は次のようなものになります。"
      ],
      "metadata": {
        "id": "4rSFZNcLjf0e"
      }
    },
    {
      "cell_type": "code",
      "source": [
        "SVGCircuit(qc5)"
      ],
      "metadata": {
        "id": "rnIuGX2wnqY-"
      },
      "execution_count": null,
      "outputs": []
    },
    {
      "cell_type": "markdown",
      "source": [
        "さてこの実行結果はいかがでしょうか。"
      ],
      "metadata": {
        "id": "rtEwsgTAntLX"
      }
    },
    {
      "cell_type": "code",
      "source": [
        "res5 = sim.simulate(qc5)\n",
        "print(res5.final_state_vector.round(5))\n",
        "print(res5)"
      ],
      "metadata": {
        "id": "zwvHQx5xnwz6"
      },
      "execution_count": null,
      "outputs": []
    },
    {
      "cell_type": "markdown",
      "source": [
        "お望み通り01（２番目）に目印をつけることができました。このようにして制御Zを利用して目印をつけることでオラクルを実現することができます。\n",
        "２量子ビットの場合の制御Zと同様に、複数量子ビットの場合も基本的には|11...11>の状態に目印をつけることができれば同等のことができることに気づきます。\n"
      ],
      "metadata": {
        "id": "kLWTn-M2olNB"
      }
    },
    {
      "cell_type": "markdown",
      "source": [
        "### 複数の量子ビットに対するオラクル"
      ],
      "metadata": {
        "id": "ye1ng14LxEX_"
      }
    },
    {
      "cell_type": "markdown",
      "source": [
        "例えば5個の量子ビットを用意して、その莫大な量子状態を重ね合わせの状態にして、どれが良いか探索する準備を行います。"
      ],
      "metadata": {
        "id": "Au3Bh_BYp1pl"
      }
    },
    {
      "cell_type": "code",
      "source": [
        "n = 5\n",
        "qc6 = cirq.Circuit()\n",
        "q = cirq.LineQubit.range(n)"
      ],
      "metadata": {
        "id": "RMFHGZdkpyeZ"
      },
      "execution_count": null,
      "outputs": []
    },
    {
      "cell_type": "markdown",
      "source": [
        "この5個の量子ビットそれぞれにアダマール回路を適用すると0と1の重ね合わせ状態が作られます。\n",
        "いくつも書くのはしんどいので、for文、プログラムではコンピュータに繰り返しの作業をお願いすることができます。"
      ],
      "metadata": {
        "id": "qcD1YCWIgpod"
      }
    },
    {
      "cell_type": "code",
      "source": [
        "for k in range(n):\n",
        "  qc6.append(cirq.H(q[k]))"
      ],
      "metadata": {
        "id": "SSaM4-NJa4Rs"
      },
      "execution_count": null,
      "outputs": []
    },
    {
      "cell_type": "markdown",
      "source": [
        "またはon_each(q)とだけ打つと全ての量子ビットに同じ作用をさせることができます。"
      ],
      "metadata": {
        "id": "AhYO_OR-rZsK"
      }
    },
    {
      "cell_type": "code",
      "source": [
        "#qc6.append(cirq.H.on_each(q))"
      ],
      "metadata": {
        "id": "illEUiDwrU4u"
      },
      "execution_count": null,
      "outputs": []
    },
    {
      "cell_type": "markdown",
      "source": [
        "これに対して制御Zゲートと同じ挙動を複数の量子ビットにまたがって行うものを多重制御Zゲートと呼びます。\n",
        "ただその実装はqiskitでそのままでは存在せず、次のように多重制御Xゲート（mcx）を利用して実行する。"
      ],
      "metadata": {
        "id": "632XWEuIbCFm"
      }
    },
    {
      "cell_type": "code",
      "source": [
        "qc6.append(cirq.Z(q[n-1]).controlled_by(*q[0:n-1])) # Cirqでは多重制御Zゲートを使えるので、以下３行が不要\n",
        "#qc6.append(cirq.H(q[n-1]))\n",
        "#qc6.append(cirq.X(q[n-1]).controlled_by(*q[0:n-1]))\n",
        "#qc6.append(cirq.H(q[n-1]))"
      ],
      "metadata": {
        "id": "oUEoKXfaq02S"
      },
      "execution_count": null,
      "outputs": []
    },
    {
      "cell_type": "code",
      "source": [
        "SVGCircuit(qc6)"
      ],
      "metadata": {
        "id": "iTOlyrPZrTVM"
      },
      "execution_count": null,
      "outputs": []
    },
    {
      "cell_type": "markdown",
      "source": [
        "さてこの回路が、|11111>に対してのみ係数が-1に反転してくれれば良い。\n",
        "それを確認してみましょう。"
      ],
      "metadata": {
        "id": "AK-rXBgzbHtm"
      }
    },
    {
      "cell_type": "markdown",
      "source": [
        "量子状態がどのようになっているのかを確認するにはいつものようにシミュレータで実行しましょう。"
      ],
      "metadata": {
        "id": "NqxLoaxvbR3I"
      }
    },
    {
      "cell_type": "code",
      "source": [
        "res6 = sim.simulate(qc6)\n",
        "print(res6.final_state_vector.round(5))"
      ],
      "metadata": {
        "id": "SgCZKYm0bQkp"
      },
      "execution_count": null,
      "outputs": []
    },
    {
      "cell_type": "markdown",
      "source": [
        "ちゃんと期待通り、|11111>にのみ係数がかかっていますね。\n",
        "ちなみに係数の大きさは、全ての振幅が0.17678程度です。\n",
        "これは$2^5=32$から、$1/\\sqrt{32}\\approx 0.17678$という計算結果と整合しています。"
      ],
      "metadata": {
        "id": "2cPDHbhJyZvI"
      }
    },
    {
      "cell_type": "markdown",
      "source": [
        "以上をまとめると、欲しい状態に印をつけてくれるオラクルが作れそうです。\n",
        "32個の状態の中から何個目のものを取り出したいか、\n",
        "数字を指定されると、その２進数表示を出す関数を利用します。"
      ],
      "metadata": {
        "id": "XLmNWPUtb9aR"
      }
    },
    {
      "cell_type": "code",
      "source": [
        "N = 12\n",
        "binN = format(N, '05b')[::-1] #最上位ビットの位置がqiskitと逆（qiskitは左だが、cirqは右）のため、反転\n",
        "                              #Qiskitの場合は01100. Cirqの場合は00110\n",
        "print(binN)"
      ],
      "metadata": {
        "id": "IIvhufJbzGzE"
      },
      "execution_count": null,
      "outputs": []
    },
    {
      "cell_type": "markdown",
      "source": [
        "このうち0だったところの量子ビットを反転するXを適用することで、その欲しい状態を|11111>にしてあげることができます。それで多重制御Zゲートをかければ良いですね。"
      ],
      "metadata": {
        "id": "Bdl7AnawzGSf"
      }
    },
    {
      "cell_type": "code",
      "source": [
        "n = 5\n",
        "qc7 = cirq.Circuit()"
      ],
      "metadata": {
        "id": "P2l779T_y4yY"
      },
      "execution_count": null,
      "outputs": []
    },
    {
      "cell_type": "markdown",
      "source": [
        "まずは重ね合わせの状態にしましょう。\n",
        "全ての量子ビットにアダマール回路をかけます。"
      ],
      "metadata": {
        "id": "MsmZUqFQzBD0"
      }
    },
    {
      "cell_type": "code",
      "source": [
        "qc7.append(cirq.H.on_each(q))"
      ],
      "metadata": {
        "id": "4llXnVpEzC8u"
      },
      "execution_count": null,
      "outputs": []
    },
    {
      "cell_type": "markdown",
      "source": [
        "これに対して、binNで0だったところにxを適用します。\n",
        "ここで逆から読む必要があることに注意してください。"
      ],
      "metadata": {
        "id": "KFDrXHZqdWfQ"
      }
    },
    {
      "cell_type": "code",
      "source": [
        "for k in range(n):\n",
        "  if binN[n-k-1] == \"0\":\n",
        "    qc7.append(cirq.X(q[k]))"
      ],
      "metadata": {
        "id": "vztaRqmydGOe"
      },
      "execution_count": null,
      "outputs": []
    },
    {
      "cell_type": "markdown",
      "source": [
        "そしてその後に多重制御Zゲートを実行しましょう。"
      ],
      "metadata": {
        "id": "iiLyRbDUzZt_"
      }
    },
    {
      "cell_type": "code",
      "source": [
        "qc7.append(cirq.Z(q[n-1]).controlled_by(*q[0:n-1]))"
      ],
      "metadata": {
        "id": "KcuknIeTdKdy"
      },
      "execution_count": null,
      "outputs": []
    },
    {
      "cell_type": "markdown",
      "source": [
        "そしてXを適用したところにもう一度同じ作用を実行して、元に戻してあげましょう。"
      ],
      "metadata": {
        "id": "9-8XdwrI0PZ7"
      }
    },
    {
      "cell_type": "code",
      "source": [
        "for k in range(n):\n",
        "  if binN[n-k-1] == \"0\":\n",
        "    qc7.append(cirq.X(q[k]))"
      ],
      "metadata": {
        "id": "frQrJ6io0VaE"
      },
      "execution_count": null,
      "outputs": []
    },
    {
      "cell_type": "markdown",
      "source": [
        "回路の全体像は次の通りです。"
      ],
      "metadata": {
        "id": "yNxAJll5zh_z"
      }
    },
    {
      "cell_type": "code",
      "source": [
        "SVGCircuit(qc7)"
      ],
      "metadata": {
        "id": "RD_6b5r6zgYT"
      },
      "execution_count": null,
      "outputs": []
    },
    {
      "cell_type": "code",
      "source": [
        "res7 = sim.simulate(qc7)\n",
        "print(res7.final_state_vector)"
      ],
      "metadata": {
        "id": "VQXZV0Qszkqh"
      },
      "execution_count": null,
      "outputs": []
    },
    {
      "cell_type": "markdown",
      "source": [
        "長すぎるので、結果が省略されてしまいますね。"
      ],
      "metadata": {
        "id": "8kGpaY340Z8n"
      }
    },
    {
      "cell_type": "markdown",
      "source": [
        "12番目の係数が負になっていることを確認すれば良いので、直接みてみましょう。"
      ],
      "metadata": {
        "id": "8UwGJnKi46Yw"
      }
    },
    {
      "cell_type": "code",
      "source": [
        "print(res7.final_state_vector[12])"
      ],
      "metadata": {
        "id": "E7jF5id-zvXe"
      },
      "execution_count": null,
      "outputs": []
    },
    {
      "cell_type": "markdown",
      "source": [
        "無事にオラクルを作ることに成功しました。"
      ],
      "metadata": {
        "id": "1ZVV-ST-5F1M"
      }
    },
    {
      "cell_type": "markdown",
      "source": [
        "ここまでに作った自作のオラクル回路をまとめておいて、後で利用できる形にしておきましょう。\n",
        "そのためにはpythonで自作関数を作ります。\n",
        "$2^n-1$を最大値としてさまざまな数値を受け取れるようにif文で例外処理を設けつつ、\n",
        "以下のように関数を定義します。"
      ],
      "metadata": {
        "id": "9EKJuWG_quwe"
      }
    },
    {
      "cell_type": "code",
      "source": [
        "from sympy.core.evalf import quadosc\n",
        "\n",
        "def oracle(N,n):\n",
        "  if N > 2**n - 1:\n",
        "    N = 2**n-1\n",
        "\n",
        "  qc = cirq.Circuit()\n",
        "  q = cirq.LineQubit.range(n)\n",
        "\n",
        "  binN = format(N, '05b')[::-1] #最上位ビットの位置がqiskitと逆（qiskitは左だが、cirqは右）のため、反転\n",
        "  \n",
        "  #所望の状態を|111...1>に\n",
        "  for k in range(n):\n",
        "    if binN[n-k-1] == \"0\":\n",
        "      qc.append(cirq.X(q[k]))\n",
        "\n",
        "  #多重制御Zゲート\n",
        "  qc.append(cirq.Z(q[n-1]).controlled_by(*q[0:n-1]))\n",
        "\n",
        "  #|111...1>から所望の状態に戻す\n",
        "  for k in range(n):\n",
        "    if binN[n-k-1] == \"0\":\n",
        "      qc.append(cirq.X(q[k]))\n",
        "\n",
        "#  Uoracle = qc.to_gate()\n",
        "#  Uoracle.name = \"Uoracle\"\n",
        "\n",
        "  return qc"
      ],
      "metadata": {
        "id": "sJRNr8GBqW_a"
      },
      "execution_count": null,
      "outputs": []
    },
    {
      "cell_type": "markdown",
      "source": [
        "最後に用意した量子回路を、ひとつのまとまった回路にするという、to_gate()を利用します。"
      ],
      "metadata": {
        "id": "dxsTpyDus_sb"
      }
    },
    {
      "cell_type": "markdown",
      "source": [
        "早速このまとめられた回路を利用して、プログラムを書くと以下のようにコンパクトにすることができます。"
      ],
      "metadata": {
        "id": "qmbEWaH7tFcf"
      }
    },
    {
      "cell_type": "code",
      "source": [
        "n = 5\n",
        "N = 8\n",
        "\n",
        "qc8 = cirq.Circuit()\n",
        "q = cirq.LineQubit.range(n)\n",
        "\n",
        "qc8.append(cirq.H.on_each(q))\n",
        "oracle_gate = oracle(N,n)\n",
        "qc8.append(oracle_gate)\n"
      ],
      "metadata": {
        "id": "BpJn6eiM0e1h"
      },
      "execution_count": null,
      "outputs": []
    },
    {
      "cell_type": "markdown",
      "source": [
        "qc8.append(oracle_gate,qr)\n",
        "というところが特徴的ですね。自作回路を、どの量子ビットにかけるかを指定しています。\n",
        "全てにかけたい場合はqrでOKです！\n",
        "\n",
        "出来上がった回路を見てみると次のようになります。"
      ],
      "metadata": {
        "id": "j8ibhqu9tmPt"
      }
    },
    {
      "cell_type": "code",
      "source": [
        "SVGCircuit(qc8)"
      ],
      "metadata": {
        "id": "8Z4SBOm2sjFR"
      },
      "execution_count": null,
      "outputs": []
    },
    {
      "cell_type": "markdown",
      "source": [
        "中身がわからないまとめられた形にされてしまいましたが、自分で作ったものですから不安はありませんね。\n",
        "と言っても正しく動作しているかどうかはしっかり確かめたいところです。\n",
        "こうした自作回路の場合はそのままシミュレータを利用することができません。\n",
        "transpileを利用して、シミュレータで実行するために利用できる回路で書き直してもらいましょう。"
      ],
      "metadata": {
        "id": "5hbQdNwltMB8"
      }
    },
    {
      "cell_type": "code",
      "source": [
        "res8 = sim.simulate(qc8)\n",
        "print(res8.final_state_vector.round(5))"
      ],
      "metadata": {
        "id": "TDoMr6m5GNkG"
      },
      "execution_count": null,
      "outputs": []
    },
    {
      "cell_type": "code",
      "source": [
        "print(res8.final_state_vector[N].round(5))"
      ],
      "metadata": {
        "id": "JVnE3B3UGgH6"
      },
      "execution_count": null,
      "outputs": []
    },
    {
      "cell_type": "markdown",
      "source": [
        "正しくNのところだけ振幅を負にすることができました！"
      ],
      "metadata": {
        "id": "FsB5ZfWEG-OM"
      }
    },
    {
      "cell_type": "markdown",
      "source": [
        "### diffuserの作成\n",
        "\n",
        "さて次はこの振幅が負になった量子状態から、振幅を増幅させるということを考えます。\n",
        "重ね合わせの状態にある量子状態から、探している量子状態の振幅だけを反転させました。\n",
        "これは重ね合わせの状態と言っても崩れているものだと言えます。"
      ],
      "metadata": {
        "id": "LRKy3PfUvCAW"
      }
    },
    {
      "cell_type": "markdown",
      "source": [
        "簡単のため2量子ビットで重ね合わせの状態を作ってみます。"
      ],
      "metadata": {
        "id": "zTelTCRIyIGK"
      }
    },
    {
      "cell_type": "code",
      "source": [
        "n = 2\n",
        "qc9 = cirq.Circuit()\n",
        "q = cirq.LineQubit.range(n)\n",
        "qc9.append(cirq.H.on_each(q))"
      ],
      "metadata": {
        "id": "Yzr5h-O5szts"
      },
      "execution_count": null,
      "outputs": []
    },
    {
      "cell_type": "markdown",
      "source": [
        "この状況でシミュレーションを実行すると全ての状態が同じ係数で重ね合わせの状態となっています。"
      ],
      "metadata": {
        "id": "2tKUBtuy3HwH"
      }
    },
    {
      "cell_type": "code",
      "source": [
        "res9 = sim.simulate(qc9)\n",
        "print(res9.final_state_vector.round(5))"
      ],
      "metadata": {
        "id": "GwkPn_iNycga"
      },
      "execution_count": null,
      "outputs": []
    },
    {
      "cell_type": "markdown",
      "source": [
        "これで重ね合わせの状態を解いてみるとどうでしょうか。\n",
        "アダマール回路をもう一度全ての量子ビットについて実行します。"
      ],
      "metadata": {
        "id": "Jaem-z7U3Mjb"
      }
    },
    {
      "cell_type": "code",
      "source": [
        "qc9.append(cirq.H.on_each(q))"
      ],
      "metadata": {
        "id": "EwIIw2do3SBd"
      },
      "execution_count": null,
      "outputs": []
    },
    {
      "cell_type": "markdown",
      "source": [
        "回路全体は次の通りです。"
      ],
      "metadata": {
        "id": "MjCYgnTz3TAq"
      }
    },
    {
      "cell_type": "code",
      "source": [
        "print(qc9)"
      ],
      "metadata": {
        "id": "bozknFTb3Gas"
      },
      "execution_count": null,
      "outputs": []
    },
    {
      "cell_type": "markdown",
      "source": [
        "シミュレーションしてみると、次のように変化していることがわかります。"
      ],
      "metadata": {
        "id": "prMTs5EA3XWd"
      }
    },
    {
      "cell_type": "code",
      "source": [
        "res9 = sim.simulate(qc9)\n",
        "print(res9.final_state_vector.round(5))"
      ],
      "metadata": {
        "id": "q9kDp4BE3WBe"
      },
      "execution_count": null,
      "outputs": []
    },
    {
      "cell_type": "markdown",
      "source": [
        "|00>という状態になります。\n",
        "一方で重ね合わせの状態を少し崩してみることにしましょう。"
      ],
      "metadata": {
        "id": "0dzKTgWb5QUh"
      }
    },
    {
      "cell_type": "code",
      "source": [
        "n = 2\n",
        "qc10 = cirq.Circuit()\n",
        "q = cirq.LineQubit.range(n)\n",
        "qc10.append(cirq.H.on_each(q))\n",
        "qc10.append(cirq.CZ(q[0],q[1]))\n",
        "qc10.append(cirq.H.on_each(q))"
      ],
      "metadata": {
        "id": "gXYSVij63cAF"
      },
      "execution_count": null,
      "outputs": []
    },
    {
      "cell_type": "markdown",
      "source": [
        "途中で制御Zゲートを導入しているので、|11>だけ振幅が反転したという状況です。"
      ],
      "metadata": {
        "id": "0fgi8tG-5dU_"
      }
    },
    {
      "cell_type": "code",
      "source": [
        "res10 = sim.simulate(qc10)\n",
        "print(res10)"
      ],
      "metadata": {
        "id": "DzodYvn05bp-"
      },
      "execution_count": null,
      "outputs": []
    },
    {
      "cell_type": "markdown",
      "source": [
        "すると先ほどとは異なり、|00>だけではなく、他の状態にも確率振幅が出てくるようになりました。\n",
        "まず|00>が重ね合わせの状態が完璧にできている場合に、アダマール回路を経ると反応すると考えると、重ね合わせの状態から崩れた影響で、|01>,|10>,|11>にも確率振幅が漏れ出したということが言えます。\n",
        "その漏れ出した確率振幅は、目印をつけるために振幅をマイナスにした影響で生じたはずです。\n",
        "|00>だけをマイナスにして、|01>,|10>,|11>をそのままにして元に戻すとどうなるでしょうか。\n",
        "溢れた水を戻すという。しかも重ね合わせの状態の部分を変化させてみるという発想です。"
      ],
      "metadata": {
        "id": "9jdah7P_5ndW"
      }
    },
    {
      "cell_type": "markdown",
      "source": [
        "|11>だけに-1をするのは制御Z回路で実行できました。\n",
        "Xをそれぞれの量子ビットに適応して、|00>を|11>に変化させておいて制御Z回路を実行し、\n",
        "元に戻せばできるはずです。"
      ],
      "metadata": {
        "id": "T6PpUgG87Y11"
      }
    },
    {
      "cell_type": "code",
      "source": [
        "n = 2\n",
        "qc11 = cirq.Circuit()\n",
        "q = cirq.LineQubit.range(n)\n",
        "#重ね合わせを作る\n",
        "qc11.append(cirq.H.on_each(q))\n",
        "#11に傷がつく\n",
        "qc11.append(cirq.CZ(q[0],q[1]))\n",
        "qc11.append(cirq.H.on_each(q))\n",
        "\n",
        "#00を11にする\n",
        "qc11.append(cirq.X.on_each(q))\n",
        "#11の振幅を反転（元々00）\n",
        "qc11.append(cirq.CZ(q[0],q[1]))\n",
        "#11を00にして元に戻すことで00の振幅が反転\n",
        "qc11.append(cirq.X.on_each(q))\n"
      ],
      "metadata": {
        "id": "gY_rNeGb5mUE"
      },
      "execution_count": null,
      "outputs": []
    },
    {
      "cell_type": "code",
      "source": [
        "res11 = sim.simulate(qc11)\n",
        "print(res11)"
      ],
      "metadata": {
        "id": "_MruKaf270vH"
      },
      "execution_count": null,
      "outputs": []
    },
    {
      "cell_type": "markdown",
      "source": [
        "それではこの状態をアダマール回路で元に戻してみましょう。\n",
        "多少は変化しているでしょうか。"
      ],
      "metadata": {
        "id": "bRiy_hzK-Eru"
      }
    },
    {
      "cell_type": "code",
      "source": [
        "#重ね合わせを解く\n",
        "qc11.append(cirq.H.on_each(q))"
      ],
      "metadata": {
        "id": "pGtgB-EB74MP"
      },
      "execution_count": null,
      "outputs": []
    },
    {
      "cell_type": "code",
      "source": [
        "res11 = sim.simulate(qc11)\n",
        "print(res11)"
      ],
      "metadata": {
        "id": "_-TFmm72-Lss"
      },
      "execution_count": null,
      "outputs": []
    },
    {
      "cell_type": "markdown",
      "source": [
        "お、おおっと。|11>の状態だけが取り出せた...。\n",
        "まさか。まさか。できたのではないか？\n",
        "重ね合わせの状態を減らして、漏れ出した係数が、印をつけたことによる影響だから保存しておこうという発想でした。\n",
        "これを一般的な量子ビット数で適用できるように自作回路にしておきましょう。"
      ],
      "metadata": {
        "id": "SmA1jzyF-QDz"
      }
    },
    {
      "cell_type": "code",
      "source": [
        "def diffusion(n):\n",
        "  qc = cirq.Circuit()\n",
        "  q = cirq.LineQubit.range(n)\n",
        "\n",
        "  #アダマールを実行して、重ね合わせの状態の崩れ具合を調べられるようにする。\n",
        "  qc.append(cirq.H.on_each(q))\n",
        "\n",
        "  #多重制御Zゲートで|0...0>だけの係数を-1にするために|0...0>を|1...1>に\n",
        "  qc.append(cirq.X.on_each(q))\n",
        "    \n",
        "  #多重制御Zゲート\n",
        "  qc.append(cirq.Z(q[n-1]).controlled_by(*q[0:n-1]))\n",
        "\n",
        "  #元に戻して|1...1>を|0...0>にする。\n",
        "  qc.append(cirq.X.on_each(q))\n",
        "\n",
        "  #アダマールを適用して、重ね合わせの状態を解いてみる\n",
        "  qc.append(cirq.H.on_each(q))   \n",
        "\n",
        "#  Udiff = qc.to_gate()\n",
        "#  Udiff.name = \"Udiff\"\n",
        "\n",
        "  return qc"
      ],
      "metadata": {
        "id": "wl7Wkv4u-M09"
      },
      "execution_count": null,
      "outputs": []
    },
    {
      "cell_type": "markdown",
      "source": [
        "オラクル（Uoracle）と拡散（Udiff）を実行して、どのような結果が出るのかみてみよう。\n",
        "n=5量子ビット、N=12の数字で指し示された量子状態を探索するというものである。"
      ],
      "metadata": {
        "id": "spvK8s-6_hkN"
      }
    },
    {
      "cell_type": "code",
      "source": [
        "n = 5\n",
        "N = 8\n",
        "\n",
        "qc12 = cirq.Circuit()\n",
        "q = cirq.LineQubit.range(n)\n",
        "\n",
        "#重ね合わせの状態\n",
        "qc12.append(cirq.H.on_each(q))\n",
        "oracle_gate = oracle(N,n)\n",
        "qc12.append(oracle_gate)\n",
        "diff_gate = diffusion(n)\n",
        "qc12.append(diff_gate)\n"
      ],
      "metadata": {
        "id": "wZUgJJTa_gqV"
      },
      "execution_count": null,
      "outputs": []
    },
    {
      "cell_type": "markdown",
      "source": [
        "こうした自作回路の場合にはそのままstate_vectorのシミュレータは使えないので、\n",
        "transpileを使って、等価な回路でシミュレータないしはマシンが使える回路に置き換えましょう。"
      ],
      "metadata": {
        "id": "_PszkaJEBmDi"
      }
    },
    {
      "cell_type": "code",
      "source": [
        "res12 = sim.simulate(qc12)\n",
        "print(res12)"
      ],
      "metadata": {
        "id": "l1TJTbNuAWL9"
      },
      "execution_count": null,
      "outputs": []
    },
    {
      "cell_type": "code",
      "source": [
        "print(res12.final_state_vector[N].round(5))"
      ],
      "metadata": {
        "id": "zlh9gY63AbAT"
      },
      "execution_count": null,
      "outputs": []
    },
    {
      "cell_type": "markdown",
      "source": [
        "N番目のものだけ振幅が大きくなっていることがわかります。"
      ],
      "metadata": {
        "id": "plH9IcY-DIhd"
      }
    },
    {
      "cell_type": "markdown",
      "source": [
        "このアルゴリズムは繰り返していくと、この確率は次第に大きくなって行きます。\n",
        "例えば3回繰り返す以下のような量子回路を作ってみましょう。"
      ],
      "metadata": {
        "id": "YyppkCWODYEf"
      }
    },
    {
      "cell_type": "code",
      "source": [
        "n = 5\n",
        "N = 8\n",
        "Tall = 3\n",
        "\n",
        "qc13 = cirq.Circuit()\n",
        "q = cirq.LineQubit.range(n)\n",
        "#重ね合わせの状態\n",
        "qc13.append(cirq.H.on_each(q))\n",
        "oracle_gate = oracle(N,n)\n",
        "diff_gate = diffusion(n)\n",
        "for k in range(Tall):\n",
        "  qc13.append(oracle_gate)\n",
        "  qc13.append(diff_gate)\n"
      ],
      "metadata": {
        "id": "kEXBN4YHDRmg"
      },
      "execution_count": null,
      "outputs": []
    },
    {
      "cell_type": "markdown",
      "source": [
        "シミュレーションを走らせてみましょう。"
      ],
      "metadata": {
        "id": "zxPTw-7EHRqP"
      }
    },
    {
      "cell_type": "code",
      "source": [
        "res13 = sim.simulate(qc13)\n",
        "print(res13)"
      ],
      "metadata": {
        "id": "BS3cDghvHRSo"
      },
      "execution_count": null,
      "outputs": []
    },
    {
      "cell_type": "markdown",
      "source": [
        "N番目の確率振幅を見てみましょう。"
      ],
      "metadata": {
        "id": "y071PBwwHZ3o"
      }
    },
    {
      "cell_type": "code",
      "source": [
        "print(res13.final_state_vector[N].round(5))"
      ],
      "metadata": {
        "id": "IbtvSh8qHXfh"
      },
      "execution_count": null,
      "outputs": []
    },
    {
      "cell_type": "markdown",
      "source": [
        "圧倒的な大きさを占めていることがわかります。\n",
        "ここまで確率振幅が大きければ、測定をした場合にはほとんどNで示される状態が登場することになります。"
      ],
      "metadata": {
        "id": "2_qCk9KEHcCv"
      }
    },
    {
      "cell_type": "code",
      "source": [
        "qc13.append(cirq.measure(q, key='m'))\n",
        "SVGCircuit(qc13)"
      ],
      "metadata": {
        "id": "UfE9mwjWDs8F"
      },
      "execution_count": null,
      "outputs": []
    },
    {
      "cell_type": "code",
      "source": [
        "res13 = sim.run(qc13, repetitions=1000)\n",
        "counts = res13.histogram(key='m')"
      ],
      "metadata": {
        "id": "Ufs4W0k5Dkuk"
      },
      "execution_count": null,
      "outputs": []
    },
    {
      "cell_type": "code",
      "source": [
        "print(counts)"
      ],
      "metadata": {
        "id": "APi17r6cDqUy"
      },
      "execution_count": null,
      "outputs": []
    },
    {
      "cell_type": "markdown",
      "source": [
        "確かにNに相当する状態が登場する確率が非常に高いことがわかります。"
      ],
      "metadata": {
        "id": "Vq20jWVsHod_"
      }
    },
    {
      "cell_type": "code",
      "source": [
        "import matplotlib.pyplot as plt\n",
        "cirq.plot_state_histogram(res13, plt.subplot())\n",
        "plt.show()"
      ],
      "metadata": {
        "id": "MSeoF-HjP_Wi"
      },
      "execution_count": null,
      "outputs": []
    }
  ]
}