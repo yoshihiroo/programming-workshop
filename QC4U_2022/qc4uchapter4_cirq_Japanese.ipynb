{
  "nbformat": 4,
  "nbformat_minor": 0,
  "metadata": {
    "colab": {
      "private_outputs": true,
      "provenance": [],
      "collapsed_sections": [],
      "include_colab_link": true
    },
    "kernelspec": {
      "name": "python3",
      "display_name": "Python 3"
    },
    "language_info": {
      "name": "python"
    }
  },
  "cells": [
    {
      "cell_type": "markdown",
      "metadata": {
        "id": "view-in-github",
        "colab_type": "text"
      },
      "source": [
        "<a href=\"https://colab.research.google.com/github/yoshihiroo/programming-workshop/blob/master/QC4U_2022/qc4uchapter4_cirq_Japanese.ipynb\" target=\"_parent\"><img src=\"https://colab.research.google.com/assets/colab-badge.svg\" alt=\"Open In Colab\"/></a>"
      ]
    },
    {
      "cell_type": "markdown",
      "source": [
        "# QC4U 第4回 Cirq写経翻訳\n",
        "2022.10.9版"
      ],
      "metadata": {
        "id": "lvG-lQ-pJovD"
      }
    },
    {
      "cell_type": "markdown",
      "source": [
        "東北大学 [大関先生によるQC4U](https://altema.is.tohoku.ac.jp/QC4U/)の解説コードをもとに、理解を深めるためにCirqへの翻訳をやってみているものです。Cirq初心者ですので、正しくないコードの書き方や理解が間違っているところがあるかも知れませんがご容赦ください。説明の本文は敬意をもってほぼ丸々パクらせていただいております。（掲載については大関先生の了解を得ております。ご承諾ありがとうございます。）\n",
        "\n",
        "[元にした2022.09.30 第4回の解説コード](https://colab.research.google.com/gist/mohzeki222/202865a9fcc45bd37dc2e124d9ab0a84/qc4uchapter4.ipynb)"
      ],
      "metadata": {
        "id": "cOztWLIKJvBw"
      }
    },
    {
      "cell_type": "markdown",
      "source": [
        "# Cirqのインストール\n",
        "\n",
        "懲りずに今回も量子コンピュータの可能性を探っていきましょう！\n",
        "まずはGoogleが提供するCirqをインストール。"
      ],
      "metadata": {
        "id": "SowVGevA_i1D"
      }
    },
    {
      "cell_type": "code",
      "execution_count": null,
      "metadata": {
        "id": "PqwFT-7G-0RF"
      },
      "outputs": [],
      "source": [
        "pip install cirq"
      ]
    },
    {
      "cell_type": "markdown",
      "source": [
        "いつも利用するモジュールをまずは用意しましょう。"
      ],
      "metadata": {
        "id": "X6YQwgm2_ucd"
      }
    },
    {
      "cell_type": "code",
      "source": [
        "import cirq"
      ],
      "metadata": {
        "id": "Abqblmi-_t6a"
      },
      "execution_count": null,
      "outputs": []
    },
    {
      "cell_type": "markdown",
      "source": [
        "### 前回までの振り返り\n",
        "\n",
        "これまでに学んだものは、H,X,Z、そして制御Zゲートでした。\n",
        "それぞれの特徴は、H=重ね合わせ、Xは反転、Zは傷をつける（|1>だけ符号をマイナスにする）。\n",
        "そして制御Zゲートは|11>だけ傷をつけるというものでした。\n",
        "これらを組み合わせて、量子ビットの相互作用を生み出すことで、物質内で起きていることをシミュレーションすることができました。\n"
      ],
      "metadata": {
        "id": "-yKDyQLO_1xm"
      }
    },
    {
      "cell_type": "markdown",
      "source": [
        "例えば磁石の中ではスピンという磁石のかけらのようなものが、絶えず向きを変えています。\n",
        "しかし隣同士のスピンの間で、向きを揃えようとする相互作用をしながら、\n",
        "全体の向きを揃える傾向にあります。\n",
        "それを邪魔する要素は、熱揺らぎなど環境由来のものもあれば、自分から向きを倒すという操作により、阻害することもできます。\n",
        "\n",
        "そうした状況を模擬するような量子回路を考えてみましょう。\n",
        "前回もその相互作用を作り出しましたね。\n",
        "量子ビットの|0>を上向き・量子ビットの|1>を下向きのスピン（磁石のかけら）として、\n",
        "それぞれの向きが平行・反平行に揃うときは確率振幅はそのままで、上下逆さまになっているときはマイナスになるような回路を作りました。\n"
      ],
      "metadata": {
        "id": "MdpewFEnAP0c"
      }
    },
    {
      "cell_type": "code",
      "source": [
        "qc = cirq.Circuit()\n",
        "q = cirq.LineQubit.range(2)\n",
        "\n",
        "qc.append(cirq.CNOT(q[0], q[1]))\n",
        "qc.append(cirq.Z(q[1]))\n",
        "qc.append(cirq.CNOT(q[0], q[1]))"
      ],
      "metadata": {
        "id": "pmVQhCcz_1EA"
      },
      "execution_count": null,
      "outputs": []
    },
    {
      "cell_type": "markdown",
      "source": [
        "回路の様子を見るときには、print、もしくはSVGCircuitでしたね。"
      ],
      "metadata": {
        "id": "IrXVyAqFBgpe"
      }
    },
    {
      "cell_type": "code",
      "source": [
        "#print(qc)\n",
        "from cirq.contrib.svg import SVGCircuit\n",
        "SVGCircuit(qc)"
      ],
      "metadata": {
        "id": "yIuv_2LN_zEw"
      },
      "execution_count": null,
      "outputs": []
    },
    {
      "cell_type": "markdown",
      "source": [
        "どのような結果になるのかをみたければ、シミュレーションを実行しましょう。\n",
        "前回も作りました自作関数をまた利用します。"
      ],
      "metadata": {
        "id": "2HrVgS1bCKS3"
      }
    },
    {
      "cell_type": "code",
      "source": [
        "import numpy as np\n",
        "def sim_state(qc,disp=True):\n",
        "  res = sim.simulate(qc)\n",
        "  if disp == True:\n",
        "    print(cirq.dirac_notation(np.array(res.final_state_vector)))\n",
        "  return res"
      ],
      "metadata": {
        "id": "RdLJecDBVPfP"
      },
      "execution_count": null,
      "outputs": []
    },
    {
      "cell_type": "markdown",
      "source": [
        "今回はどの状態が結局出力されるのかという結果も気になるので、\n",
        "その確率に基づくヒストグラムも表示できる関数を用意しておきましょう。"
      ],
      "metadata": {
        "id": "hgO2Q9INYuUq"
      }
    },
    {
      "cell_type": "code",
      "source": [
        "def sim_state_exp(qc):\n",
        "  qc.append(cirq.measure(q, key='m'))\n",
        "  res = sim.run(qc, repetitions=1000)\n",
        "  counts = res.histogram(key='m')\n",
        "  return res"
      ],
      "metadata": {
        "id": "EzgLydO0YfFp"
      },
      "execution_count": null,
      "outputs": []
    },
    {
      "cell_type": "code",
      "source": [
        "sim = cirq.Simulator()\n",
        "state = sim_state(qc)"
      ],
      "metadata": {
        "id": "rdJ7w7LSCY8a"
      },
      "execution_count": null,
      "outputs": []
    },
    {
      "cell_type": "code",
      "source": [
        "import matplotlib.pyplot as plt\n",
        "\n",
        "def binary_labels(num_qubits):\n",
        "    return [bin(x)[2:].zfill(num_qubits) for x in range(2 ** num_qubits)]\n",
        "\n",
        "ans = sim_state_exp(qc)\n",
        "cirq.plot_state_histogram(ans, plt.subplot(), tick_label=binary_labels(2))\n",
        "plt.show()"
      ],
      "metadata": {
        "id": "AP7GRJmNY27t"
      },
      "execution_count": null,
      "outputs": []
    },
    {
      "cell_type": "markdown",
      "source": [
        "量子回路に入力される量子ビットの初期条件は|00>ですから、そのままの結果が返ってきました。\n",
        "さまざまな入力を入れた場合のことを調べるには、アダマール回路を利用すると良いですね。"
      ],
      "metadata": {
        "id": "ApTcYjyzCn1B"
      }
    },
    {
      "cell_type": "code",
      "source": [
        "qc2 = cirq.Circuit()\n",
        "q = cirq.LineQubit.range(2)\n",
        "\n",
        "\n",
        "#２つの量子ビットを重ね合わせの状態に\n",
        "qc2.append(cirq.H.on_each(q))\n",
        "\n",
        "qc2.append(cirq.CNOT(q[0], q[1]))\n",
        "qc2.append(cirq.Z(q[1]))\n",
        "qc2.append(cirq.CNOT(q[0], q[1]))"
      ],
      "metadata": {
        "id": "oy8_eDWvCnNt"
      },
      "execution_count": null,
      "outputs": []
    },
    {
      "cell_type": "code",
      "source": [
        "SVGCircuit(qc2)"
      ],
      "metadata": {
        "id": "yyu9xxAxEpze"
      },
      "execution_count": null,
      "outputs": []
    },
    {
      "cell_type": "code",
      "source": [
        "state2 = sim_state(qc2)"
      ],
      "metadata": {
        "id": "f-toeKk1Esuv"
      },
      "execution_count": null,
      "outputs": []
    },
    {
      "cell_type": "markdown",
      "source": [
        "狙い通り、|00>と|11>にかかる確率振幅の符号はそのままで、|01>と|10>のように２つの量子ビットが異なる場合には、その符号は逆になりました。"
      ],
      "metadata": {
        "id": "mo0IBVV_B_lx"
      }
    },
    {
      "cell_type": "markdown",
      "source": [
        "物質の内部では、原子スケールのミクロな対象は量子力学に従い時間発展をしています。\n",
        "そのルールはいたって簡単で、指数関数の方に、虚数とエネルギー、そして時間を掛け算するだけです。\n",
        "\n",
        "両方のスピンが揃っている場合にエネルギーが下がり（その方がお得だとスピンは思う）、互い違いになってエネルギーが上がってしまう（その方が損だとスピンは思う）。そういう状況を考えましょう。磁石のスタンダードな模型として知られるイジング模型です。\n",
        "この場合、Z回路を回転Z回路にして、その角度を時間に応じて変えることにしましょう。"
      ],
      "metadata": {
        "id": "ua7bC1l0E6mW"
      }
    },
    {
      "cell_type": "code",
      "source": [
        "qc3 = cirq.Circuit()\n",
        "q = cirq.LineQubit.range(2)\n",
        "\n",
        "theta = 0.3\n",
        "\n",
        "qc3.append(cirq.H.on_each(q))\n",
        "\n",
        "qc3.append(cirq.CNOT(q[0], q[1]))\n",
        "qc3.append(cirq.rz(theta).on(q[1]))\n",
        "qc3.append(cirq.CNOT(q[0], q[1]))"
      ],
      "metadata": {
        "id": "cweTB7c0B-1q"
      },
      "execution_count": null,
      "outputs": []
    },
    {
      "cell_type": "code",
      "source": [
        "SVGCircuit(qc3)"
      ],
      "metadata": {
        "id": "aOD_CRmRBe_g"
      },
      "execution_count": null,
      "outputs": []
    },
    {
      "cell_type": "code",
      "source": [
        "state3 = sim_state(qc3)"
      ],
      "metadata": {
        "id": "es9qrnooF570"
      },
      "execution_count": null,
      "outputs": []
    },
    {
      "cell_type": "markdown",
      "source": [
        "量子ビット（スピン）が揃っている場合には虚数部分には(-)、互い違いの場合には虚数部分が(+)になって違いが表れていますね。\n",
        "これはエネルギーによって、確率振幅が変わり、その向きがエネルギーの符号によって異なることを示しています。\n",
        "\n",
        "### 固有状態と量子計算\n",
        "\n",
        "次にスピンの向きを操作することを考えましょう。\n",
        "ここで登場するのがXゲート、ないしは回転Xゲートです。\n",
        "Xは|0>を|1>に、または|1>を|0>に倒す作用がありました。\n",
        "これをかけ続けると、|0>と|1>に絶えず向きをかえることになります。\n"
      ],
      "metadata": {
        "id": "ibY7DOwFGLNy"
      }
    },
    {
      "cell_type": "code",
      "source": [
        "qc4 = cirq.Circuit()\n",
        "q = cirq.LineQubit.range(1)\n",
        "\n",
        "theta = 0.3\n",
        "\n",
        "qc4.append(cirq.rx(theta).on(q[0]))"
      ],
      "metadata": {
        "id": "wcqV89gBF_nU"
      },
      "execution_count": null,
      "outputs": []
    },
    {
      "cell_type": "code",
      "source": [
        "SVGCircuit(qc4)"
      ],
      "metadata": {
        "id": "v2FEWqFLHm0i"
      },
      "execution_count": null,
      "outputs": []
    },
    {
      "cell_type": "code",
      "source": [
        "state4 = sim_state(qc4)"
      ],
      "metadata": {
        "id": "2LfJwew3Hn9y"
      },
      "execution_count": null,
      "outputs": []
    },
    {
      "cell_type": "code",
      "source": [
        "from cirq_web import BlochSphere\n",
        "display(BlochSphere(state_vector=cirq.to_valid_state_vector(state4.final_state_vector)))"
      ],
      "metadata": {
        "id": "1itypZucb8BB"
      },
      "execution_count": null,
      "outputs": []
    },
    {
      "cell_type": "markdown",
      "source": [
        "次第に|0>から|1>へと状態が遷移していることがわかります。\n",
        "この確率振幅の変化の仕方にも特徴があります。\n",
        "\n",
        "先ほどのように、初期条件が|00>の場合にそのまま確率振幅が保存ていました。\n",
        "またアダマール回路で重ね合わせの状態にして|00>、|01>、|10>、|11>に確率振幅を持たせたとしても、実はそれぞれの大きさは変わっていません。\n",
        "つまり結果の出現確率は変わらないというわけです。\n",
        "その意味で状態を変えることはないというわけです。\n",
        "そうした状態を固有状態と呼び、各量子回路ごとにそうした固有状態が存在します。\n",
        "\n",
        "それに対して、回転Xゲート（Xゲートも）は、|0>の確率振幅を変化させて、その分を他の状態である|1>に移動させています。\n",
        "これは回転Xゲートに対して、|0>や|1>が固有状態ではないことを示します。\n",
        "\n",
        "量子計算では、確率振幅を傷つけること、\n",
        "そして確率振幅を減らして、他の状態へ遷移させることを巧みに利用して、所望の結果を得ます。\n",
        "その際に重要な概念が、固有状態かどうか、です。\n",
        "|0>や|1>はZ関連の影響に対しては固有状態です。\n",
        "そのため、量子ビットを動かす、確率振幅を変化させるためにはXゲートなどの別の作用が必要となります。\n",
        "\n",
        "ちなみにXゲートは、重ね合わせの状態を固有状態に持ちます。"
      ],
      "metadata": {
        "id": "EyTRlRPmH5UA"
      }
    },
    {
      "cell_type": "code",
      "source": [
        "qc5 = cirq.Circuit()\n",
        "q = cirq.LineQubit.range(1)\n",
        "\n",
        "theta = 0.3\n",
        "\n",
        "qc5.append(cirq.H(q[0]))\n",
        "qc5.append(cirq.rx(theta).on(q[0]))"
      ],
      "metadata": {
        "id": "jwtFR2QqHv2g"
      },
      "execution_count": null,
      "outputs": []
    },
    {
      "cell_type": "code",
      "source": [
        "SVGCircuit(qc5)"
      ],
      "metadata": {
        "id": "buccTgZKKP74"
      },
      "execution_count": null,
      "outputs": []
    },
    {
      "cell_type": "code",
      "source": [
        "state5 = sim_state(qc5)"
      ],
      "metadata": {
        "id": "1oRrYZHGKVtn"
      },
      "execution_count": null,
      "outputs": []
    },
    {
      "cell_type": "markdown",
      "source": [
        "|0>+|1>という重ね合わせの状態のまとまりのまま、確率振幅を変えているだけなので、固有状態になっています。\n",
        "\n",
        "それではこの量子状態に、回転Zゲートをかけるとどうなるでしょうか？"
      ],
      "metadata": {
        "id": "vB490VHELOHs"
      }
    },
    {
      "cell_type": "code",
      "source": [
        "qc6 = cirq.Circuit()\n",
        "q = cirq.LineQubit.range(1)\n",
        "\n",
        "theta = 0.3\n",
        "\n",
        "qc6.append(cirq.H(q[0]))\n",
        "qc6.append(cirq.rz(theta).on(q[0]))"
      ],
      "metadata": {
        "id": "9Ic1zHBRLKKb"
      },
      "execution_count": null,
      "outputs": []
    },
    {
      "cell_type": "code",
      "source": [
        "SVGCircuit(qc6)"
      ],
      "metadata": {
        "id": "03o02K6kMv4r"
      },
      "execution_count": null,
      "outputs": []
    },
    {
      "cell_type": "code",
      "source": [
        "state6 = sim_state(qc6)"
      ],
      "metadata": {
        "id": "KqBhZ_i2Mv0z"
      },
      "execution_count": null,
      "outputs": []
    },
    {
      "cell_type": "markdown",
      "source": [
        "|0>と|1>のそれぞれがZゲートの固有状態になっているので確率振幅のそれぞれの大きさは変わりません。\n",
        "しかし重ね合わせの状態は崩れてしまっています。\n",
        "同じ係数ではないのです。\n",
        "重ね合わせの状態にアダマール回路をかけると|0>に戻りました。\n",
        "それを利用して、重ね合わせの状態度合いを見ることができましたね。\n",
        "グローバーのアルゴリズムでもやったことですが、\n",
        "ここでアダマール回路をかけてみましょう。"
      ],
      "metadata": {
        "id": "DskXf4IWM9GD"
      }
    },
    {
      "cell_type": "code",
      "source": [
        "qc6.append(cirq.H(q[0]))\n"
      ],
      "metadata": {
        "id": "dCkSR95OMzE5"
      },
      "execution_count": null,
      "outputs": []
    },
    {
      "cell_type": "code",
      "source": [
        "state6 = sim_state(qc6)"
      ],
      "metadata": {
        "id": "Ucwssf6zNmBV"
      },
      "execution_count": null,
      "outputs": []
    },
    {
      "cell_type": "markdown",
      "source": [
        "重ね合わせの状態が崩れたことが影響して、|1>の状態が飛び出してきました。\n",
        "重ね合わせの状態から、回転Zゲートをかけて、崩す。\n",
        "アダマール回路を経ると、重ね合わせの状態を維持している部分と崩れている部分を分離することができました。\n",
        "アダマール回路は、回転Xゲートで表すと90度回転に相当します。\n",
        "このことから回転Xゲートを利用して、重ね合わせの状態の部分を残し、それ以外の部分が分離させます。\n"
      ],
      "metadata": {
        "id": "FQkqmbTvOIit"
      }
    },
    {
      "cell_type": "code",
      "source": [
        "qc7 = cirq.Circuit()\n",
        "q = cirq.LineQubit.range(1)\n",
        "\n",
        "theta = 0.3\n",
        "\n",
        "qc7.append(cirq.H(q[0]))\n",
        "qc7.append(cirq.rz(theta).on(q[0]))\n",
        "qc7.append(cirq.rx(theta).on(q[0]))"
      ],
      "metadata": {
        "id": "8rXyqhncNoi-"
      },
      "execution_count": null,
      "outputs": []
    },
    {
      "cell_type": "code",
      "source": [
        "SVGCircuit(qc7)"
      ],
      "metadata": {
        "id": "vMiZ1gcgOtFy"
      },
      "execution_count": null,
      "outputs": []
    },
    {
      "cell_type": "code",
      "source": [
        "state7 = sim_state(qc7)"
      ],
      "metadata": {
        "id": "kJiLMG3kPEqA"
      },
      "execution_count": null,
      "outputs": []
    },
    {
      "cell_type": "markdown",
      "source": [
        "振幅の大きさの二乗を計算してみると、|0>は0.535、|1>は0.465程度です。\n",
        "少し|0>の方が出現確率が上がっています。"
      ],
      "metadata": {
        "id": "fnV0U6BLPY5z"
      }
    },
    {
      "cell_type": "code",
      "source": [
        "ans = sim_state_exp(qc7)\n",
        "cirq.plot_state_histogram(ans, plt.subplot(), tick_label=binary_labels(1))\n",
        "plt.show()"
      ],
      "metadata": {
        "id": "36i8HZdfaWoN"
      },
      "execution_count": null,
      "outputs": []
    },
    {
      "cell_type": "markdown",
      "source": [
        "|0>と|1>の重ね合わせの状態から、|0>の状態が取り出されています。\n",
        "これはRzの作用で、|0>が絞り出されていることが伺えます。\n",
        "Rxは重ね合わせの状態はそのまま、それ以外の崩れた状態を押し出す役目をしています。\n",
        "Rzは重ね合わせの状態のうち|0>と|1>の振幅を崩しています。\n",
        "\n",
        "### 量子アニーリング\n",
        "\n",
        "さてRzは回転で、その回転角度は量子力学では、量子ビットないしはスピンのエネルギーに対応することを思い出しましょう。\n",
        "上方向に向いた量子ビットは確率振幅がそのままで下方向に向いた量子ビットは確率振幅が負になりました。これを先ほどと同じように解釈して、上方向だとエネルギーが下がり（お得）、下方向だとエネルギーが上がる状況に対応していると考えましょう（損）\n",
        "するとお得な状態である上向きの量子ビットの状態が徐々に出現していることがわかります。\n",
        "\n",
        "これを利用して、エネルギーの最も低い基底状態を取り出すアルゴリズムとして、\n",
        "量子アニーリングがあります。\n",
        "量子アニーリングでは、\n",
        "最初は回転Xゲートの作用を強く、Z関連のゲートを弱目にしておき、（重ね合わせの状態）\n",
        "最後は回転Xゲートの作用を弱めて、Z関連のゲートを強めにします。\n"
      ],
      "metadata": {
        "id": "-GUmGbfHagUr"
      }
    },
    {
      "cell_type": "code",
      "source": [
        "qc8 = cirq.Circuit()\n",
        "q = cirq.LineQubit.range(1)\n",
        "\n",
        "theta = 0.1\n",
        "\n",
        "qc8.append(cirq.H(q[0]))\n",
        "\n",
        "Tall = 100\n",
        "for k in range(Tall):\n",
        "  qc8.append(cirq.rz(theta*k/Tall).on(q[0]))\n",
        "  qc8.append(cirq.rx(theta*(1-k/Tall)).on(q[0]))"
      ],
      "metadata": {
        "id": "SHQC2q18PHa-"
      },
      "execution_count": null,
      "outputs": []
    },
    {
      "cell_type": "code",
      "source": [
        "SVGCircuit(qc8)"
      ],
      "metadata": {
        "id": "yzxSSW49PTER"
      },
      "execution_count": null,
      "outputs": []
    },
    {
      "cell_type": "code",
      "source": [
        "state8 = sim_state(qc8)"
      ],
      "metadata": {
        "id": "zh6GiaR_PWOH"
      },
      "execution_count": null,
      "outputs": []
    },
    {
      "cell_type": "code",
      "source": [
        "ans8 = sim_state_exp(qc8)\n",
        "cirq.plot_state_histogram(ans8, plt.subplot(), tick_label=binary_labels(1))\n",
        "plt.show()"
      ],
      "metadata": {
        "id": "gr-NwjTIakLF"
      },
      "execution_count": null,
      "outputs": []
    },
    {
      "cell_type": "markdown",
      "source": [
        "うまく|0>の状態だけが大きな確率で得ることができます。\n",
        "複数量子ビットにおいても同じようにできます。\n"
      ],
      "metadata": {
        "id": "3Go45o75Tx4M"
      }
    },
    {
      "cell_type": "code",
      "source": [
        "qc9 = cirq.Circuit()\n",
        "q = cirq.LineQubit.range(2)\n",
        "\n",
        "theta = 0.2\n",
        "\n",
        "qc9.append(cirq.H.on_each(q))\n",
        "\n",
        "Tall = 100\n",
        "for k in range(Tall):\n",
        "  qc9.append(cirq.rx(theta*(1-k/Tall)).on_each(q))\n",
        "\n",
        "  qc9.append(cirq.CNOT(q[0], q[1]))\n",
        "  qc9.append(cirq.rz(theta*k/Tall).on(q[1]))\n",
        "  qc9.append(cirq.CNOT(q[0], q[1]))"
      ],
      "metadata": {
        "id": "58-ejbipRqWS"
      },
      "execution_count": null,
      "outputs": []
    },
    {
      "cell_type": "code",
      "source": [
        "SVGCircuit(qc9)"
      ],
      "metadata": {
        "id": "mtSKZgzmUNx_"
      },
      "execution_count": null,
      "outputs": []
    },
    {
      "cell_type": "code",
      "source": [
        "state9 = sim_state(qc9)"
      ],
      "metadata": {
        "id": "5RxWx86qUUcd"
      },
      "execution_count": null,
      "outputs": []
    },
    {
      "cell_type": "code",
      "source": [
        "ans9 = sim_state_exp(qc9)\n",
        "cirq.plot_state_histogram(ans9, plt.subplot(), tick_label=binary_labels(2))\n",
        "plt.show()"
      ],
      "metadata": {
        "id": "KptuvpV5awB3"
      },
      "execution_count": null,
      "outputs": []
    },
    {
      "cell_type": "markdown",
      "source": [
        "狙い通り、|00>または|11>が非常に高い確率で得られます。\n",
        "\n",
        "一般のイジング模型に対して利用できるようにしておきましょう。\n",
        "この|0>と|1>という簡単なものでも、その解釈を広げてみると非常に多くの応用例が思い付きます。\n",
        "上と下、ではなく左右のどちらが良いのか、量子コンピュータにえらばせるなど。\n",
        "理系か文系かどちらにしようか。その選択を任せるなど。\n",
        "２つにひとつの選択肢だけではなく、それ以外にも多くの要素が絡み合い、どのような選択が適切なのか判断に困る。その際に、エネルギーと同じように、どちらが好ましいのかを示す数値指標がある、または設定することで、最善の選択を取り出す。\n",
        "そうした目標を持った数理的な問題を組合せ最適化問題と呼びます。\n",
        "量子アニーリングでは、そのような組合せ最適化問題を解くことができます。\n"
      ],
      "metadata": {
        "id": "D1n9u042Ub-0"
      }
    },
    {
      "cell_type": "code",
      "source": [
        "def QA(J,h,s1,s2):\n",
        "  n = len(h)\n",
        "  qc = cirq.Circuit()\n",
        "  q = cirq.LineQubit.range(n)\n",
        "\n",
        "  #量子ビット全体に回転Xゲート\n",
        "  qc.append(cirq.rx(s1).on_each(q))\n",
        "\n",
        "  #量子ビット全体にJとhに基づいて回転Zゲート等\n",
        "  for i in range(n):\n",
        "    qc.append(cirq.rz(s2*h[i]).on(q[i]))\n",
        "\n",
        "  for i in range(n):\n",
        "    for j in range(n):\n",
        "      if i != j:\n",
        "        qc.append(cirq.CNOT(q[i], q[j]))\n",
        "        qc.append(cirq.rz(s2*J[i,j]).on(q[j]))\n",
        "        qc.append(cirq.CNOT(q[i], q[j]))\n",
        "\n",
        "  return qc"
      ],
      "metadata": {
        "id": "XTAbaD5mUYPr"
      },
      "execution_count": null,
      "outputs": []
    },
    {
      "cell_type": "markdown",
      "source": [
        "それでは適当な問題を作ってみましょう。"
      ],
      "metadata": {
        "id": "GXuwHc-OXvP9"
      }
    },
    {
      "cell_type": "code",
      "source": [
        "n = 3\n",
        "J = - np.ones(n**2).reshape(n,n)\n",
        "h = np.zeros(n)"
      ],
      "metadata": {
        "id": "PU5pU1N9Xxe-"
      },
      "execution_count": null,
      "outputs": []
    },
    {
      "cell_type": "markdown",
      "source": [
        "3つの量子ビット同士で、それぞれがペアになって相互作用するものです。\n",
        "しかし|01>と|10>がエネルギーの低い（得な）状態になり、|00>と|11>がエネルギーの高い（損な）状態になるというものにします。反強磁性イジング模型というものです。\n",
        "フラストレーションという状態を生み出して、どのスピンも３すくみの状態で、どれが上を向いたら良いか迷う状態となります。"
      ],
      "metadata": {
        "id": "33ylgMqH66Zb"
      }
    },
    {
      "cell_type": "markdown",
      "source": [
        "理論的な量子アニーリングでは、ちょっとずつ変化をさせていくと良いので、非常に小さいdtをかけつつ、k/Tallおよび(1-k/Tall)で回転XゲートとZ関連ゲートの強弱を変化させます。"
      ],
      "metadata": {
        "id": "-FGvb61P7ajY"
      }
    },
    {
      "cell_type": "code",
      "source": [
        "#step数\n",
        "Tall = 100\n",
        "dt = 0.01\n",
        "\n",
        "qc10 = cirq.Circuit()\n",
        "q = cirq.LineQubit.range(n)\n",
        "\n",
        "#重ね合わせの状態から始める\n",
        "qc10.append(cirq.H.on_each(q))\n",
        "\n",
        "for k in range(Tall):\n",
        "  s1 = dt*(1 - k/Tall)\n",
        "  s2 = dt*k/Tall\n",
        "  Uqubo = QA(J, h, s1, s2)\n",
        "  qc10.append(Uqubo,q)"
      ],
      "metadata": {
        "id": "01ybcQGlXSjn"
      },
      "execution_count": null,
      "outputs": []
    },
    {
      "cell_type": "code",
      "source": [
        "state10 = sim_state(qc10)"
      ],
      "metadata": {
        "id": "9Aplf_ZoX9AX"
      },
      "execution_count": null,
      "outputs": []
    },
    {
      "cell_type": "code",
      "source": [
        "def binary_labels(num_qubits):\n",
        "    return [bin(x)[2:].zfill(num_qubits) for x in range(2 ** num_qubits)]\n",
        "\n",
        "ans10 = sim_state_exp(qc10)\n",
        "cirq.plot_state_histogram(ans10, plt.subplot(), tick_label=binary_labels(n))\n",
        "plt.show()"
      ],
      "metadata": {
        "id": "n6jVnrC3YK66"
      },
      "execution_count": null,
      "outputs": []
    },
    {
      "cell_type": "markdown",
      "source": [
        "これをみると特定の状態が確率が高く、選ばれる様子が見て取れますね。\n",
        "|001>や|010>、|100>などどれにしたら良いか、\n",
        "そして|011>、|010>、|110>なども候補として登場しています。"
      ],
      "metadata": {
        "id": "KiR-2hiobsPa"
      }
    },
    {
      "cell_type": "markdown",
      "source": [
        "### QAOA（量子近似最適化アルゴリズム）\n",
        "\n",
        "さてQAOAは、量子アニーリングの回転Xゲートと、Z関連ゲートの作用をさせる時間について、\n",
        "最適化を施して、効率よく最適解を得る方法です。\n",
        "\n",
        "その最適化の基準はエネルギーで、量子回路の出力結果から、そのエネルギーを算出することができるようになる必要があります。"
      ],
      "metadata": {
        "id": "DYVCtRytcNWa"
      }
    },
    {
      "cell_type": "markdown",
      "source": [
        "前回利用した。スピンの期待値でエネルギーを計算しましょう。"
      ],
      "metadata": {
        "id": "duH6LEpbdbKP"
      }
    },
    {
      "cell_type": "code",
      "source": [
        "def ene_exp(qc,h,J,n):\n",
        "  state = sim_state(qc, disp=False)\n",
        "\n",
        "  obs = []\n",
        "  for k in range(n):\n",
        "    obs.append(-float(h[k])*cirq.Z(q[k]))\n",
        " \n",
        "  for k in range(n):\n",
        "    for l in range(n):\n",
        "      if k < l:\n",
        "        obs.append(-float(J[k,l])*cirq.Z(q[k]))\n",
        "        obs.append(-float(J[k,l])*cirq.Z(q[l]))\n",
        "      elif k > l:\n",
        "        obs.append(-float(J[l,k])*cirq.Z(q[k]))\n",
        "        obs.append(-float(J[l,k])*cirq.Z(q[l]))\n",
        "\n",
        "  y = np.mean(sim.simulate_expectation_values(qc, observables=obs))\n",
        "  \n",
        "  return y, state"
      ],
      "metadata": {
        "id": "GhgzS60Ta7HO"
      },
      "execution_count": null,
      "outputs": []
    },
    {
      "cell_type": "markdown",
      "source": [
        "これを基準にして途中のパラメータを最適化します。"
      ],
      "metadata": {
        "id": "J6NObwUAg2x1"
      }
    },
    {
      "cell_type": "code",
      "source": [
        "def ene_func(params):\n",
        "  Tall = int(len(params)/2)\n",
        "  qc = cirq.Circuit()\n",
        "  q = cirq.LineQubit.range(n)\n",
        "\n",
        "  #重ね合わせの状態から始める\n",
        "  qc.append(cirq.H.on_each(q))\n",
        "\n",
        "  for k in range(Tall):\n",
        "    s1 = params[k]\n",
        "    s2 = params[k+Tall]\n",
        "    Uqubo = QA(J, h, s1, s2)\n",
        "    qc.append(Uqubo,q)\n",
        "    \n",
        "  ene = ene_exp(qc,h,J,n)\n",
        "\n",
        "  return ene"
      ],
      "metadata": {
        "id": "N9oocczfg2gK"
      },
      "execution_count": null,
      "outputs": []
    },
    {
      "cell_type": "code",
      "source": [
        "Tall = 2\n",
        "params = np.random.rand(2*Tall)"
      ],
      "metadata": {
        "id": "aR3rLV0hhdNj"
      },
      "execution_count": null,
      "outputs": []
    },
    {
      "cell_type": "markdown",
      "source": [
        "最適化の手法は前回と同様に勾配を用いない最適化手法を利用してみましょう。"
      ],
      "metadata": {
        "id": "IZMDopDS88SF"
      }
    },
    {
      "cell_type": "code",
      "source": [
        "from scipy.optimize import minimize\n",
        "result = minimize(ene_func, params, method=\"COBYLA\", options={\"maxiter\": 100})"
      ],
      "metadata": {
        "id": "VN0FJRQrgAQ8"
      },
      "execution_count": null,
      "outputs": []
    },
    {
      "cell_type": "markdown",
      "source": [
        "結果得られたパラメータを取得するにはresult.xでしたね。"
      ],
      "metadata": {
        "id": "ywu0wQrX87tr"
      }
    },
    {
      "cell_type": "code",
      "source": [
        "result.fun"
      ],
      "metadata": {
        "id": "zVqI5mdkgUpV"
      },
      "execution_count": null,
      "outputs": []
    },
    {
      "cell_type": "code",
      "source": [
        "result.x"
      ],
      "metadata": {
        "id": "1SxA1mUnhm5f"
      },
      "execution_count": null,
      "outputs": []
    },
    {
      "cell_type": "markdown",
      "source": [
        "得られたパラメータで実際に走らせてみるとどうでしょうか？"
      ],
      "metadata": {
        "id": "7Kkqg_KDjJOE"
      }
    },
    {
      "cell_type": "code",
      "source": [
        "params = result.x\n",
        "qc11 = cirq.Circuit()\n",
        "q = cirq.LineQubit.range(n)\n",
        "\n",
        "#重ね合わせの状態から始める\n",
        "qc11.append(cirq.H.on_each(q))\n",
        "\n",
        "for k in range(Tall):\n",
        "  s1 = params[k]\n",
        "  s2 = params[k+Tall]\n",
        "  Uqubo = QA(J, h, s1, s2)\n",
        "  qc11.append(Uqubo,q)"
      ],
      "metadata": {
        "id": "ab3b5t0djDTE"
      },
      "execution_count": null,
      "outputs": []
    },
    {
      "cell_type": "code",
      "source": [
        "ans11 = sim_state_exp(qc11)\n",
        "cirq.plot_state_histogram(ans11, plt.subplot(), tick_label=binary_labels(n))\n",
        "plt.show()"
      ],
      "metadata": {
        "id": "I1ebJU2mjPrH"
      },
      "execution_count": null,
      "outputs": []
    },
    {
      "cell_type": "markdown",
      "source": [
        "うまく所望の状態を得ることのできる量子回路が得られました。\n",
        "ステップ数的には量子アニーリングのシミュレーションに用いたものよりも少ないものが得られましたね。"
      ],
      "metadata": {
        "id": "nOY7Xsna9GYm"
      }
    },
    {
      "cell_type": "markdown",
      "source": [
        "ちなみに同じ問題を株式会社Jijの開発する量子アニーリングシミュレータのOpenJijで解かせてみるとどうでしょうか。\n"
      ],
      "metadata": {
        "id": "ne2RI7gwjsLH"
      }
    },
    {
      "cell_type": "code",
      "source": [
        "pip install openjij"
      ],
      "metadata": {
        "id": "xDkZ7IaSjVAn"
      },
      "execution_count": null,
      "outputs": []
    },
    {
      "cell_type": "markdown",
      "source": [
        "この中には量子アニーリングのシミュレーション（量子モンテカルロ法によるもの）があります。"
      ],
      "metadata": {
        "id": "2VFkO5Fw_iSe"
      }
    },
    {
      "cell_type": "code",
      "source": [
        "from openjij import SQASampler\n",
        "sampler = SQASampler()"
      ],
      "metadata": {
        "id": "ku3o--xRj-Tl"
      },
      "execution_count": null,
      "outputs": []
    },
    {
      "cell_type": "markdown",
      "source": [
        "hとJはdict形式で入力をするために以下のように加工します。\n",
        "（QAシミュレータでの相互作用の符号は物理の教科書等とは逆なので符号をマイナスしています）"
      ],
      "metadata": {
        "id": "jUDJsq2f_nxU"
      }
    },
    {
      "cell_type": "code",
      "source": [
        "h_dict = {}\n",
        "for i in range(n):\n",
        "  h_dict[i] = h[i]\n",
        "\n",
        "J_dict = {}\n",
        "for i in range(n):\n",
        "  for j in range(n):\n",
        "    if i != j:\n",
        "      J_dict[i,j] = - J[i,j]"
      ],
      "metadata": {
        "id": "Mq-WbaGakD1V"
      },
      "execution_count": null,
      "outputs": []
    },
    {
      "cell_type": "markdown",
      "source": [
        "実行は簡単で以下のようにhとJを投げるだけです。"
      ],
      "metadata": {
        "id": "0vvkE3fwAC6e"
      }
    },
    {
      "cell_type": "code",
      "source": [
        "sampleset = sampler.sample_ising(h_dict, J_dict, num_reads=10)"
      ],
      "metadata": {
        "id": "qgdTKaZvACeF"
      },
      "execution_count": null,
      "outputs": []
    },
    {
      "cell_type": "code",
      "source": [
        "print(sampleset.record)"
      ],
      "metadata": {
        "id": "nzW9c0n4kE7x"
      },
      "execution_count": null,
      "outputs": []
    },
    {
      "cell_type": "markdown",
      "source": [
        "もう少し具体的な問題でそれぞれ解いてみることにしましょう。\n",
        "数分割問題を扱います。\n",
        "いくつかの数字があって、その数字を２つに分けます。\n",
        "ただし２つの数字の合計はできるだけ等しいものとして欲しいというものです。\n",
        "２つの数字の合計の差が小さければ正解ということになります。\n",
        "１つ１つの数字を$n_i$として、２つのグループA,Bに分けられたときは以下のようにそれぞれの数字の合計が計算されます。\n",
        "\n",
        "\\begin{equation}\n",
        "I_A = \\sum_{i \\in A} n_i\n",
        "\\end{equation}\n",
        "および\n",
        "\\begin{equation}\n",
        "I_B = \\sum_{i \\in B} n_i\n",
        "\\end{equation}\n",
        "\n",
        "これらの差がプラスでもマイナスでも小さい方が嬉しいので、差をとったものを二乗します。\n",
        "\\begin{equation}\n",
        "(I_A - I_B)^2 = (\\sum_{i \\in A} n_i\n",
        "- \\sum_{i \\in B} n_i)^2\n",
        "\\end{equation}\n",
        "イジング模型のように0と1または-1と+1の２値を利用して、この２つのグループに分けることを考える。Aに割り当てられたものはz_i=+1、Bに割り振られたものをz_i=-1として改めて書いてみると、次のようにこの状況を数式で書き表すことができる。\n",
        "\\begin{equation}\n",
        "(I_A - I_B)^2 = (\\sum_{i} n_i z_i )^2\n",
        "\\end{equation}\n",
        "これの最小化問題を考えれば良い。\n",
        "ちょっと展開をしてみると、\n",
        "\\begin{equation}\n",
        "(\\sum_{i} n_i z_i )(\\sum_{j} n_j z_j ) = 2\\sum_i n_i + \\sum_{i \\neq j} n_in_j z_i z_j \n",
        "\\end{equation}\n",
        "となってイジング模型と同じ形になることがわかる。\n",
        "\n"
      ],
      "metadata": {
        "id": "A0imh8W3AQYT"
      }
    },
    {
      "cell_type": "code",
      "source": [
        "n = 6\n",
        "N = np.linspace(1,n,n)"
      ],
      "metadata": {
        "id": "A3BiEuHVB_nt"
      },
      "execution_count": null,
      "outputs": []
    },
    {
      "cell_type": "markdown",
      "source": [
        "まずは1からnまでの数字を用意する。\n",
        "これらを掛け合わせてJを作る（今回はhはなしで良い）\n"
      ],
      "metadata": {
        "id": "ShR1v70XCYCD"
      }
    },
    {
      "cell_type": "code",
      "source": [
        "h = np.zeros(n)\n",
        "J = np.zeros(n**2).reshape(n,n)\n",
        "\n",
        "for k in range(n):\n",
        "  for l in range(n):\n",
        "    if k != l:\n",
        "      J[k,l] = - N[k]*N[l]"
      ],
      "metadata": {
        "id": "W8BaEMhKCWqe"
      },
      "execution_count": null,
      "outputs": []
    },
    {
      "cell_type": "markdown",
      "source": [
        "まずは量子アニーリングで実行してみましょう。"
      ],
      "metadata": {
        "id": "02qDhOl3DKQ-"
      }
    },
    {
      "cell_type": "code",
      "source": [
        "#step数\n",
        "Tall = 200\n",
        "dt = 0.01\n",
        "\n",
        "qc12 = cirq.Circuit()\n",
        "q = cirq.LineQubit.range(n)\n",
        "\n",
        "#重ね合わせの状態から始める\n",
        "qc12.append(cirq.H.on_each(q))\n",
        "\n",
        "for k in range(Tall):\n",
        "  s1 = dt*k/Tall\n",
        "  s2 = dt*(1 - k/Tall)\n",
        "  Uqubo = QA(J, h, s1, s2)\n",
        "  qc12.append(Uqubo,q)"
      ],
      "metadata": {
        "id": "1b5gqFvKCW91"
      },
      "execution_count": null,
      "outputs": []
    },
    {
      "cell_type": "code",
      "source": [
        "state12 = sim_state(qc12)"
      ],
      "metadata": {
        "id": "4hMZPbqJDUv_"
      },
      "execution_count": null,
      "outputs": []
    },
    {
      "cell_type": "code",
      "source": [
        "ans12 = sim_state_exp(qc12)\n",
        "cirq.plot_state_histogram(ans12, plt.subplot(), tick_label=binary_labels(n))\n",
        "plt.xticks(rotation=-90)\n",
        "plt.show()"
      ],
      "metadata": {
        "id": "dGdVUsX3DYfM"
      },
      "execution_count": null,
      "outputs": []
    },
    {
      "cell_type": "markdown",
      "source": [
        "グラフですと見づらいですがいくつかの状態が強調されます。\n",
        "ansを見てみると数値で確認することができます。"
      ],
      "metadata": {
        "id": "Kcz-0Ra7Df6g"
      }
    },
    {
      "cell_type": "markdown",
      "source": [
        "同じようにQAOAで実行してみましょう。"
      ],
      "metadata": {
        "id": "RRUWhscfFk0c"
      }
    },
    {
      "cell_type": "code",
      "source": [
        "def ene_func(params):\n",
        "  Tall = int(len(params)/2)\n",
        "  qc = cirq.Circuit()\n",
        "  q = cirq.LineQubit.range(n)\n",
        "\n",
        "  #重ね合わせの状態から始める\n",
        "  qc.append(cirq.H.on_each(q))\n",
        "\n",
        "  for k in range(Tall):\n",
        "    s1 = params[k]\n",
        "    s2 = params[k+Tall]\n",
        "    Uqubo = QA(J, h, s1, s2)\n",
        "    qc.append(Uqubo,q)\n",
        "    \n",
        "  ene = ene_exp(qc,h,J,n)\n",
        "\n",
        "  return ene"
      ],
      "metadata": {
        "id": "xogRcCXdDdBB"
      },
      "execution_count": null,
      "outputs": []
    },
    {
      "cell_type": "code",
      "source": [
        "Tall = 10\n",
        "params = np.random.rand(2*Tall)"
      ],
      "metadata": {
        "id": "Fa7XJ1AYD2wE"
      },
      "execution_count": null,
      "outputs": []
    },
    {
      "cell_type": "code",
      "source": [
        "from scipy.optimize import minimize\n",
        "result = minimize(ene_func, params, method=\"COBYLA\", options={\"maxiter\": 100})"
      ],
      "metadata": {
        "id": "nb-TD67wFt_i"
      },
      "execution_count": null,
      "outputs": []
    },
    {
      "cell_type": "markdown",
      "source": [
        "得られた結果を取り出したいときはresult.funとresult.xです。"
      ],
      "metadata": {
        "id": "2H99_Cq5F0wP"
      }
    },
    {
      "cell_type": "code",
      "source": [
        "result.fun"
      ],
      "metadata": {
        "id": "Rv2A6Fy3Fz0W"
      },
      "execution_count": null,
      "outputs": []
    },
    {
      "cell_type": "code",
      "source": [
        "params = result.x\n",
        "qc13 = cirq.Circuit()\n",
        "q = cirq.LineQubit.range(n)\n",
        "\n",
        "#重ね合わせの状態から始める\n",
        "qc13.append(cirq.H.on_each(q))\n",
        "\n",
        "for k in range(Tall):\n",
        "  s1 = params[k]\n",
        "  s2 = params[k+Tall]\n",
        "  Uqubo = QA(J, h, s1, s2)\n",
        "  qc13.append(Uqubo,q)"
      ],
      "metadata": {
        "id": "H3Pg8Ac_F4Yk"
      },
      "execution_count": null,
      "outputs": []
    },
    {
      "cell_type": "code",
      "source": [
        "ans13 = sim_state_exp(qc13)\n",
        "cirq.plot_state_histogram(ans13, plt.subplot(), tick_label=binary_labels(n))\n",
        "plt.xticks(rotation=90)\n",
        "plt.show()"
      ],
      "metadata": {
        "id": "giP4hhtGGC9Z"
      },
      "execution_count": null,
      "outputs": []
    },
    {
      "cell_type": "markdown",
      "source": [
        "なかなか難しい問題で、合計が10と11の分割2,3,5と1,4,6とかが見つかれば正解です。\n",
        "1,4,5、2,3,6などもOKです。"
      ],
      "metadata": {
        "id": "cFcovL4VHipa"
      }
    },
    {
      "cell_type": "code",
      "source": [
        "ans13.histogram(key='m')"
      ],
      "metadata": {
        "id": "Kx4hG9v8JBKI"
      },
      "execution_count": null,
      "outputs": []
    },
    {
      "cell_type": "markdown",
      "source": [
        "def sim_state_exp(qc):\n",
        "  qc.append(cirq.measure(q, key='m'))\n",
        "  res = sim.run(qc, repetitions=1000)\n",
        "  counts = res.histogram(key='m')\n",
        "  return res"
      ],
      "metadata": {
        "id": "VHPN5xQ5IA2E"
      }
    },
    {
      "cell_type": "code",
      "source": [],
      "metadata": {
        "id": "Fc2fQnwjIAlc"
      },
      "execution_count": null,
      "outputs": []
    }
  ]
}