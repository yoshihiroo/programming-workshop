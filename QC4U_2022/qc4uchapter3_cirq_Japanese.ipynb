{
  "nbformat": 4,
  "nbformat_minor": 0,
  "metadata": {
    "colab": {
      "private_outputs": true,
      "provenance": [],
      "collapsed_sections": [],
      "include_colab_link": true
    },
    "kernelspec": {
      "name": "python3",
      "display_name": "Python 3"
    },
    "language_info": {
      "name": "python"
    }
  },
  "cells": [
    {
      "cell_type": "markdown",
      "metadata": {
        "id": "view-in-github",
        "colab_type": "text"
      },
      "source": [
        "<a href=\"https://colab.research.google.com/github/yoshihiroo/programming-workshop/blob/master/QC4U_2022/qc4uchapter3_cirq_Japanese.ipynb\" target=\"_parent\"><img src=\"https://colab.research.google.com/assets/colab-badge.svg\" alt=\"Open In Colab\"/></a>"
      ]
    },
    {
      "cell_type": "markdown",
      "source": [
        "# QC4U 第3回 Cirq写経翻訳\n",
        "2022.10.15 更新"
      ],
      "metadata": {
        "id": "PymmMT7QUzPh"
      }
    },
    {
      "cell_type": "markdown",
      "source": [
        "東北大学 [大関先生によるQC4U](https://altema.is.tohoku.ac.jp/QC4U/)の解説コードをもとに、理解を深めるためにCirqへの翻訳をやってみているものです。Cirq初心者ですので、正しくないコードの書き方や理解が間違っているところがあるかも知れませんがご容赦ください。説明の本文は敬意をもってほぼ丸々パクらせていただいております。（掲載については大関先生の了解を得ております。ご承諾ありがとうございます。）\n",
        "\n",
        "[元にした2022.09.22 第3回の解説コード](https://colab.research.google.com/gist/mohzeki222/03914646f0c7fb8bc4826cddbd44ac23/qc4uchapter3.ipynb)"
      ],
      "metadata": {
        "id": "aYypnou7U7hX"
      }
    },
    {
      "cell_type": "markdown",
      "source": [
        "# Cirqのインストール\n",
        "\n",
        "前回に引き続きGoogleが提供するCirqを利用しましょう。"
      ],
      "metadata": {
        "id": "yoYNDMRnnWr8"
      }
    },
    {
      "cell_type": "code",
      "source": [
        "pip install cirq"
      ],
      "metadata": {
        "id": "2jMYymbRmK0C"
      },
      "execution_count": null,
      "outputs": []
    },
    {
      "cell_type": "markdown",
      "source": [
        "今回は量子コンピュータを利用した機械学習について紹介します。"
      ],
      "metadata": {
        "id": "jnWk7GsFv0rF"
      }
    },
    {
      "cell_type": "code",
      "execution_count": null,
      "metadata": {
        "id": "FgZN8RH3jfGL"
      },
      "outputs": [],
      "source": [
        "import cirq"
      ]
    },
    {
      "cell_type": "markdown",
      "source": [
        "### 前回までの振り返り\n",
        "\n",
        "これまでに学んだものは、H,X,Z、そして制御Zゲートでした。\n",
        "それぞれの特徴は、H=重ね合わせ、Xは反転、Zは傷をつける（|1>だけ符号をマイナスにする）。\n",
        "そして制御Zゲートは|11>だけ傷をつけるというものでした。\n",
        "改めて確率振幅に傷をつけるZというのは偉大だな、と思う次第です。\n",
        "2個の量子ビットにZを作用するというのを改めてみてみましょう。\n",
        "ここで一気にどんな変化をするのかを見るために、アダマールを先にかけておきます。"
      ],
      "metadata": {
        "id": "e0LMTLRcHjhI"
      }
    },
    {
      "cell_type": "code",
      "source": [
        "qc = cirq.Circuit()\n",
        "q = cirq.LineQubit.range(2)\n",
        "\n",
        "qc.append(cirq.H.on_each(q))\n",
        "qc.append(cirq.Z(q[0]))\n",
        "\n",
        "sim = cirq.Simulator()\n",
        "res = sim.simulate(qc)"
      ],
      "metadata": {
        "id": "ONR7Ni44S20p"
      },
      "execution_count": null,
      "outputs": []
    },
    {
      "cell_type": "markdown",
      "source": [
        "どんな回路になっているのかをみたければprint(qc)を実行しましょう。"
      ],
      "metadata": {
        "id": "EnrkjYK9S6LC"
      }
    },
    {
      "cell_type": "code",
      "source": [
        "print(qc)"
      ],
      "metadata": {
        "id": "LG-TtRxrTHNX"
      },
      "execution_count": null,
      "outputs": []
    },
    {
      "cell_type": "code",
      "source": [
        "print(res.final_state_vector.round(5))"
      ],
      "metadata": {
        "id": "AvPm8CiyS_5z"
      },
      "execution_count": null,
      "outputs": []
    },
    {
      "cell_type": "markdown",
      "source": [
        "この結果を見るとわかりますが、|10>と|11>だけ係数がマイナスになっています。\n",
        "つまり左側（１つ目の量子ビット）が1のもの２つを傷つけていることがわかります。"
      ],
      "metadata": {
        "id": "i97WWnLcTTQp"
      }
    },
    {
      "cell_type": "markdown",
      "source": [
        "逆にZゲートをかけておけば、右側（２つ目の量子ビット）が1のもの２つを傷つけることがわかります。\n",
        "制御Zゲートと対比すると、１つだけ傷をつけるのか、２つ傷をつけるのかの違いがあります。"
      ],
      "metadata": {
        "id": "EHMfteXUTc7S"
      }
    },
    {
      "cell_type": "markdown",
      "source": [
        "\n",
        "\n",
        "さて今日新しく学ぶゲートは制御Xゲートです。\n",
        "まずはどのような作用をするのか調べてみましょう。\n",
        "制御量子ビットが|0>にあると意味がないので、|1>にしておきます。\n",
        "そのためには初期化で実施するか、Xをあらかじめかけておくという方法があります。"
      ],
      "metadata": {
        "id": "Rtc88EBbStC9"
      }
    },
    {
      "cell_type": "code",
      "source": [
        "qc2 = cirq.Circuit()\n",
        "q = cirq.LineQubit.range(2)\n",
        "\n",
        "qc2.append(cirq.X(q[0]))\n",
        "qc2.append(cirq.CNOT(q[0], q[1]))"
      ],
      "metadata": {
        "id": "Rc8ReIUvHtJw"
      },
      "execution_count": null,
      "outputs": []
    },
    {
      "cell_type": "markdown",
      "source": [
        "どんな回路になっているのかを見たければprint、もしくはSVGCircuitを実行しましょう。"
      ],
      "metadata": {
        "id": "OD0GLVArQ19e"
      }
    },
    {
      "cell_type": "code",
      "source": [
        "#print(qc2)\n",
        "from cirq.contrib.svg import SVGCircuit\n",
        "SVGCircuit(qc2)"
      ],
      "metadata": {
        "id": "zZskecGUQ5H4"
      },
      "execution_count": null,
      "outputs": []
    },
    {
      "cell_type": "markdown",
      "source": [
        "早速シミュレートしてみてどんな結果になるかをみてみましょう。"
      ],
      "metadata": {
        "id": "c1phAuqbKe2d"
      }
    },
    {
      "cell_type": "markdown",
      "source": [
        "何度もシミュレーションを実行することになりますから、せっかくなので自作関数でシミュレーションを実行する部分をひとまとめにしておきましょう。"
      ],
      "metadata": {
        "id": "UgME-yyQydJi"
      }
    },
    {
      "cell_type": "code",
      "source": [
        "import numpy as np\n",
        "def sim_state(qc,disp=True):\n",
        "  res = sim.simulate(qc)\n",
        "  if disp == True:\n",
        "    print(cirq.dirac_notation(np.array(res.final_state_vector)))\n",
        "  return res"
      ],
      "metadata": {
        "id": "jzkQ9oEfykUA"
      },
      "execution_count": null,
      "outputs": []
    },
    {
      "cell_type": "markdown",
      "source": [
        "この関数ではdispというオプション変数を持たせています。\n",
        "何も入れなければケット表示で状態ベクトルを出力します。"
      ],
      "metadata": {
        "id": "DFYV-O6Qyvos"
      }
    },
    {
      "cell_type": "code",
      "source": [
        "state = sim_state(qc2)"
      ],
      "metadata": {
        "id": "Yd8QFs5vKN41"
      },
      "execution_count": null,
      "outputs": []
    },
    {
      "cell_type": "markdown",
      "source": [
        "わざわざdisp = Falseと打つと、表示を消すことができます。"
      ],
      "metadata": {
        "id": "NfXup5HdzBcy"
      }
    },
    {
      "cell_type": "code",
      "source": [
        "state = sim_state(qc2, disp = False)"
      ],
      "metadata": {
        "id": "ehlV197nzFmO"
      },
      "execution_count": null,
      "outputs": []
    },
    {
      "cell_type": "markdown",
      "source": [
        "さてさて、この結果を見ると|10>が|11>になった様子が見れます。\n",
        "つまり制御量子ビットが|1>だった場合に反転をします。\n",
        "|11>を入力すると、|10>になります。"
      ],
      "metadata": {
        "id": "rR7j-sMbQvHW"
      }
    },
    {
      "cell_type": "markdown",
      "source": [
        "つまり  \n",
        "|00> -> |00>、  \n",
        "|01> -> |01>、  \n",
        "|10> -> |11>、  \n",
        "|11> -> |10>、  \n",
        "といった形で、下2つの状態を入れ替えることになります。"
      ],
      "metadata": {
        "id": "Ft6Bp1v3Ra8N"
      }
    },
    {
      "cell_type": "markdown",
      "source": [
        "これを利用すると２つに傷をつけるZゲートの作用を変えることができます。\n",
        "試しに制御XゲートでZゲートを挟んでみます。\n",
        "\n",
        "どのような作用になるのかを一気に見比べるために、アダマール回路を最初に実施します。"
      ],
      "metadata": {
        "id": "rbrrm_D4YBOK"
      }
    },
    {
      "cell_type": "code",
      "source": [
        "qc3 = cirq.Circuit()\n",
        "q = cirq.LineQubit.range(2)\n",
        "\n",
        "qc3.append(cirq.H.on_each(q))\n",
        "\n",
        "qc3.append(cirq.CNOT(q[0], q[1]))\n",
        "qc3.append(cirq.Z(q[1]))\n",
        "qc3.append(cirq.CNOT(q[0], q[1]))"
      ],
      "metadata": {
        "id": "61QaKMRwYdv7"
      },
      "execution_count": null,
      "outputs": []
    },
    {
      "cell_type": "markdown",
      "source": [
        "落ち着いて回路の様子を見てみましょう。"
      ],
      "metadata": {
        "id": "D6SOrin_YtKI"
      }
    },
    {
      "cell_type": "code",
      "source": [
        "SVGCircuit(qc3)"
      ],
      "metadata": {
        "id": "uCpAUnHdYvO-"
      },
      "execution_count": null,
      "outputs": []
    },
    {
      "cell_type": "markdown",
      "source": [
        "さてこれはどんな作用をするでしょうか？予想しながら結果を眺めてみましょう。\n"
      ],
      "metadata": {
        "id": "z_lJJLU6bhDq"
      }
    },
    {
      "cell_type": "code",
      "source": [
        "state = sim_state(qc3)"
      ],
      "metadata": {
        "id": "-Byos9pQbnFL"
      },
      "execution_count": null,
      "outputs": []
    },
    {
      "cell_type": "markdown",
      "source": [
        "|01>又は|10>だけに傷がつけられて、それ以外の|00>と|11>はそのままです。\n",
        "これは1の数が奇数か偶数かの判定ができるとも言えます。\n",
        "二つの量子ビットの間の数の関係で、結果が決まるので、相互に関係をしている、相互作用をしていると言います。"
      ],
      "metadata": {
        "id": "rVO2sXGabxDW"
      }
    },
    {
      "cell_type": "markdown",
      "source": [
        "これは量子コンピュータの分野でも登場するイジング模型を記述する重要です。\n",
        "Zゲートは、Z軸周りに180度回転させるものでした。\n",
        "代わりにZ軸周りに180度までは回転させず、微調整が効く回転ゲートを利用してみましょう。"
      ],
      "metadata": {
        "id": "fSTRW5YedF9H"
      }
    },
    {
      "cell_type": "code",
      "source": [
        "theta = 0.5\n",
        "\n",
        "qc4 = cirq.Circuit()\n",
        "q = cirq.LineQubit.range(2)\n",
        "\n",
        "qc4.append(cirq.H.on_each(q))\n",
        "\n",
        "qc4.append(cirq.CNOT(q[0], q[1]))\n",
        "qc4.append(cirq.rz(theta).on(q[1]))\n",
        "qc4.append(cirq.CNOT(q[0], q[1]))"
      ],
      "metadata": {
        "id": "jupS75qddxRG"
      },
      "execution_count": null,
      "outputs": []
    },
    {
      "cell_type": "markdown",
      "source": [
        "回路の様子を見てみましょう。"
      ],
      "metadata": {
        "id": "KLv8hlQ-fp0M"
      }
    },
    {
      "cell_type": "code",
      "source": [
        "SVGCircuit(qc4)"
      ],
      "metadata": {
        "id": "yNhILRfQfsr1"
      },
      "execution_count": null,
      "outputs": []
    },
    {
      "cell_type": "markdown",
      "source": [
        "他にもrx,ry,rzが存在します。rz(角度、量子ビットの指定）で利用することができます。\n",
        "早速結果を見てみましょう。"
      ],
      "metadata": {
        "id": "6ar2h1gGeCzB"
      }
    },
    {
      "cell_type": "code",
      "source": [
        "state = sim_state(qc4)"
      ],
      "metadata": {
        "id": "SHGa-3plgovD"
      },
      "execution_count": null,
      "outputs": []
    },
    {
      "cell_type": "markdown",
      "source": [
        "|00>と|11>にかかる係数が同じで、\n",
        "それとは異なる形で（複素共役ですが）|01>と|10>に同じ係数がかかっています。\n",
        "やはり1の数が偶数か、奇数かでその作用が変わることは変わりません。\n",
        "相互作用の程度として角度を大きくしていくと、２つの状態が分離されていきます。\n",
        "ただし角度は当然$2\\pi$周期ですから、繰り返し近づいたり離れたりします。\n",
        "\n",
        "先ほど名前を登場させましたけれども、量子ビットの|0>を上向き、|1>を下向きのスピンとして、\n",
        "磁性体（磁石）の模型として知られるイジング模型を表現することができます。\n",
        "このように量子コンピュータ上で、物質内部で起こっていることを疑似的に表して、その挙動を調べることを量子シミュレーションと言います。"
      ],
      "metadata": {
        "id": "07yFsvIfg1eY"
      }
    },
    {
      "cell_type": "markdown",
      "source": [
        "そうした物質内で起こっていることをシミュレーションするとなると、実際に行われる実験結果との比較をする必要が出てきます。\n",
        "そうした物理量がどのような値になるか、量子力学では、確率的に起こることがきまりました。\n",
        "それを反映して測定結果を予言するものは期待値ということになります。\n",
        "そこでシミュレーションの結果として得られた量子状態ベクトルから、期待値を計算する方法を紹介しましょう。"
      ],
      "metadata": {
        "id": "CEmIhRycn69e"
      }
    },
    {
      "cell_type": "code",
      "source": [
        "obs = [cirq.Z(q[0]), cirq.Z(q[1])]\n",
        "y = sum(sim.simulate_expectation_values(qc, observables=obs))\n",
        "print(y)"
      ],
      "metadata": {
        "id": "-6F8lNepon9I"
      },
      "execution_count": null,
      "outputs": []
    },
    {
      "cell_type": "markdown",
      "source": [
        "Operatorの中にPauliという記述を介して、ZIとIZとあります。ZIは１つ目の量子ビットのZ方向のスピンの向きを調べる実験に対応しています。IZは２つ目の量子ビットのZ方向のスピンの向きを調べる実験に対応しています。\n",
        "この実験を何度も行って得られた平均値を予測するのが期待値です。\n",
        "重ね合わせの状態から始まり、ちょっとだけイジング模型のダイナミクスに従い、スピンの向きが変化しているのですが、わずかな時間だったので、あまり大きな変化はしていないようです。"
      ],
      "metadata": {
        "id": "whhXFoLppwJx"
      }
    },
    {
      "cell_type": "markdown",
      "source": [
        "### 量子シミュレーション\n",
        "\n",
        "このイジング模型は制御XゲートとZ回転ゲートで表現されます。\n",
        "それにより、量子ビット間ないしはスピン間の相互作用をシミュレートします。\n",
        "それに加えて横磁場と呼ばれることがありますが、X回転ゲートを各量子ビットに作用することで、量子アニーリングマシンで起きていることを真似することができます。\n",
        "\n",
        "回転角度は、そのシミュレーション時間に対応します。\n",
        "ただし、一気に回転させるとシミュレーションの精度が悪くなります。\n",
        "そのため少しずつかけていく必要があります。\n",
        "この少しずつの回転でシミュレーションをさせる方法を鈴木トロッター分解と言います。\n",
        "\n",
        "それではちょっとの時間の間だけ、横磁場イジング模型で行われていることをシミュレートする量子回路を用意しましょう。"
      ],
      "metadata": {
        "id": "TO71YkiTikp2"
      }
    },
    {
      "cell_type": "code",
      "source": [
        "class Ising_dynamics(cirq.Gate):\n",
        "\n",
        "  def __init__(self, n, theta_z, theta_x):\n",
        "    self.n = n\n",
        "    #theta_xはnumpy array\n",
        "    #theta_zもnumpy array\n",
        "    self.theta_z = theta_z\n",
        "    self.theta_x = theta_x\n",
        "\n",
        "  def _num_qubits_(self):\n",
        "    return self.n\n",
        "\n",
        "  def _decompose_(self, qubits):\n",
        "    q = qubits\n",
        " \n",
        "    for k in range(self.n):\n",
        "      yield cirq.rx(self.theta_x[k]).on(q[k])\n",
        "    \n",
        "    if self.n > 1:\n",
        "      for k in range(self.n-1):\n",
        "        yield cirq.CNOT(q[k],q[k+1])\n",
        "        yield cirq.rz(self.theta_z[k+1]).on(q[k+1])\n",
        "        yield cirq.CNOT(q[k],q[k+1])\n",
        "      yield cirq.CNOT(q[self.n-1],q[0])\n",
        "      yield cirq.rz(self.theta_z[0]).on(q[0])\n",
        "      yield cirq.CNOT(q[self.n-1],q[0])\n",
        "\n",
        "  def _circuit_diagram_info_(self, args):\n",
        "    return [\"UIsing\"] * self.num_qubits()"
      ],
      "metadata": {
        "id": "OqZrk3Hni_Xs"
      },
      "execution_count": null,
      "outputs": []
    },
    {
      "cell_type": "markdown",
      "source": [
        "次に量子シミュレーションの結果、量子ビットないしはスピンがどれだけ揃っているのかを調べることにしましょう。\n",
        "そのための期待値計算を行う関数を用意します。\n",
        "今後のことを考えて、それぞれの量子ビットでさまざまな回転角度を与えることができるようにしておきました。\n",
        "実際にこれを利用して横磁場イジング模型の量子シミュレーションを実行してみましょう。\n",
        "得られた結果から、Z方向のスピンの期待値を測定した場合の結果を見られるようにしておきましょう。"
      ],
      "metadata": {
        "id": "N4YqRXngTwdS"
      }
    },
    {
      "cell_type": "code",
      "source": [
        "def mag_exp(qc,n):\n",
        "  obs = [cirq.Z(q[i]) for i in range(n)]\n",
        "  y = np.mean(sim.simulate_expectation_values(qc, observables=obs))\n",
        "  return y"
      ],
      "metadata": {
        "id": "xT1CYfPtr1Bn"
      },
      "execution_count": null,
      "outputs": []
    },
    {
      "cell_type": "markdown",
      "source": [
        "これらを利用して量子シミュレーションを行う量子回路を組んでみましょう。"
      ],
      "metadata": {
        "id": "0C14gYA7VjC5"
      }
    },
    {
      "cell_type": "code",
      "source": [
        "n = 5\n",
        "#step数\n",
        "Tall = 50\n",
        "#途中経過を格納するリスト\n",
        "m_series = []\n",
        "\n",
        "qc5 = cirq.Circuit()\n",
        "q = cirq.LineQubit.range(n)\n",
        "\n",
        "#重ね合わせの状態から始める\n",
        "#qc5.append(cirq.H.on_each(q))\n",
        "\n",
        "#短い時間でのシミュレーションをする\n",
        "dt = 0.1\n",
        "#横磁場の大きさ\n",
        "theta_x = 5.0*np.ones(n)*dt\n",
        "#相互作用の大きさ\n",
        "theta_z = 3.0*np.ones(n)*dt\n",
        "\n",
        "UIsing = Ising_dynamics(n, theta_z, theta_x)\n",
        "for k in range(Tall):\n",
        "  qc5.append(UIsing.on(*q))\n",
        "  m = mag_exp(qc5,n)\n",
        "  m_series.append(m)\n"
      ],
      "metadata": {
        "id": "sEMoZSFMlbrL"
      },
      "execution_count": null,
      "outputs": []
    },
    {
      "cell_type": "markdown",
      "source": [
        "さて量子シミュレーションの結果、磁化（スピンの揃い具合：スピンの平均値）はどのように変化しているでしょうか。"
      ],
      "metadata": {
        "id": "O8LPh3F7XObv"
      }
    },
    {
      "cell_type": "code",
      "source": [
        "import matplotlib.pyplot as plt\n",
        "plt.plot(m_series)\n",
        "plt.show()"
      ],
      "metadata": {
        "id": "6uEq2uypXacK"
      },
      "execution_count": null,
      "outputs": []
    },
    {
      "cell_type": "markdown",
      "source": [
        "結構複雑な振る舞いをしていることがわかりますね。\n",
        "最初は全て揃った状態から、次第に崩れていき振動しながら揃ったり崩れたりを繰り返しているようです。"
      ],
      "metadata": {
        "id": "WBLWROuYcqaG"
      }
    },
    {
      "cell_type": "markdown",
      "source": [
        "#### sympyの利用\n",
        "ちなみにもう少しだけ紹介するとsympyでは教科書にある表示で、計算を行うことができて便利です。\n"
      ],
      "metadata": {
        "id": "uqgRVrdjLXZ1"
      }
    },
    {
      "cell_type": "code",
      "source": [
        "from sympy.physics.quantum.qubit import Qubit\n",
        "q = Qubit(\"01\")\n",
        "print(q)"
      ],
      "metadata": {
        "id": "9_ouO7YoLdgS"
      },
      "execution_count": null,
      "outputs": []
    },
    {
      "cell_type": "markdown",
      "source": [
        "このようなケット表示をベクトル表示にすることができます。"
      ],
      "metadata": {
        "id": "G056nfQILmNt"
      }
    },
    {
      "cell_type": "code",
      "source": [
        "from sympy.physics.quantum.represent import represent\n",
        "represent(q)"
      ],
      "metadata": {
        "id": "eFCd7w8uLpa-"
      },
      "execution_count": null,
      "outputs": []
    },
    {
      "cell_type": "markdown",
      "source": [
        "np.array(represent(q))とするとnumpyのarray（行列）として利用できます。"
      ],
      "metadata": {
        "id": "lIV11i9LL9gc"
      }
    },
    {
      "cell_type": "markdown",
      "source": [
        "逆にnumpyのarrayで表された行列（ベクトルも）をそのままケットベクトルで表示してくれます。"
      ],
      "metadata": {
        "id": "oVsrPgMoMD90"
      }
    },
    {
      "cell_type": "code",
      "source": [
        "from sympy.physics.quantum.qubit import matrix_to_qubit\n",
        "matrix_to_qubit(represent(q))"
      ],
      "metadata": {
        "id": "-71r6R1LMDDf"
      },
      "execution_count": null,
      "outputs": []
    },
    {
      "cell_type": "markdown",
      "source": [
        "### 量子機械学習へ"
      ],
      "metadata": {
        "id": "NJt8OKiUMal0"
      }
    },
    {
      "cell_type": "markdown",
      "source": [
        "さて今日の本題。"
      ],
      "metadata": {
        "id": "cZiBCfyYMUl3"
      }
    },
    {
      "cell_type": "markdown",
      "source": [
        "（教師あり）機械学習では入力xに対して出力yがあり、その間をつなぐ関数f(x)を真似することを目標とします。\n",
        "例えば猫の画像をxとしたときに、それが猫であるかどうかyを与える関数を作ろうというものです。\n",
        "例えば猫であることをy=+1として、猫ではないとすることをy=-1とすると、立派な関数として想像することはできます。\n",
        "しかしどんな関数であるのかはわかりません。\n",
        "そこで自分の好きな関数を組み合わせて、それらの組み合わせ方を調整することで、うまく整合性のある関数を作ろうとします。\n",
        "途中では、実際の猫画像を入れて、正しく猫の識別$y=\\pm 1$ができているかをチェックします。\n",
        "うまくできていなければ、その組み合わせに関わる要素を変更していくというわけです。\n",
        "\n",
        "自分の好きな関数を用意する部分に、今回皆さんと学習している量子回路を利用してみましょう。"
      ],
      "metadata": {
        "id": "DOFMxHlSj1EW"
      }
    },
    {
      "cell_type": "markdown",
      "source": [
        "まずは量子回路に、猫の画像を入力するために、入力xに応じて、結果が変わるような単純な回路を作ってみましょう。\n",
        "量子回路ができることは基本的には「回転」ですから、入力の数値を回転角度に変える必要があります。cosやsinなど三角関数を利用しましょう。これらの三角関数は角度が0から360度（弧度法で$0$から$2\\pi$）でその値は-1から1まで変わるものです。これを逆に利用すると-1から+1の値を0から360度（弧度法で$0$から$2\\pi$）の値に変えてくれます。\n",
        "それで入力された数値を回転角度に変えます。\n",
        "そうやって回すだけの回路を用意しましょう。"
      ],
      "metadata": {
        "id": "8opLwCtQlJIg"
      }
    },
    {
      "cell_type": "code",
      "source": [
        "class U_in(cirq.Gate):\n",
        "  def __init__(self, x, n):\n",
        "    self.x = x\n",
        "    self.n = n\n",
        "\n",
        "  def _num_qubits_(self):\n",
        "    return self.n\n",
        "\n",
        "  def _decompose_(self, qubits):\n",
        "    q = qubits\n",
        "    angle = np.arcsin(self.x)\n",
        "    yield cirq.rx(angle).on_each(q)\n",
        "\n",
        "  def _circuit_diagram_info_(self, args):\n",
        "    return [\"U_in\"] * self.num_qubits()"
      ],
      "metadata": {
        "id": "gbXH-x6HlEGf"
      },
      "execution_count": null,
      "outputs": []
    },
    {
      "cell_type": "markdown",
      "source": [
        "これで入力が-1から+1に変わって行った時に、どのように量子状態が生じるのか、その確率が変化していく様子を見てみましょう。"
      ],
      "metadata": {
        "id": "_V38raX4uTc9"
      }
    },
    {
      "cell_type": "markdown",
      "source": [
        "まずは入力xを与えて、それに対して量子回路が生成されて、測定まで行い、0という状態がどれくらい発生するか、その確率を算出するプログラムを作ってみます。"
      ],
      "metadata": {
        "id": "NIIRHAlpwBEo"
      }
    },
    {
      "cell_type": "code",
      "source": [
        "def QCLinput(x,n):\n",
        "  qc = cirq.Circuit()\n",
        "  q = cirq.LineQubit.range(n)\n",
        "\n",
        "  u_in = U_in(x,n)\n",
        "  qc.append(u_in.on(*q))\n",
        "  \n",
        "  return qc"
      ],
      "metadata": {
        "id": "iA_ykqs2rHGY"
      },
      "execution_count": null,
      "outputs": []
    },
    {
      "cell_type": "markdown",
      "source": [
        "これを実行すると、入力xに応じて量子回路が作られます。\n",
        "その量子回路から出力される結果を読み取れば、入力に応じて変形される量子状態から何かの値が出力されるようになります。\n",
        "出来上がった量子状態から、先ほどの量子シミュレーションで利用した量子ビットの揃い具合、Z方向のスピンの揃い具合を調べてみましょう。"
      ],
      "metadata": {
        "id": "MAaRaOVv2T78"
      }
    },
    {
      "cell_type": "code",
      "source": [
        "n = 3\n",
        "x = 0.1\n",
        "q = cirq.LineQubit.range(n)\n",
        "qc = QCLinput(x,n)\n",
        "y = mag_exp(qc,n)\n",
        "print(y)"
      ],
      "metadata": {
        "id": "8QCltTRy2pgA"
      },
      "execution_count": null,
      "outputs": []
    },
    {
      "cell_type": "markdown",
      "source": [
        "これでxを入力したら出力yが出てくる量子回路を作ることができました。\n",
        "これを次々に実行して、xを変えた場合にyがどのように変化するのかをみてみましょう。"
      ],
      "metadata": {
        "id": "29asNyjVv_fT"
      }
    },
    {
      "cell_type": "code",
      "source": [
        "import numpy as np\n",
        "\n",
        "x_series = np.linspace(-1,1,100)\n",
        "y_series = []\n",
        "\n",
        "for x in x_series:\n",
        "  qc = QCLinput(x,n)\n",
        "  y = mag_exp(qc,n)\n",
        "  y_series.append(y)"
      ],
      "metadata": {
        "id": "vleGWLCkrnPu"
      },
      "execution_count": null,
      "outputs": []
    },
    {
      "cell_type": "markdown",
      "source": [
        "この結果をプロットして眺めてみましょう。\n",
        "そのためにはpythonのライブラリからmatplotlibを利用します。"
      ],
      "metadata": {
        "id": "yjuADmjHwvSb"
      }
    },
    {
      "cell_type": "code",
      "source": [
        "import matplotlib.pyplot as plt\n",
        "plt.plot(x_series,y_series)\n",
        "plt.show()"
      ],
      "metadata": {
        "id": "Ushr1CRIwP-S"
      },
      "execution_count": null,
      "outputs": []
    },
    {
      "cell_type": "markdown",
      "source": [
        "綺麗な半円を作り出すことができました。これは三角関数を利用したことによる結果です。\n",
        "ここまでであれば、入力xに対して出力yは半円、つまり\n",
        "\\begin{equation}\n",
        "y = \\sqrt{1-x^2}\n",
        "\\end{equation}\n",
        "という関数を作り出したということになります。\n",
        "\n",
        "これ以外にも巧みな関数を作り出して、さまざまなデータに備わる入力xと出力yを説明するための準備をする必要があります。\n",
        "\n",
        "量子回路では、基本的には各量子ビットを回転をさせることができます。\n",
        "また量子ビット間を結びつけることで、グローバーのアルゴリズムのように係数を操作することができます。\n",
        "1つの入力xに対して、量子ビットを複数割り当てて複雑な関数を生み出すことができそうです。"
      ],
      "metadata": {
        "id": "zlg-mt7215UJ"
      }
    },
    {
      "cell_type": "markdown",
      "source": [
        "まずは複数の量子ビットが与えられた時に、それぞれを適当に回転させる量子回路を用意します。"
      ],
      "metadata": {
        "id": "8eYOYlAI4Wch"
      }
    },
    {
      "cell_type": "code",
      "source": [
        "class U_rot(cirq.Gate):\n",
        "  def __init__(self, n, params):\n",
        "    self.n = n\n",
        "    self.params = params\n",
        "\n",
        "  def _num_qubits_(self):\n",
        "    return self.n\n",
        "\n",
        "  def _decompose_(self, qubits):\n",
        "    q = qubits\n",
        "\n",
        "    for k in range(self.n):\n",
        "      yield cirq.rx(self.params[k]).on(q[k])\n",
        "      yield cirq.ry(self.params[self.n+k]).on(q[k])\n",
        "      yield cirq.rz(self.params[2*self.n+k]).on(q[k])\n",
        "\n",
        "  def _circuit_diagram_info_(self, args):\n",
        "    return [\"U_rot\"] * self.num_qubits()"
      ],
      "metadata": {
        "id": "BjEHGebaxAvk"
      },
      "execution_count": null,
      "outputs": []
    },
    {
      "cell_type": "markdown",
      "source": [
        "ここにparamsという形で回転角度を操作できるようにしておきました。\n",
        "\n",
        "これで回転角度を調整することでさまざまな関数を作れる状態にすることができました。\n",
        "この角度を調整することで関数の形を変えることができるようにします。"
      ],
      "metadata": {
        "id": "FnYeRj268HDh"
      }
    },
    {
      "cell_type": "markdown",
      "source": [
        "これを付け加えるだけでも、量子状態はもちろん変化します。\n",
        "どのような変化をもたらしてくれるか、見てみましょう。\n",
        "出力yを得るためには、複数の量子ビットによる結果を取りまとめる必要があります。\n",
        "その際に量子シミュレーションで利用した磁化の期待値の計算方法を利用しましょう。"
      ],
      "metadata": {
        "id": "FzIpw7Y-xWgF"
      }
    },
    {
      "cell_type": "markdown",
      "source": [
        "こうしてできた量子回路は確率的に、各量子ビットで-1と1を出力します。\n",
        "それらを統合してひとつの結果とするわけです。\n",
        "その際にどの量子ビットを重要視するのかも、ニューラルネットワークの類似性から、重みとしてパラメータを用意して考えることもできます。\n",
        "これで準備完了です。適当な回転をを各量子ビットにかけることでどのように入力xと出力yの関係が変わるのかをみてみましょう。"
      ],
      "metadata": {
        "id": "HFI3a7EFyQF6"
      }
    },
    {
      "cell_type": "code",
      "source": [
        "y_series = []\n",
        "params = np.random.rand(3*n)*2*np.pi\n",
        "\n",
        "u_rot = U_rot(n,params)\n",
        "for x in x_series:\n",
        "  qc = QCLinput(x,n)\n",
        "  q = cirq.LineQubit.range(n)\n",
        "  qc.append(u_rot.on(*q))\n",
        "  y = mag_exp(qc,n)\n",
        "  y_series.append(y)"
      ],
      "metadata": {
        "id": "PMpiErxfxV8i"
      },
      "execution_count": null,
      "outputs": []
    },
    {
      "cell_type": "markdown",
      "source": [
        "ここで出鱈目なパラメータとしてparamsを用意しました。"
      ],
      "metadata": {
        "id": "r66T_rMX88Pn"
      }
    },
    {
      "cell_type": "code",
      "source": [
        "plt.plot(x_series,y_series)\n",
        "plt.show()"
      ],
      "metadata": {
        "id": "FyLOZYUP39tA"
      },
      "execution_count": null,
      "outputs": []
    },
    {
      "cell_type": "markdown",
      "source": [
        "次に制御Zゲートで量子ビット間の係数を変える操作を追加してみましょう。"
      ],
      "metadata": {
        "id": "O0QoBeqW4yKK"
      }
    },
    {
      "cell_type": "code",
      "source": [
        "class U_ent(cirq.Gate):\n",
        "  def __init__(self, n):\n",
        "    self.n = n\n",
        "\n",
        "  def _num_qubits_(self):\n",
        "    return self.n\n",
        "\n",
        "  def _decompose_(self, qubits):\n",
        "    q = qubits\n",
        "    if self.n > 1:\n",
        "      for k in range(self.n-1):\n",
        "        yield cirq.CZ(q[k],q[k+1])\n",
        "      yield cirq.CZ(q[self.n-1],q[0])\n",
        "\n",
        "  def _circuit_diagram_info_(self, args):\n",
        "    return [\"U_ent\"] * self.num_qubits()"
      ],
      "metadata": {
        "id": "OWMp2R604xNA"
      },
      "execution_count": null,
      "outputs": []
    },
    {
      "cell_type": "markdown",
      "source": [
        "これらを組み合わせるとどのように変化するでしょうか。"
      ],
      "metadata": {
        "id": "n2Tc5TTc5XW8"
      }
    },
    {
      "cell_type": "code",
      "source": [
        "y_series = []\n",
        "\n",
        "u_rot = U_rot(n,params)\n",
        "u_ent = U_ent(n)\n",
        "\n",
        "for x in x_series:\n",
        "  qc = QCLinput(x,n)\n",
        "  q = cirq.LineQubit.range(n)\n",
        "  qc.append(u_ent.on(*q))\n",
        "  qc.append(u_rot.on(*q))\n",
        "  y = mag_exp(qc,n)\n",
        "  y_series.append(y)"
      ],
      "metadata": {
        "id": "TjGJU3am84k2"
      },
      "execution_count": null,
      "outputs": []
    },
    {
      "cell_type": "markdown",
      "source": [
        "さていざ結果はどうでしょうか。"
      ],
      "metadata": {
        "id": "1N_-FtF-8rnn"
      }
    },
    {
      "cell_type": "code",
      "source": [
        "plt.plot(x_series,y_series)\n",
        "plt.show()"
      ],
      "metadata": {
        "id": "EX4Cxkse5Wki"
      },
      "execution_count": null,
      "outputs": []
    },
    {
      "cell_type": "markdown",
      "source": [
        "まるで先ほどまでとは異なる関数形になりました。\n",
        "制御Zゲートは|11>だけに傷をつけるという作用がありました。\n",
        "その効果が出ているのでしょうかね。\n",
        "\n",
        "これを繰り返すだけでも多少は複雑な関数になるかもしれませんね。"
      ],
      "metadata": {
        "id": "Ko33x1i4hekv"
      }
    },
    {
      "cell_type": "code",
      "source": [
        "y_series = []\n",
        "\n",
        "depth = 3\n",
        "params = np.random.rand(3*depth*n)\n",
        "\n",
        "u_ent = U_ent(n)\n",
        "\n",
        "for x in x_series:\n",
        "  qc = QCLinput(x,n)\n",
        "  q = cirq.LineQubit.range(n)\n",
        "  for d in range(depth):\n",
        "    qc.append(u_ent.on(*q))\n",
        "    u_rot = U_rot(n,params[d*3*n:(d+1)*3*n])\n",
        "    qc.append(u_rot.on(*q))\n",
        "  y = mag_exp(qc,n)\n",
        "  y_series.append(y)"
      ],
      "metadata": {
        "id": "-myrNNGS_rSz"
      },
      "execution_count": null,
      "outputs": []
    },
    {
      "cell_type": "code",
      "source": [
        "plt.plot(x_series,y_series)\n",
        "plt.show()"
      ],
      "metadata": {
        "id": "MRtx6BZtDTLY"
      },
      "execution_count": null,
      "outputs": []
    },
    {
      "cell_type": "markdown",
      "source": [
        "また形が変わりましたね。"
      ],
      "metadata": {
        "id": "OztrKEjIDY2K"
      }
    },
    {
      "cell_type": "markdown",
      "source": [
        "ただこれは出鱈目にパラメータを割り振った結果であり、そして何に合わせるべきかも指定していないものでした。\n",
        "機械学習では、データが事前に与えられて、それに沿った関数の形を推定することを目標としています。\n",
        "というわけで、データを用意してみましょう。"
      ],
      "metadata": {
        "id": "r-JR_0JCECy-"
      }
    },
    {
      "cell_type": "code",
      "source": [
        "ntrain = 10\n",
        "func = lambda x: 0.5*x**3\n",
        "xtrain = 2*np.random.rand(ntrain)-1\n",
        "ytrain = func(xtrain)"
      ],
      "metadata": {
        "id": "oS4dT42cDX8X"
      },
      "execution_count": null,
      "outputs": []
    },
    {
      "cell_type": "code",
      "source": [
        "plt.scatter(xtrain,ytrain)"
      ],
      "metadata": {
        "id": "RycQjjZSFRNm"
      },
      "execution_count": null,
      "outputs": []
    },
    {
      "cell_type": "markdown",
      "source": [
        "このような断片的な情報から元になっている関数の形（今の場合はfunc）を推定するということを目指します。"
      ],
      "metadata": {
        "id": "QeIcwxDxFWpN"
      }
    },
    {
      "cell_type": "markdown",
      "source": [
        "出鱈目なパラメータを動かして、もらったデータに合わせていくということを目指します。\n",
        "そのためデータと量子回路が弾き出してきた結果が、どれだけ異なるかを明らかにする必要があります。"
      ],
      "metadata": {
        "id": "4Kvx5vLpGJ2X"
      }
    },
    {
      "cell_type": "code",
      "source": [
        "def cost_func(params):\n",
        "    u_ent = U_ent(n)\n",
        "    cost_total = 0\n",
        "    for k in range(ntrain):\n",
        "      qc = QCLinput(xtrain[k],n)\n",
        "      q = cirq.LineQubit.range(n)\n",
        "      for d in range(depth):\n",
        "        qc.append(u_ent.on(*q))\n",
        "        u_rot = U_rot(n,params[d*3*n:(d+1)*3*n])\n",
        "        qc.append(u_rot.on(*q))\n",
        "      y = mag_exp(qc,n)\n",
        "\n",
        "      #データと量子回路の出力結果のズレを計算\n",
        "      cost = 0.5*(ytrain[k] - y)**2\n",
        "      cost_total += cost\n",
        "\n",
        "    #訓練データの個数で割り算することで平均誤差を計算\n",
        "    cost_total = cost_total/ntrain\n",
        "\n",
        "    return cost_total"
      ],
      "metadata": {
        "id": "_7H2NAbUFTD2"
      },
      "execution_count": null,
      "outputs": []
    },
    {
      "cell_type": "markdown",
      "source": [
        "このコスト関数をパラメータを変化させて、できるだけ小さくなるように「最適化」をすることで、\n",
        "できるだけデータに合わせるというわけです。\n",
        "やってみましょう。"
      ],
      "metadata": {
        "id": "YWRn6UNGHCHT"
      }
    },
    {
      "cell_type": "code",
      "source": [
        "#warningが多発する場合に抑制するコマンド\n",
        "import warnings\n",
        "warnings.filterwarnings('ignore')"
      ],
      "metadata": {
        "id": "pDKHhQTYW6d_"
      },
      "execution_count": null,
      "outputs": []
    },
    {
      "cell_type": "code",
      "source": [
        "from scipy.optimize import minimize\n",
        "result = minimize(cost_func, params, method=\"COBYLA\", options={\"maxiter\": 100})"
      ],
      "metadata": {
        "id": "YEbgKIJyqqZC"
      },
      "execution_count": null,
      "outputs": []
    },
    {
      "cell_type": "markdown",
      "source": [
        "どれだけの近づき方をしているのかをみたいときは、result.funです。"
      ],
      "metadata": {
        "id": "gZx9nWV3IEnm"
      }
    },
    {
      "cell_type": "code",
      "source": [
        "result.fun"
      ],
      "metadata": {
        "id": "iaum8pr5HpP9"
      },
      "execution_count": null,
      "outputs": []
    },
    {
      "cell_type": "markdown",
      "source": [
        "結果を取り出すためには、result.xとうちます。"
      ],
      "metadata": {
        "id": "QuJYYgYGM9qn"
      }
    },
    {
      "cell_type": "code",
      "source": [
        "result.x"
      ],
      "metadata": {
        "id": "Gy8pdqvCH6ej"
      },
      "execution_count": null,
      "outputs": []
    },
    {
      "cell_type": "markdown",
      "source": [
        "これが指定された回数（maxiter）だけ最適化を試みた結果、得られたパラメータのセットです。"
      ],
      "metadata": {
        "id": "4yLtfrJBIH6V"
      }
    },
    {
      "cell_type": "markdown",
      "source": [
        "この結果を用いてグラフをプロットしてみましょう。"
      ],
      "metadata": {
        "id": "46ca5j_KMeWo"
      }
    },
    {
      "cell_type": "code",
      "source": [
        "y_series = []\n",
        "params = result.x\n",
        "u_ent = U_ent(n)\n",
        "for x in x_series:\n",
        "  qc = QCLinput(x,n)\n",
        "  q = cirq.LineQubit.range(n)\n",
        "  for d in range(depth):\n",
        "    qc.append(u_ent.on(*q))\n",
        "    u_rot = U_rot(n,params[d*3*n:(d+1)*3*n])\n",
        "    qc.append(u_rot.on(*q))\n",
        "  y = mag_exp(qc,n)\n",
        "  y_series.append(y)"
      ],
      "metadata": {
        "id": "qRwiU9FjHcV6"
      },
      "execution_count": null,
      "outputs": []
    },
    {
      "cell_type": "markdown",
      "source": [
        "データも重ね書きして、元にしている関数もせっかくなので重ねて書いてみましょう。"
      ],
      "metadata": {
        "id": "ZvkyxgwJMmz8"
      }
    },
    {
      "cell_type": "code",
      "source": [
        "y_correct = func(x_series)"
      ],
      "metadata": {
        "id": "ud7YNjUTM1on"
      },
      "execution_count": null,
      "outputs": []
    },
    {
      "cell_type": "code",
      "source": [
        "plt.scatter(xtrain,ytrain)\n",
        "plt.plot(x_series,y_correct)\n",
        "plt.plot(x_series,y_series)\n",
        "plt.show()"
      ],
      "metadata": {
        "id": "Ow3FEJ3zMkE6"
      },
      "execution_count": null,
      "outputs": []
    },
    {
      "cell_type": "markdown",
      "source": [
        "いかがでしょうか。\n",
        "うまく合わせられましたか？"
      ],
      "metadata": {
        "id": "0wSq4xxfOjtc"
      }
    },
    {
      "cell_type": "markdown",
      "source": [
        "このようにしてできた深い方向への量子回路を関数として残しておきましょう。"
      ],
      "metadata": {
        "id": "KsNjZ38nR02t"
      }
    },
    {
      "cell_type": "code",
      "source": [
        "def forward(x,n,depth,params):\n",
        "    qc = QCLinput(x,n)\n",
        "    q = cirq.LineQubit.range(n)\n",
        "    u_ent = U_ent(n)\n",
        "    for d in range(depth):\n",
        "      qc.append(u_ent.on(*q))\n",
        "      u_rot = U_rot(n,params[d*3*n:(d+1)*3*n])\n",
        "      qc.append(u_rot.on(*q))\n",
        "    y = mag_exp(qc,n)\n",
        "    return y"
      ],
      "metadata": {
        "id": "2yxiKxfbR6T1"
      },
      "execution_count": null,
      "outputs": []
    },
    {
      "cell_type": "markdown",
      "source": [
        "ちなみに機械学習でデータに合わせるために必要なのは、\n",
        "いかにして非自明な動きをするか、その非自明な動きを統合するのか、ということに尽きます。\n",
        "ここまでで制御Zゲートと回転だけを利用しましたので、簡単なものです。\n",
        "ここで複雑なものにしていくために、試しに先ほどのイジング模型の量子シミュレーションを利用してみましょう。"
      ],
      "metadata": {
        "id": "opgXQ08CtA3a"
      }
    },
    {
      "cell_type": "code",
      "source": [
        "#横磁場の大きさ\n",
        "theta_x = np.random.randn(n)\n",
        "#相互作用の大きさ\n",
        "theta_z = np.random.randn(n)\n",
        "\n",
        "def cost_func2(params):\n",
        "    UIsing = Ising_dynamics(n, theta_z, theta_x)\n",
        "\n",
        "    cost_total = 0\n",
        "    for k in range(ntrain):\n",
        "      qc = QCLinput(xtrain[k],n)\n",
        "      q = cirq.LineQubit.range(n)\n",
        "      for d in range(depth):\n",
        "        qc.append(UIsing.on(*q))\n",
        "        u_rot = U_rot(n,params[d*3*n:(d+1)*3*n])\n",
        "        qc.append(u_rot.on(*q))\n",
        "      y = mag_exp(qc,n)\n",
        "\n",
        "      #データと量子回路の出力結果のズレを計算\n",
        "      cost = 0.5*(ytrain[k] - y)**2\n",
        "      cost_total += cost\n",
        "\n",
        "    #訓練データの個数で割り算することで平均誤差を計算\n",
        "    cost_total = cost_total/ntrain\n",
        "\n",
        "    return cost_total"
      ],
      "metadata": {
        "id": "-Eup4ddwxo9f"
      },
      "execution_count": null,
      "outputs": []
    },
    {
      "cell_type": "code",
      "source": [
        "params = np.random.rand(3*depth*n)*2*np.pi\n",
        "result = minimize(cost_func2, params, method=\"COBYLA\", options={\"maxiter\": 100})"
      ],
      "metadata": {
        "id": "d8khog_Py86C"
      },
      "execution_count": null,
      "outputs": []
    },
    {
      "cell_type": "markdown",
      "source": [
        "同じようにどれだけ近づくことができたのかを見るにはresult.fun"
      ],
      "metadata": {
        "id": "M6hsVrcqNBq4"
      }
    },
    {
      "cell_type": "code",
      "source": [
        "result.fun"
      ],
      "metadata": {
        "id": "c5IdBi2fM1fI"
      },
      "execution_count": null,
      "outputs": []
    },
    {
      "cell_type": "markdown",
      "source": [
        "結果として得られたパラメータを見るにはresult.xですね。"
      ],
      "metadata": {
        "id": "kuIRUIQZNGde"
      }
    },
    {
      "cell_type": "code",
      "source": [
        "result.x"
      ],
      "metadata": {
        "id": "EqdE4FFNM1A2"
      },
      "execution_count": null,
      "outputs": []
    },
    {
      "cell_type": "markdown",
      "source": [
        "もう少し最適化を繰り返したいという場合には、result.xを初期解として続けてみましょう。"
      ],
      "metadata": {
        "id": "7QB9yUhjNqDn"
      }
    },
    {
      "cell_type": "code",
      "source": [
        "#result = minimize(cost_func2, result.x, method=\"COBYLA\", options={\"maxiter\": 100})"
      ],
      "metadata": {
        "id": "aVok7j-KNwjQ"
      },
      "execution_count": null,
      "outputs": []
    },
    {
      "cell_type": "markdown",
      "source": [
        "この結果とデータを比較してみましょう。"
      ],
      "metadata": {
        "id": "yyyyDcNczW7a"
      }
    },
    {
      "cell_type": "code",
      "source": [
        "y_series = []\n",
        "params = result.x\n",
        "\n",
        "UIsing = Ising_dynamics(n, theta_z, theta_x)\n",
        "\n",
        "for x in x_series:\n",
        "  qc = QCLinput(x,n)\n",
        "  q = cirq.LineQubit.range(n)\n",
        "  for d in range(depth):\n",
        "    qc.append(UIsing.on(*q))\n",
        "    u_rot = U_rot(n,params[d*3*n:(d+1)*3*n])\n",
        "    qc.append(u_rot.on(*q))\n",
        "  y = mag_exp(qc,n)\n",
        "  y_series.append(y)"
      ],
      "metadata": {
        "id": "fugyrGoOzU_F"
      },
      "execution_count": null,
      "outputs": []
    },
    {
      "cell_type": "code",
      "source": [
        "plt.scatter(xtrain,ytrain)\n",
        "plt.plot(x_series,y_correct)\n",
        "plt.plot(x_series,y_series)\n",
        "plt.show()"
      ],
      "metadata": {
        "id": "SyetMZdOziES"
      },
      "execution_count": null,
      "outputs": []
    },
    {
      "cell_type": "markdown",
      "source": [
        "ただここでの方法（COBYLA、他にもNelder-Mead、Powellなどでも最適化可能）は勾配を利用しない最適化方法で適切とは言えません。\n",
        "やはり深層学習と同じく勾配を利用して、効率的に計算を進める方が確実でしょう。"
      ],
      "metadata": {
        "id": "9jbni-L6-15T"
      }
    },
    {
      "cell_type": "markdown",
      "source": [
        "パラメータを少しずらして微分をすることで勾配を計算するのが機械学習での通常のやり方ですが、\n",
        "量子回路の場合には、回転させる角度など、利用するパラメータとそのパラメータを持つ量子回路の特徴を利用すると、$\\pi/2$ずらしたものと$-\\pi/2$ずらしたものを引き算すれば微分の計算と同じ結果を計算することができます。"
      ],
      "metadata": {
        "id": "MhZxu6YeSG3z"
      }
    },
    {
      "cell_type": "markdown",
      "source": [
        "ただし微分のためには、現在のパラメータにおける量子回路、パラメータをシフトをした量子回路による計算結果を必要とするため、非常に計算量的に重い計算を何度も行う必要があります。"
      ],
      "metadata": {
        "id": "QO4nORhjqNt5"
      }
    },
    {
      "cell_type": "code",
      "source": [
        "def calc_grad(n,depth,xtrain,ytrain,params):    \n",
        "  grad = np.zeros_like(params)\n",
        "  cost_data = np.zeros(ntrain)\n",
        "  shifted = params.copy()\n",
        "    \n",
        "  for k in range(ntrain):\n",
        "    x = xtrain[k]\n",
        "    y = forward(x,n,depth,params)\n",
        "    cost_data[k] = - (ytrain[k] - y)\n",
        "    \n",
        "    for i in range(len(params)):\n",
        "      shifted[i] += np.pi/2\n",
        "      y1 = forward(x,n,depth,shifted)    \n",
        "      shifted[i] -= np.pi\n",
        "      y2 = forward(x,n,depth,shifted)    \n",
        "      gradient = 0.5 * (y1-y2)\n",
        "      grad[i] += cost_data[k]*gradient/ntrain\n",
        "      shifted[i] += np.pi/2\n",
        "\n",
        "  return grad, cost_data"
      ],
      "metadata": {
        "id": "v8YkntUCSGaH"
      },
      "execution_count": null,
      "outputs": []
    },
    {
      "cell_type": "code",
      "source": [
        "params = np.random.rand(3*depth*n)*2*np.pi\n",
        "\n",
        "eta = 1.0\n",
        "Tall = 20\n",
        "cost_series = []"
      ],
      "metadata": {
        "id": "csHoSyKZrFdY"
      },
      "execution_count": null,
      "outputs": []
    },
    {
      "cell_type": "code",
      "source": [
        "for t in range(Tall):\n",
        "  grad, cost_data = calc_grad(n,depth,xtrain,ytrain,params)\n",
        "  \n",
        "  cost = np.sum(cost_data**2)/len(cost_data)\n",
        "  cost_series.append(cost)\n",
        "  \n",
        "  params = params - eta*grad"
      ],
      "metadata": {
        "id": "XZjJe_uALwXe"
      },
      "execution_count": null,
      "outputs": []
    },
    {
      "cell_type": "code",
      "source": [
        "plt.plot(cost_series)\n",
        "plt.show()"
      ],
      "metadata": {
        "id": "SnmSqb_ua4Ct"
      },
      "execution_count": null,
      "outputs": []
    },
    {
      "cell_type": "code",
      "source": [
        "y_series = []\n",
        "\n",
        "for x in x_series:\n",
        "  y = forward(x,n,depth,params)\n",
        "  y_series.append(y)"
      ],
      "metadata": {
        "id": "RXSwkklqiDgt"
      },
      "execution_count": null,
      "outputs": []
    },
    {
      "cell_type": "code",
      "source": [
        "plt.scatter(xtrain,ytrain)\n",
        "plt.plot(x_series,y_correct)\n",
        "plt.plot(x_series,y_series)\n",
        "plt.show()"
      ],
      "metadata": {
        "id": "ttXKXosUiHzh"
      },
      "execution_count": null,
      "outputs": []
    }
  ]
}