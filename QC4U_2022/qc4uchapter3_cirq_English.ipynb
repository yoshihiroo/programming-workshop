{
  "nbformat": 4,
  "nbformat_minor": 0,
  "metadata": {
    "colab": {
      "private_outputs": true,
      "provenance": [],
      "collapsed_sections": [],
      "include_colab_link": true
    },
    "kernelspec": {
      "name": "python3",
      "display_name": "Python 3"
    },
    "language_info": {
      "name": "python"
    }
  },
  "cells": [
    {
      "cell_type": "markdown",
      "metadata": {
        "id": "view-in-github",
        "colab_type": "text"
      },
      "source": [
        "<a href=\"https://colab.research.google.com/github/yoshihiroo/programming-workshop/blob/master/QC4U_2022/qc4uchapter3_cirq_English.ipynb\" target=\"_parent\"><img src=\"https://colab.research.google.com/assets/colab-badge.svg\" alt=\"Open In Colab\"/></a>"
      ]
    },
    {
      "cell_type": "markdown",
      "source": [
        "# QC4U Day3 Cirq porting\n",
        "2022.10.15 updated."
      ],
      "metadata": {
        "id": "PymmMT7QUzPh"
      }
    },
    {
      "cell_type": "markdown",
      "source": [
        "This is an attempt to porting of the [QC4U](https://altema.is.tohoku.ac.jp/QC4U/) code written by Prof. Ohzeki of Tohoku University into Cirq for my recap and understanding. I am stealing with pride the almost all text of the explanation from the original site. (The article has been published with Prof. Ohzeki's permission.)\n",
        "\n",
        "[The original code of Day 3](https://colab.research.google.com/gist/mohzeki222/03914646f0c7fb8bc4826cddbd44ac23/qc4uchapter3.ipynb)"
      ],
      "metadata": {
        "id": "aYypnou7U7hX"
      }
    },
    {
      "cell_type": "markdown",
      "source": [
        "# Installing Cirq\n",
        "\n",
        "Let's continue to use Cirq provided by Google as before."
      ],
      "metadata": {
        "id": "yoYNDMRnnWr8"
      }
    },
    {
      "cell_type": "code",
      "source": [
        "pip install cirq"
      ],
      "metadata": {
        "id": "2jMYymbRmK0C"
      },
      "execution_count": null,
      "outputs": []
    },
    {
      "cell_type": "markdown",
      "source": [
        "In this time, we will introduce machine learning using quantum computers."
      ],
      "metadata": {
        "id": "jnWk7GsFv0rF"
      }
    },
    {
      "cell_type": "code",
      "execution_count": null,
      "metadata": {
        "id": "FgZN8RH3jfGL"
      },
      "outputs": [],
      "source": [
        "import cirq"
      ]
    },
    {
      "cell_type": "markdown",
      "source": [
        "### Recap\n",
        "\n",
        "So far we have learned H, X, Z, and the control Z-gate.\n",
        "Each of them is characterized by H = superposition, X = inversion, and Z = scratch (negative sign for only |1>).\n",
        "And the control Z gate was to scratch only|11>.\n",
        "Once again, I think that Z is great for scratching probability amplitudes.\n",
        "Let's look again at Z acting on two qubits.\n",
        "To see what kind of changes we can make at once here, let's apply Adamar first.\n",
        "\n",
        "Translated with www.DeepL.com/Translator (free version)"
      ],
      "metadata": {
        "id": "e0LMTLRcHjhI"
      }
    },
    {
      "cell_type": "code",
      "source": [
        "qc = cirq.Circuit()\n",
        "q = cirq.LineQubit.range(2)\n",
        "\n",
        "qc.append(cirq.H.on_each(q))\n",
        "qc.append(cirq.Z(q[0]))\n",
        "\n",
        "sim = cirq.Simulator()\n",
        "res = sim.simulate(qc)"
      ],
      "metadata": {
        "id": "ONR7Ni44S20p"
      },
      "execution_count": null,
      "outputs": []
    },
    {
      "cell_type": "markdown",
      "source": [
        "If you want to see what the circuit looks like, run print(qc)."
      ],
      "metadata": {
        "id": "EnrkjYK9S6LC"
      }
    },
    {
      "cell_type": "code",
      "source": [
        "print(qc)"
      ],
      "metadata": {
        "id": "LG-TtRxrTHNX"
      },
      "execution_count": null,
      "outputs": []
    },
    {
      "cell_type": "code",
      "source": [
        "print(res.final_state_vector.round(5))"
      ],
      "metadata": {
        "id": "AvPm8CiyS_5z"
      },
      "execution_count": null,
      "outputs": []
    },
    {
      "cell_type": "markdown",
      "source": [
        "As you can see in this result, only the coefficients are negative for the |10> and |11>.\n",
        "This means that the left side (the first qubit) is hurting the two ones with 1."
      ],
      "metadata": {
        "id": "i97WWnLcTTQp"
      }
    },
    {
      "cell_type": "markdown",
      "source": [
        "Conversely, if we apply a Z-gate, we know that the right side (the second qubit) will hurt two 1's.\n",
        "Contrast this with a control Z-gate, which is the difference between hurting only one and hurting two."
      ],
      "metadata": {
        "id": "EHMfteXUTc7S"
      }
    },
    {
      "cell_type": "markdown",
      "source": [
        "\n",
        "Now the new gate we will learn about today is the control X-gate.\n",
        "Let's first examine how it works.\n",
        "It doesn't make sense to have the control qubit at |0>, so we'll leave it at |1>.\n",
        "To do so, we can either implement it in initialization or multiply it by X in advance."
      ],
      "metadata": {
        "id": "Rtc88EBbStC9"
      }
    },
    {
      "cell_type": "code",
      "source": [
        "qc2 = cirq.Circuit()\n",
        "q = cirq.LineQubit.range(2)\n",
        "\n",
        "qc2.append(cirq.X(q[0]))\n",
        "qc2.append(cirq.CNOT(q[0], q[1]))"
      ],
      "metadata": {
        "id": "Rc8ReIUvHtJw"
      },
      "execution_count": null,
      "outputs": []
    },
    {
      "cell_type": "markdown",
      "source": [
        "If you want to see what the circuit looks like, run print or SVGCircuit."
      ],
      "metadata": {
        "id": "OD0GLVArQ19e"
      }
    },
    {
      "cell_type": "code",
      "source": [
        "#print(qc2)\n",
        "from cirq.contrib.svg import SVGCircuit\n",
        "SVGCircuit(qc2)"
      ],
      "metadata": {
        "id": "zZskecGUQ5H4"
      },
      "execution_count": null,
      "outputs": []
    },
    {
      "cell_type": "markdown",
      "source": [
        "Let's try a quick simulation and see what results we get."
      ],
      "metadata": {
        "id": "c1phAuqbKe2d"
      }
    },
    {
      "cell_type": "markdown",
      "source": [
        "Since you will be running the simulation many times, it is a good idea to consolidate the parts of the simulation that run the simulation with your own functions."
      ],
      "metadata": {
        "id": "UgME-yyQydJi"
      }
    },
    {
      "cell_type": "code",
      "source": [
        "import numpy as np\n",
        "def sim_state(qc,disp=True):\n",
        "  res = sim.simulate(qc)\n",
        "  if disp == True:\n",
        "    print(cirq.dirac_notation(np.array(res.final_state_vector)))\n",
        "  return res"
      ],
      "metadata": {
        "id": "jzkQ9oEfykUA"
      },
      "execution_count": null,
      "outputs": []
    },
    {
      "cell_type": "markdown",
      "source": [
        "This function has an optional variable called disp.\n",
        "If nothing is entered, the function outputs a state vector in ket display."
      ],
      "metadata": {
        "id": "DFYV-O6Qyvos"
      }
    },
    {
      "cell_type": "code",
      "source": [
        "state = sim_state(qc2)"
      ],
      "metadata": {
        "id": "Yd8QFs5vKN41"
      },
      "execution_count": null,
      "outputs": []
    },
    {
      "cell_type": "markdown",
      "source": [
        "Type disp = False to turn off the display."
      ],
      "metadata": {
        "id": "NfXup5HdzBcy"
      }
    },
    {
      "cell_type": "code",
      "source": [
        "state = sim_state(qc2, disp = False)"
      ],
      "metadata": {
        "id": "ehlV197nzFmO"
      },
      "execution_count": null,
      "outputs": []
    },
    {
      "cell_type": "markdown",
      "source": [
        "Now, if you look at the result, you can see how the |10> has turned into a |11>.\n",
        "In other words, if the control qubit is a|1>, we do an inversion.\n",
        "When you input the|11>, it becomes|10>."
      ],
      "metadata": {
        "id": "rR7j-sMbQvHW"
      }
    },
    {
      "cell_type": "markdown",
      "source": [
        "In other words.  \n",
        "|00> -> |00>,  \n",
        "|01> -> |01>,  \n",
        "|10> -> |11>,  \n",
        "|11> -> |10>,  \n",
        "\n",
        "and so on, the bottom two states are swapped."
      ],
      "metadata": {
        "id": "Ft6Bp1v3Ra8N"
      }
    },
    {
      "cell_type": "markdown",
      "source": [
        "This can be used to change the action of the Z gate that scratches the two.\n",
        "To try it out, we will sandwich the Z-gate with a control X-gate.\n",
        "\n",
        "To compare how it will act at once, we will implement the Adamar circuit first."
      ],
      "metadata": {
        "id": "rbrrm_D4YBOK"
      }
    },
    {
      "cell_type": "code",
      "source": [
        "qc3 = cirq.Circuit()\n",
        "q = cirq.LineQubit.range(2)\n",
        "\n",
        "qc3.append(cirq.H.on_each(q))\n",
        "\n",
        "qc3.append(cirq.CNOT(q[0], q[1]))\n",
        "qc3.append(cirq.Z(q[1]))\n",
        "qc3.append(cirq.CNOT(q[0], q[1]))"
      ],
      "metadata": {
        "id": "61QaKMRwYdv7"
      },
      "execution_count": null,
      "outputs": []
    },
    {
      "cell_type": "markdown",
      "source": [
        "Let's take a look at the circuit."
      ],
      "metadata": {
        "id": "D6SOrin_YtKI"
      }
    },
    {
      "cell_type": "code",
      "source": [
        "SVGCircuit(qc3)"
      ],
      "metadata": {
        "id": "uCpAUnHdYvO-"
      },
      "execution_count": null,
      "outputs": []
    },
    {
      "cell_type": "markdown",
      "source": [
        "Now how will this work? Let's look at the results as we make our predictions.\n"
      ],
      "metadata": {
        "id": "z_lJJLU6bhDq"
      }
    },
    {
      "cell_type": "code",
      "source": [
        "state = sim_state(qc3)"
      ],
      "metadata": {
        "id": "-Byos9pQbnFL"
      },
      "execution_count": null,
      "outputs": []
    },
    {
      "cell_type": "markdown",
      "source": [
        "Only the|01> or|10> are scratched, while the rest of the numbers|00> and|11> are left untouched.\n",
        "This can be said to determine whether the number of 1's is odd or even.\n",
        "The number relationship between two qubits determines the result, so we say they are interrelated or interacting with each other."
      ],
      "metadata": {
        "id": "rVO2sXGabxDW"
      }
    },
    {
      "cell_type": "markdown",
      "source": [
        "This is important describing the Ising model, which also appears in the field of quantum computing.\n",
        "The Z-gate was to rotate 180 degrees around the Z-axis.\n",
        "Let's instead use a rotating gate that does not rotate up to 180 degrees around the Z-axis, but allows for fine tuning."
      ],
      "metadata": {
        "id": "fSTRW5YedF9H"
      }
    },
    {
      "cell_type": "code",
      "source": [
        "theta = 0.5\n",
        "\n",
        "qc4 = cirq.Circuit()\n",
        "q = cirq.LineQubit.range(2)\n",
        "\n",
        "qc4.append(cirq.H.on_each(q))\n",
        "\n",
        "qc4.append(cirq.CNOT(q[0], q[1]))\n",
        "qc4.append(cirq.rz(theta).on(q[1]))\n",
        "qc4.append(cirq.CNOT(q[0], q[1]))"
      ],
      "metadata": {
        "id": "jupS75qddxRG"
      },
      "execution_count": null,
      "outputs": []
    },
    {
      "cell_type": "markdown",
      "source": [
        "Let's take a look at the circuit."
      ],
      "metadata": {
        "id": "KLv8hlQ-fp0M"
      }
    },
    {
      "cell_type": "code",
      "source": [
        "SVGCircuit(qc4)"
      ],
      "metadata": {
        "id": "yNhILRfQfsr1"
      },
      "execution_count": null,
      "outputs": []
    },
    {
      "cell_type": "markdown",
      "source": [
        "There are others rx,ry,rz, which can be used with rz (angle, specifying the qubit).\n",
        "Let's take a quick look at the results."
      ],
      "metadata": {
        "id": "6ar2h1gGeCzB"
      }
    },
    {
      "cell_type": "code",
      "source": [
        "state = sim_state(qc4)"
      ],
      "metadata": {
        "id": "SHGa-3plgovD"
      },
      "execution_count": null,
      "outputs": []
    },
    {
      "cell_type": "markdown",
      "source": [
        "The same coefficients are applied to|00> and|11>, and\n",
        "The same coefficients are applied differently (though complex conjugate) to|01> and|10>.\n",
        "The fact remains that the action changes depending on whether the number of 1's is even or odd.\n",
        "As the angle is increased as the degree of interaction, the two states are separated.\n",
        "However, since the angle is of course a $2\\pi$ period, they will repeatedly move closer and farther apart.\n",
        "\n",
        "As I mentioned earlier, let's assume that the spin of a qubit is upward for the |0> state and downward for the |1> state, and let's assume that the spin of the qubit is downward for the |0> state and downward for the |1> state.\n",
        "This can be represented by the Ising model, which is known as the model of a magnetic body (magnet).\n",
        "In this way, a quantum computer can simulate what is happening inside a material and investigate its behavior."
      ],
      "metadata": {
        "id": "07yFsvIfg1eY"
      }
    },
    {
      "cell_type": "markdown",
      "source": [
        "When simulating what is happening in such matter, it becomes necessary to compare the results with the results of actual experiments.\n",
        "Quantum mechanics determines what values such physical quantities will have, and quantum mechanics determines what will happen probabilistically.\n",
        "Reflecting this, what predicts the result of a measurement is an expected value.\n",
        "We will now show you how to calculate the expected value from the quantum state vector obtained as a result of the simulation."
      ],
      "metadata": {
        "id": "CEmIhRycn69e"
      }
    },
    {
      "cell_type": "code",
      "source": [
        "obs = [cirq.Z(q[0]), cirq.Z(q[1])]\n",
        "y = sum(sim.simulate_expectation_values(qc, observables=obs))\n",
        "print(y)"
      ],
      "metadata": {
        "id": "-6F8lNepon9I"
      },
      "execution_count": null,
      "outputs": []
    },
    {
      "cell_type": "markdown",
      "source": [
        "The expected value is the predicted average value obtained by performing this experiment many times.\n",
        "Starting from the superposition state, the spin orientation changes according to the dynamics of the Ising model for a little bit, but it was only for a short time, so the change is not very significant."
      ],
      "metadata": {
        "id": "whhXFoLppwJx"
      }
    },
    {
      "cell_type": "markdown",
      "source": [
        "### Quantum Simulation\n",
        "\n",
        "The Ising model is represented by a controlled X-gate and a Z-rotation gate.\n",
        "It simulates the interaction between qubits or between spins.\n",
        "In addition, an X-rotation gate, sometimes called a transverse magnetic field, can be applied to each qubit to mimic what is happening in a quantum annealing machine.\n",
        "\n",
        "The angle of rotation corresponds to its simulation time.\n",
        "However, if the rotation is done all at once, the accuracy of the simulation will suffer.\n",
        "Therefore, it is necessary to apply it little by little.\n",
        "This method of simulation by rotating the machine little by little is called Suzuki Trotter decomposition.\n",
        "\n",
        "Let us now prepare a quantum circuit that simulates what is done in the transverse magnetic field Ising model for a short period of time."
      ],
      "metadata": {
        "id": "TO71YkiTikp2"
      }
    },
    {
      "cell_type": "code",
      "source": [
        "class Ising_dynamics(cirq.Gate):\n",
        "\n",
        "  def __init__(self, n, theta_z, theta_x):\n",
        "    self.n = n\n",
        "    #theta_xはnumpy array\n",
        "    #theta_zもnumpy array\n",
        "    self.theta_z = theta_z\n",
        "    self.theta_x = theta_x\n",
        "\n",
        "  def _num_qubits_(self):\n",
        "    return self.n\n",
        "\n",
        "  def _decompose_(self, qubits):\n",
        "    q = qubits\n",
        " \n",
        "    for k in range(self.n):\n",
        "      yield cirq.rx(self.theta_x[k]).on(q[k])\n",
        "    \n",
        "    if self.n > 1:\n",
        "      for k in range(self.n-1):\n",
        "        yield cirq.CNOT(q[k],q[k+1])\n",
        "        yield cirq.rz(self.theta_z[k+1]).on(q[k+1])\n",
        "        yield cirq.CNOT(q[k],q[k+1])\n",
        "      yield cirq.CNOT(q[self.n-1],q[0])\n",
        "      yield cirq.rz(self.theta_z[0]).on(q[0])\n",
        "      yield cirq.CNOT(q[self.n-1],q[0])\n",
        "\n",
        "  def _circuit_diagram_info_(self, args):\n",
        "    return [\"UIsing\"] * self.num_qubits()"
      ],
      "metadata": {
        "id": "OqZrk3Hni_Xs"
      },
      "execution_count": null,
      "outputs": []
    },
    {
      "cell_type": "markdown",
      "source": [
        "Next, we want to find out how many qubits or spins are aligned as a result of the quantum simulation.\n",
        "We will prepare a function to calculate the expectation value for this purpose.\n",
        "For future reference, we have made it possible to give various rotation angles for each qubit.\n",
        "Let's actually use this to run a quantum simulation of the transverse magnetic field Ising model.\n",
        "From the results obtained, we should be able to see the results for the measured expectation value of the spin in the Z direction."
      ],
      "metadata": {
        "id": "N4YqRXngTwdS"
      }
    },
    {
      "cell_type": "code",
      "source": [
        "def mag_exp(qc,n):\n",
        "  obs = [cirq.Z(q[i]) for i in range(n)]\n",
        "  y = np.mean(sim.simulate_expectation_values(qc, observables=obs))\n",
        "  return y"
      ],
      "metadata": {
        "id": "xT1CYfPtr1Bn"
      },
      "execution_count": null,
      "outputs": []
    },
    {
      "cell_type": "markdown",
      "source": [
        "Let's put together a quantum circuit that uses these to perform a quantum simulation."
      ],
      "metadata": {
        "id": "0C14gYA7VjC5"
      }
    },
    {
      "cell_type": "code",
      "source": [
        "n = 5\n",
        "#Number of steps\n",
        "Tall = 50\n",
        "#List to store intermediate progress\n",
        "m_series = []\n",
        "\n",
        "qc5 = cirq.Circuit()\n",
        "q = cirq.LineQubit.range(n)\n",
        "\n",
        "#Start with the super position\n",
        "#qc5.append(cirq.H.on_each(q))\n",
        "\n",
        "#Simulate in a short time period\n",
        "dt = 0.1\n",
        "#Transverse magnetic field magnitude\n",
        "theta_x = 5.0*np.ones(n)*dt\n",
        "#Magnitude of interaction\n",
        "theta_z = 3.0*np.ones(n)*dt\n",
        "\n",
        "UIsing = Ising_dynamics(n, theta_z, theta_x)\n",
        "for k in range(Tall):\n",
        "  qc5.append(UIsing.on(*q))\n",
        "  m = mag_exp(qc5,n)\n",
        "  m_series.append(m)\n"
      ],
      "metadata": {
        "id": "nc2-YD8fp_Fz"
      },
      "execution_count": null,
      "outputs": []
    },
    {
      "cell_type": "markdown",
      "source": [
        "Now, how does the magnetization (spin alignment: the average value of the spins) change as a result of the quantum simulation?"
      ],
      "metadata": {
        "id": "O8LPh3F7XObv"
      }
    },
    {
      "cell_type": "code",
      "source": [
        "import matplotlib.pyplot as plt\n",
        "plt.plot(m_series)\n",
        "plt.show()"
      ],
      "metadata": {
        "id": "6uEq2uypXacK"
      },
      "execution_count": null,
      "outputs": []
    },
    {
      "cell_type": "markdown",
      "source": [
        "You can see that the behavior is quite complex.\n",
        "It seems to start out all aligned and then gradually collapse, oscillating and repeatedly aligning and collapsing."
      ],
      "metadata": {
        "id": "WBLWROuYcqaG"
      }
    },
    {
      "cell_type": "markdown",
      "source": [
        "#### Using sympy\n",
        "By the way, just to introduce a little more, sympy is a convenient way to perform calculations with the display in the textbook."
      ],
      "metadata": {
        "id": "uqgRVrdjLXZ1"
      }
    },
    {
      "cell_type": "code",
      "source": [
        "from sympy.physics.quantum.qubit import Qubit\n",
        "q = Qubit(\"01\")\n",
        "print(q)"
      ],
      "metadata": {
        "id": "9_ouO7YoLdgS"
      },
      "execution_count": null,
      "outputs": []
    },
    {
      "cell_type": "markdown",
      "source": [
        "Such a ket display can be made into a vector display."
      ],
      "metadata": {
        "id": "G056nfQILmNt"
      }
    },
    {
      "cell_type": "code",
      "source": [
        "from sympy.physics.quantum.represent import represent\n",
        "represent(q)"
      ],
      "metadata": {
        "id": "eFCd7w8uLpa-"
      },
      "execution_count": null,
      "outputs": []
    },
    {
      "cell_type": "markdown",
      "source": [
        "np.array(represent(q)), which can be used as a numpy array (matrix)."
      ],
      "metadata": {
        "id": "lIV11i9LL9gc"
      }
    },
    {
      "cell_type": "markdown",
      "source": [
        "Conversely, it displays matrices (and vectors) represented as arrays in numpy as they are in ket vectors."
      ],
      "metadata": {
        "id": "oVsrPgMoMD90"
      }
    },
    {
      "cell_type": "code",
      "source": [
        "from sympy.physics.quantum.qubit import matrix_to_qubit\n",
        "matrix_to_qubit(represent(q))"
      ],
      "metadata": {
        "id": "-71r6R1LMDDf"
      },
      "execution_count": null,
      "outputs": []
    },
    {
      "cell_type": "markdown",
      "source": [
        "### Go to Quantum Machine Learning"
      ],
      "metadata": {
        "id": "NJt8OKiUMal0"
      }
    },
    {
      "cell_type": "markdown",
      "source": [
        "Now for today's main topic."
      ],
      "metadata": {
        "id": "cZiBCfyYMUl3"
      }
    },
    {
      "cell_type": "markdown",
      "source": [
        "In (supervised) machine learning, we have an output y for an input x, and the goal is to mimic a function f(x) that connects the two.\n",
        "For example, given an image of a cat as x, the idea is to create a function that gives y whether it is a cat or not.\n",
        "For example, if y=+1 to indicate that it is a cat and y=-1 to indicate that it is not a cat, we can imagine it as a nice function.\n",
        "But we don't know what kind of function it is.\n",
        "So we try to create a well-consistent function by combining functions of our choice and adjusting the way they are combined.\n",
        "Along the way, we will include an actual cat image to check if we have correctly identified the cat $y=\\pm 1$.\n",
        "If it is not done well, we change the elements involved in the combination.\n",
        "\n",
        "Let's use the quantum circuits that we are learning with you in this project for the part of preparing the function of your choice."
      ],
      "metadata": {
        "id": "DOFMxHlSj1EW"
      }
    },
    {
      "cell_type": "markdown",
      "source": [
        "Let's start by creating a simple circuit that allows a quantum circuit to input an image of a cat, such that the result changes depending on the input x.\n",
        "Since what a quantum circuit can do is basically \"rotation,\" we need to change the numerical value of the input into an angle of rotation; let's use trigonometric functions such as cos and sin. These trigonometric functions have angles from 0 to 360 degrees ($0$ to $2\\pi$ in the arc degree method) and their values vary from -1 to 1. Using this in reverse, they change the value of -1 to +1 from 0 to 360 degrees ($0$ to $2\\pi$ in the arc degree method).\n",
        "So it turns the input value into a rotation angle.\n",
        "Let's prepare a circuit to just turn it that way."
      ],
      "metadata": {
        "id": "8opLwCtQlJIg"
      }
    },
    {
      "cell_type": "code",
      "source": [
        "class U_in(cirq.Gate):\n",
        "  def __init__(self, x, n):\n",
        "    self.x = x\n",
        "    self.n = n\n",
        "\n",
        "  def _num_qubits_(self):\n",
        "    return self.n\n",
        "\n",
        "  def _decompose_(self, qubits):\n",
        "    q = qubits\n",
        "    angle = np.arcsin(self.x)\n",
        "    yield cirq.rx(angle).on_each(q)\n",
        "\n",
        "  def _circuit_diagram_info_(self, args):\n",
        "    return [\"U_in\"] * self.num_qubits()"
      ],
      "metadata": {
        "id": "gbXH-x6HlEGf"
      },
      "execution_count": null,
      "outputs": []
    },
    {
      "cell_type": "markdown",
      "source": [
        "Now let's look at how the probability of a quantum state arising as the input changes from -1 to +1 changes."
      ],
      "metadata": {
        "id": "_V38raX4uTc9"
      }
    },
    {
      "cell_type": "markdown",
      "source": [
        "First, let's make a program that gives an input x, generates a quantum circuit for it, even measures it, and calculates the probability of how many states of 0 will occur."
      ],
      "metadata": {
        "id": "NIIRHAlpwBEo"
      }
    },
    {
      "cell_type": "code",
      "source": [
        "def QCLinput(x,n):\n",
        "  qc = cirq.Circuit()\n",
        "  q = cirq.LineQubit.range(n)\n",
        "\n",
        "  u_in = U_in(x,n)\n",
        "  qc.append(u_in.on(*q))\n",
        "  \n",
        "  return qc"
      ],
      "metadata": {
        "id": "iA_ykqs2rHGY"
      },
      "execution_count": null,
      "outputs": []
    },
    {
      "cell_type": "markdown",
      "source": [
        "When this is done, a quantum circuit is created according to the input x.\n",
        "If you read the output from that quantum circuit, you will get some value output from the quantum state that is transformed according to the input.\n",
        "From the resulting quantum state, let's examine the alignment of the quantum bits and the alignment of the spins in the z-direction that we used in the quantum simulation earlier."
      ],
      "metadata": {
        "id": "MAaRaOVv2T78"
      }
    },
    {
      "cell_type": "code",
      "source": [
        "n = 3\n",
        "x = 0.1\n",
        "q = cirq.LineQubit.range(n)\n",
        "qc = QCLinput(x,n)\n",
        "y = mag_exp(qc,n)\n",
        "print(y)"
      ],
      "metadata": {
        "id": "8QCltTRy2pgA"
      },
      "execution_count": null,
      "outputs": []
    },
    {
      "cell_type": "markdown",
      "source": [
        "Now we have created a quantum circuit that produces an output y when x is input.\n",
        "Let's run this one after another and see how y changes when x is changed."
      ],
      "metadata": {
        "id": "29asNyjVv_fT"
      }
    },
    {
      "cell_type": "code",
      "source": [
        "import numpy as np\n",
        "\n",
        "x_series = np.linspace(-1,1,100)\n",
        "y_series = []\n",
        "\n",
        "for x in x_series:\n",
        "  qc = QCLinput(x,n)\n",
        "  y = mag_exp(qc,n)\n",
        "  y_series.append(y)"
      ],
      "metadata": {
        "id": "vleGWLCkrnPu"
      },
      "execution_count": null,
      "outputs": []
    },
    {
      "cell_type": "markdown",
      "source": [
        "Let's plot and view these results.\n",
        "To do this, we will use matplotlib from the python library."
      ],
      "metadata": {
        "id": "yjuADmjHwvSb"
      }
    },
    {
      "cell_type": "code",
      "source": [
        "import matplotlib.pyplot as plt\n",
        "plt.plot(x_series,y_series)\n",
        "plt.show()"
      ],
      "metadata": {
        "id": "Ushr1CRIwP-S"
      },
      "execution_count": null,
      "outputs": []
    },
    {
      "cell_type": "markdown",
      "source": [
        "We were able to create a beautiful semicircle. This is the result of using trigonometric functions.\n",
        "For the input x, the output y is a semicircle, which means that we have created a function below.\n",
        "\\begin{equation}\n",
        "y = \\sqrt{1-x^2}\n",
        "\\end{equation}\n",
        "\n",
        "This means that we have created a function that is a semi-circle.\n",
        "\n",
        "We need to be prepared to create other clever functions to account for the input x and output y in various data.\n",
        "\n",
        "In a quantum circuit, you can essentially rotate each qubit.\n",
        "Also, by linking the qubits together, the coefficients can be manipulated, as in Grover's algorithm.\n",
        "It seems possible to assign multiple qubits to a single input x to produce complex functions.\n",
        "\n"
      ],
      "metadata": {
        "id": "zlg-mt7215UJ"
      }
    },
    {
      "cell_type": "markdown",
      "source": [
        "First, given multiple qubits, prepare a quantum circuit that rotates each of them appropriately."
      ],
      "metadata": {
        "id": "8eYOYlAI4Wch"
      }
    },
    {
      "cell_type": "code",
      "source": [
        "class U_rot(cirq.Gate):\n",
        "  def __init__(self, n, params):\n",
        "    self.n = n\n",
        "    self.params = params\n",
        "\n",
        "  def _num_qubits_(self):\n",
        "    return self.n\n",
        "\n",
        "  def _decompose_(self, qubits):\n",
        "    q = qubits\n",
        "\n",
        "    for k in range(self.n):\n",
        "      yield cirq.rx(self.params[k]).on(q[k])\n",
        "      yield cirq.ry(self.params[self.n+k]).on(q[k])\n",
        "      yield cirq.rz(self.params[2*self.n+k]).on(q[k])\n",
        "\n",
        "  def _circuit_diagram_info_(self, args):\n",
        "    return [\"U_rot\"] * self.num_qubits()"
      ],
      "metadata": {
        "id": "BjEHGebaxAvk"
      },
      "execution_count": null,
      "outputs": []
    },
    {
      "cell_type": "markdown",
      "source": [
        "We have added the ability to manipulate the rotation angle in the form of params here.\n",
        "\n",
        "Now we can create various functions by adjusting the angle of rotation.\n",
        "We can now change the shape of the function by adjusting the angle."
      ],
      "metadata": {
        "id": "FnYeRj268HDh"
      }
    },
    {
      "cell_type": "markdown",
      "source": [
        "Just adding this will of course change the quantum state.\n",
        "Let's see what kind of change it can bring about.\n",
        "To get the output y, we need to compile the results from multiple qubits.\n",
        "To do this, let's use the method of calculating the expected value of magnetization used in the quantum simulation."
      ],
      "metadata": {
        "id": "FzIpw7Y-xWgF"
      }
    },
    {
      "cell_type": "markdown",
      "source": [
        "The resulting quantum circuit stochastically outputs -1 and 1 for each qubit.\n",
        "They are then integrated into a single result.\n",
        "In this case, we can also consider which qubits are important, and from the similarity of neural networks, we can prepare parameters as weights.\n",
        "Now you are ready. Let's see how the relationship between input x and output y changes by applying the appropriate rotation to each qubit."
      ],
      "metadata": {
        "id": "HFI3a7EFyQF6"
      }
    },
    {
      "cell_type": "code",
      "source": [
        "y_series = []\n",
        "params = np.random.rand(3*n)*2*np.pi\n",
        "\n",
        "u_rot = U_rot(n,params)\n",
        "for x in x_series:\n",
        "  qc = QCLinput(x,n)\n",
        "  q = cirq.LineQubit.range(n)\n",
        "  qc.append(u_rot.on(*q))\n",
        "  y = mag_exp(qc,n)\n",
        "  y_series.append(y)"
      ],
      "metadata": {
        "id": "PMpiErxfxV8i"
      },
      "execution_count": null,
      "outputs": []
    },
    {
      "cell_type": "markdown",
      "source": [
        "Here we have prepared params as a random parameter."
      ],
      "metadata": {
        "id": "r66T_rMX88Pn"
      }
    },
    {
      "cell_type": "code",
      "source": [
        "plt.plot(x_series,y_series)\n",
        "plt.show()"
      ],
      "metadata": {
        "id": "FyLOZYUP39tA"
      },
      "execution_count": null,
      "outputs": []
    },
    {
      "cell_type": "markdown",
      "source": [
        "Next, let's add an operation to change the coefficients between qubits with a control Z-gate."
      ],
      "metadata": {
        "id": "O0QoBeqW4yKK"
      }
    },
    {
      "cell_type": "code",
      "source": [
        "class U_ent(cirq.Gate):\n",
        "  def __init__(self, n):\n",
        "    self.n = n\n",
        "\n",
        "  def _num_qubits_(self):\n",
        "    return self.n\n",
        "\n",
        "  def _decompose_(self, qubits):\n",
        "    q = qubits\n",
        "    if self.n > 1:\n",
        "      for k in range(self.n-1):\n",
        "        yield cirq.CZ(q[k],q[k+1])\n",
        "      yield cirq.CZ(q[self.n-1],q[0])\n",
        "\n",
        "  def _circuit_diagram_info_(self, args):\n",
        "    return [\"U_ent\"] * self.num_qubits()"
      ],
      "metadata": {
        "id": "OWMp2R604xNA"
      },
      "execution_count": null,
      "outputs": []
    },
    {
      "cell_type": "markdown",
      "source": [
        "How would the combination of these changes affect the results?"
      ],
      "metadata": {
        "id": "n2Tc5TTc5XW8"
      }
    },
    {
      "cell_type": "code",
      "source": [
        "y_series = []\n",
        "\n",
        "u_rot = U_rot(n,params)\n",
        "u_ent = U_ent(n)\n",
        "\n",
        "for x in x_series:\n",
        "  qc = QCLinput(x,n)\n",
        "  q = cirq.LineQubit.range(n)\n",
        "  qc.append(u_ent.on(*q))\n",
        "  qc.append(u_rot.on(*q))\n",
        "  y = mag_exp(qc,n)\n",
        "  y_series.append(y)"
      ],
      "metadata": {
        "id": "TjGJU3am84k2"
      },
      "execution_count": null,
      "outputs": []
    },
    {
      "cell_type": "markdown",
      "source": [
        "Now, what are the results?"
      ],
      "metadata": {
        "id": "1N_-FtF-8rnn"
      }
    },
    {
      "cell_type": "code",
      "source": [
        "plt.plot(x_series,y_series)\n",
        "plt.show()"
      ],
      "metadata": {
        "id": "EX4Cxkse5Wki"
      },
      "execution_count": null,
      "outputs": []
    },
    {
      "cell_type": "markdown",
      "source": [
        "It was as if the functional form was different from the previous one.\n",
        "The control Z-gate had the effect of scratching only the |11>.\n",
        "I wonder if that is the effect.\n",
        "\n",
        "Just repeating this might make the function somewhat more complex."
      ],
      "metadata": {
        "id": "Ko33x1i4hekv"
      }
    },
    {
      "cell_type": "code",
      "source": [
        "y_series = []\n",
        "\n",
        "depth = 3\n",
        "params = np.random.rand(3*depth*n)\n",
        "\n",
        "u_ent = U_ent(n)\n",
        "\n",
        "for x in x_series:\n",
        "  qc = QCLinput(x,n)\n",
        "  q = cirq.LineQubit.range(n)\n",
        "  for d in range(depth):\n",
        "    qc.append(u_ent.on(*q))\n",
        "    u_rot = U_rot(n,params[d*3*n:(d+1)*3*n])\n",
        "    qc.append(u_rot.on(*q))\n",
        "  y = mag_exp(qc,n)\n",
        "  y_series.append(y)"
      ],
      "metadata": {
        "id": "-myrNNGS_rSz"
      },
      "execution_count": null,
      "outputs": []
    },
    {
      "cell_type": "code",
      "source": [
        "plt.plot(x_series,y_series)\n",
        "plt.show()"
      ],
      "metadata": {
        "id": "MRtx6BZtDTLY"
      },
      "execution_count": null,
      "outputs": []
    },
    {
      "cell_type": "markdown",
      "source": [
        "The shape has changed again."
      ],
      "metadata": {
        "id": "OztrKEjIDY2K"
      }
    },
    {
      "cell_type": "markdown",
      "source": [
        "However, this was the result of randomly assigning parameters, and without specifying what they should match.\n",
        "In machine learning, the goal is to estimate the form of the function given the data in advance and then follow it.\n",
        "So let's prepare the data."
      ],
      "metadata": {
        "id": "r-JR_0JCECy-"
      }
    },
    {
      "cell_type": "code",
      "source": [
        "ntrain = 10\n",
        "func = lambda x: 0.5*x**3\n",
        "xtrain = 2*np.random.rand(ntrain)-1\n",
        "ytrain = func(xtrain)"
      ],
      "metadata": {
        "id": "oS4dT42cDX8X"
      },
      "execution_count": null,
      "outputs": []
    },
    {
      "cell_type": "code",
      "source": [
        "plt.scatter(xtrain,ytrain)"
      ],
      "metadata": {
        "id": "RycQjjZSFRNm"
      },
      "execution_count": null,
      "outputs": []
    },
    {
      "cell_type": "markdown",
      "source": [
        "The goal is to infer the form of the original function (func in this case) from such fragmentary information."
      ],
      "metadata": {
        "id": "QeIcwxDxFWpN"
      }
    },
    {
      "cell_type": "markdown",
      "source": [
        "The goal is to move random parameters to match the data we receive.\n",
        "Therefore, it is necessary to clarify how different the data and the results that the quantum circuit has played out are."
      ],
      "metadata": {
        "id": "4Kvx5vLpGJ2X"
      }
    },
    {
      "cell_type": "code",
      "source": [
        "def cost_func(params):\n",
        "    u_ent = U_ent(n)\n",
        "    cost_total = 0\n",
        "    for k in range(ntrain):\n",
        "      qc = QCLinput(xtrain[k],n)\n",
        "      q = cirq.LineQubit.range(n)\n",
        "      for d in range(depth):\n",
        "        qc.append(u_ent.on(*q))\n",
        "        u_rot = U_rot(n,params[d*3*n:(d+1)*3*n])\n",
        "        qc.append(u_rot.on(*q))\n",
        "      y = mag_exp(qc,n)\n",
        "\n",
        "      #Calculate the discrepancy between the data and the output result of the quantum circuit\n",
        "      cost = 0.5*(ytrain[k] - y)**2\n",
        "      cost_total += cost\n",
        "\n",
        "    #Calculate the average error by dividing by the number of training data\n",
        "    cost_total = cost_total/ntrain\n",
        "\n",
        "    return cost_total"
      ],
      "metadata": {
        "id": "BkrFPbDEq45p"
      },
      "execution_count": null,
      "outputs": []
    },
    {
      "cell_type": "markdown",
      "source": [
        "This cost function is \"optimized\" to be as small as possible by varying the parameters.\n",
        "This is to match the data as closely as possible.\n",
        "Let's try it."
      ],
      "metadata": {
        "id": "YWRn6UNGHCHT"
      }
    },
    {
      "cell_type": "code",
      "source": [
        "#warningが多発する場合に抑制するコマンド\n",
        "import warnings\n",
        "warnings.filterwarnings('ignore')"
      ],
      "metadata": {
        "id": "pDKHhQTYW6d_"
      },
      "execution_count": null,
      "outputs": []
    },
    {
      "cell_type": "code",
      "source": [
        "from scipy.optimize import minimize\n",
        "result = minimize(cost_func, params, method=\"COBYLA\", options={\"maxiter\": 100})"
      ],
      "metadata": {
        "id": "YEbgKIJyqqZC"
      },
      "execution_count": null,
      "outputs": []
    },
    {
      "cell_type": "markdown",
      "source": [
        "If you want to see how close you are getting, it is result.fun."
      ],
      "metadata": {
        "id": "gZx9nWV3IEnm"
      }
    },
    {
      "cell_type": "code",
      "source": [
        "result.fun"
      ],
      "metadata": {
        "id": "iaum8pr5HpP9"
      },
      "execution_count": null,
      "outputs": []
    },
    {
      "cell_type": "markdown",
      "source": [
        "To retrieve the result, type result.x."
      ],
      "metadata": {
        "id": "QuJYYgYGM9qn"
      }
    },
    {
      "cell_type": "code",
      "source": [
        "result.x"
      ],
      "metadata": {
        "id": "Gy8pdqvCH6ej"
      },
      "execution_count": null,
      "outputs": []
    },
    {
      "cell_type": "markdown",
      "source": [
        "This is the set of parameters resulting from the optimization attempts for the specified number of times (maxiter)."
      ],
      "metadata": {
        "id": "4yLtfrJBIH6V"
      }
    },
    {
      "cell_type": "markdown",
      "source": [
        "Let's plot a graph using these results."
      ],
      "metadata": {
        "id": "46ca5j_KMeWo"
      }
    },
    {
      "cell_type": "code",
      "source": [
        "y_series = []\n",
        "params = result.x\n",
        "u_ent = U_ent(n)\n",
        "for x in x_series:\n",
        "  qc = QCLinput(x,n)\n",
        "  q = cirq.LineQubit.range(n)\n",
        "  for d in range(depth):\n",
        "    qc.append(u_ent.on(*q))\n",
        "    u_rot = U_rot(n,params[d*3*n:(d+1)*3*n])\n",
        "    qc.append(u_rot.on(*q))\n",
        "  y = mag_exp(qc,n)\n",
        "  y_series.append(y)"
      ],
      "metadata": {
        "id": "qRwiU9FjHcV6"
      },
      "execution_count": null,
      "outputs": []
    },
    {
      "cell_type": "markdown",
      "source": [
        "Let's also overlay the data and write the original function on top of it, since we're at it."
      ],
      "metadata": {
        "id": "ZvkyxgwJMmz8"
      }
    },
    {
      "cell_type": "code",
      "source": [
        "y_correct = func(x_series)"
      ],
      "metadata": {
        "id": "ud7YNjUTM1on"
      },
      "execution_count": null,
      "outputs": []
    },
    {
      "cell_type": "code",
      "source": [
        "plt.scatter(xtrain,ytrain)\n",
        "plt.plot(x_series,y_correct)\n",
        "plt.plot(x_series,y_series)\n",
        "plt.show()"
      ],
      "metadata": {
        "id": "Ow3FEJ3zMkE6"
      },
      "execution_count": null,
      "outputs": []
    },
    {
      "cell_type": "markdown",
      "source": [
        "What do you think?\n",
        "Did you get it right?"
      ],
      "metadata": {
        "id": "0wSq4xxfOjtc"
      }
    },
    {
      "cell_type": "markdown",
      "source": [
        "Let us keep the quantum circuit in the deep direction thus created as a function."
      ],
      "metadata": {
        "id": "KsNjZ38nR02t"
      }
    },
    {
      "cell_type": "code",
      "source": [
        "def forward(x,n,depth,params):\n",
        "    qc = QCLinput(x,n)\n",
        "    q = cirq.LineQubit.range(n)\n",
        "    u_ent = U_ent(n)\n",
        "    for d in range(depth):\n",
        "      qc.append(u_ent.on(*q))\n",
        "      u_rot = U_rot(n,params[d*3*n:(d+1)*3*n])\n",
        "      qc.append(u_rot.on(*q))\n",
        "    y = mag_exp(qc,n)\n",
        "    return y"
      ],
      "metadata": {
        "id": "2yxiKxfbR6T1"
      },
      "execution_count": null,
      "outputs": []
    },
    {
      "cell_type": "markdown",
      "source": [
        "And by the way, all you need to do to fit the data in machine learning is to figure out\n",
        "It is all about how to make non-trivial movements and how to integrate those non-trivial movements.\n",
        "So far, we have used only control z-gates and rotations, which is simple.\n",
        "To make it more complex here, let's use the quantum simulation of the Ising model we just used as a test."
      ],
      "metadata": {
        "id": "opgXQ08CtA3a"
      }
    },
    {
      "cell_type": "code",
      "source": [
        "#Transverse magnetic field magnitude\n",
        "theta_x = np.random.randn(n)\n",
        "#Magnitude of interaction\n",
        "theta_z = np.random.randn(n)\n",
        "\n",
        "def cost_func2(params):\n",
        "    UIsing = Ising_dynamics(n, theta_z, theta_x)\n",
        "\n",
        "    cost_total = 0\n",
        "    for k in range(ntrain):\n",
        "      qc = QCLinput(xtrain[k],n)\n",
        "      q = cirq.LineQubit.range(n)\n",
        "      for d in range(depth):\n",
        "        qc.append(UIsing.on(*q))\n",
        "        u_rot = U_rot(n,params[d*3*n:(d+1)*3*n])\n",
        "        qc.append(u_rot.on(*q))\n",
        "      y = mag_exp(qc,n)\n",
        "\n",
        "      #Calculate the average error by dividing by the number of training data\n",
        "      cost = 0.5*(ytrain[k] - y)**2\n",
        "      cost_total += cost\n",
        "\n",
        "    #Calculate the average error by dividing by the number of training data\n",
        "    cost_total = cost_total/ntrain\n",
        "\n",
        "    return cost_total"
      ],
      "metadata": {
        "id": "wXHEBeKorIlB"
      },
      "execution_count": null,
      "outputs": []
    },
    {
      "cell_type": "code",
      "source": [
        "params = np.random.rand(3*depth*n)*2*np.pi\n",
        "result = minimize(cost_func2, params, method=\"COBYLA\", options={\"maxiter\": 100})"
      ],
      "metadata": {
        "id": "d8khog_Py86C"
      },
      "execution_count": null,
      "outputs": []
    },
    {
      "cell_type": "markdown",
      "source": [
        "To see how close you could get to the same result.fun"
      ],
      "metadata": {
        "id": "M6hsVrcqNBq4"
      }
    },
    {
      "cell_type": "code",
      "source": [
        "result.fun"
      ],
      "metadata": {
        "id": "c5IdBi2fM1fI"
      },
      "execution_count": null,
      "outputs": []
    },
    {
      "cell_type": "markdown",
      "source": [
        "To see the resulting parameters, it's result.x."
      ],
      "metadata": {
        "id": "kuIRUIQZNGde"
      }
    },
    {
      "cell_type": "code",
      "source": [
        "result.x"
      ],
      "metadata": {
        "id": "EqdE4FFNM1A2"
      },
      "execution_count": null,
      "outputs": []
    },
    {
      "cell_type": "markdown",
      "source": [
        "If you want to iterate the optimization a bit more, continue with result.x as the initial solution."
      ],
      "metadata": {
        "id": "7QB9yUhjNqDn"
      }
    },
    {
      "cell_type": "code",
      "source": [
        "#result = minimize(cost_func2, result.x, method=\"COBYLA\", options={\"maxiter\": 100})"
      ],
      "metadata": {
        "id": "aVok7j-KNwjQ"
      },
      "execution_count": null,
      "outputs": []
    },
    {
      "cell_type": "markdown",
      "source": [
        "Compare this result to the data."
      ],
      "metadata": {
        "id": "yyyyDcNczW7a"
      }
    },
    {
      "cell_type": "code",
      "source": [
        "y_series = []\n",
        "params = result.x\n",
        "\n",
        "UIsing = Ising_dynamics(n, theta_z, theta_x)\n",
        "\n",
        "for x in x_series:\n",
        "  qc = QCLinput(x,n)\n",
        "  q = cirq.LineQubit.range(n)\n",
        "  for d in range(depth):\n",
        "    qc.append(UIsing.on(*q))\n",
        "    u_rot = U_rot(n,params[d*3*n:(d+1)*3*n])\n",
        "    qc.append(u_rot.on(*q))\n",
        "  y = mag_exp(qc,n)\n",
        "  y_series.append(y)"
      ],
      "metadata": {
        "id": "fugyrGoOzU_F"
      },
      "execution_count": null,
      "outputs": []
    },
    {
      "cell_type": "code",
      "source": [
        "plt.scatter(xtrain,ytrain)\n",
        "plt.plot(x_series,y_correct)\n",
        "plt.plot(x_series,y_series)\n",
        "plt.show()"
      ],
      "metadata": {
        "id": "SyetMZdOziES"
      },
      "execution_count": null,
      "outputs": []
    },
    {
      "cell_type": "markdown",
      "source": [
        "However, the method used here (COBYLA, Nelder-Mead, Powell, etc. can also be used for optimization) is not appropriate for optimization without using gradients.\n",
        "It would be more reliable to use gradient as in deep learning and proceed with the computation efficiently."
      ],
      "metadata": {
        "id": "9jbni-L6-15T"
      }
    },
    {
      "cell_type": "markdown",
      "source": [
        "The usual way in machine learning is to calculate the gradient by slightly shifting the parameters and differentiating them.\n",
        "In the case of quantum circuits, by using the parameters to be used and the characteristics of the quantum circuit with those parameters, such as the angle of rotation, it is possible to calculate the same result as the calculation of the derivative by subtracting the $\\pi/2$ shifted and the $-\\pi/2$ shifted."
      ],
      "metadata": {
        "id": "MhZxu6YeSG3z"
      }
    },
    {
      "cell_type": "markdown",
      "source": [
        "However, for the differentiation, it is necessary to perform the calculations many times, which is very computationally intensive, because it requires the results of calculations by the quantum circuit with the current parameters and the quantum circuit with shifted parameters."
      ],
      "metadata": {
        "id": "QO4nORhjqNt5"
      }
    },
    {
      "cell_type": "code",
      "source": [
        "def calc_grad(n,depth,xtrain,ytrain,params):    \n",
        "  grad = np.zeros_like(params)\n",
        "  cost_data = np.zeros(ntrain)\n",
        "  shifted = params.copy()\n",
        "    \n",
        "  for k in range(ntrain):\n",
        "    x = xtrain[k]\n",
        "    y = forward(x,n,depth,params)\n",
        "    cost_data[k] = - (ytrain[k] - y)\n",
        "    \n",
        "    for i in range(len(params)):\n",
        "      shifted[i] += np.pi/2\n",
        "      y1 = forward(x,n,depth,shifted)    \n",
        "      shifted[i] -= np.pi\n",
        "      y2 = forward(x,n,depth,shifted)    \n",
        "      gradient = 0.5 * (y1-y2)\n",
        "      grad[i] += cost_data[k]*gradient/ntrain\n",
        "      shifted[i] += np.pi/2\n",
        "\n",
        "  return grad, cost_data"
      ],
      "metadata": {
        "id": "v8YkntUCSGaH"
      },
      "execution_count": null,
      "outputs": []
    },
    {
      "cell_type": "code",
      "source": [
        "params = np.random.rand(3*depth*n)*2*np.pi\n",
        "\n",
        "eta = 1.0\n",
        "Tall = 20\n",
        "cost_series = []"
      ],
      "metadata": {
        "id": "csHoSyKZrFdY"
      },
      "execution_count": null,
      "outputs": []
    },
    {
      "cell_type": "code",
      "source": [
        "for t in range(Tall):\n",
        "  grad, cost_data = calc_grad(n,depth,xtrain,ytrain,params)\n",
        "  \n",
        "  cost = np.sum(cost_data**2)/len(cost_data)\n",
        "  cost_series.append(cost)\n",
        "  \n",
        "  params = params - eta*grad"
      ],
      "metadata": {
        "id": "XZjJe_uALwXe"
      },
      "execution_count": null,
      "outputs": []
    },
    {
      "cell_type": "code",
      "source": [
        "plt.plot(cost_series)\n",
        "plt.show()"
      ],
      "metadata": {
        "id": "SnmSqb_ua4Ct"
      },
      "execution_count": null,
      "outputs": []
    },
    {
      "cell_type": "code",
      "source": [
        "y_series = []\n",
        "\n",
        "for x in x_series:\n",
        "  y = forward(x,n,depth,params)\n",
        "  y_series.append(y)"
      ],
      "metadata": {
        "id": "RXSwkklqiDgt"
      },
      "execution_count": null,
      "outputs": []
    },
    {
      "cell_type": "code",
      "source": [
        "plt.scatter(xtrain,ytrain)\n",
        "plt.plot(x_series,y_correct)\n",
        "plt.plot(x_series,y_series)\n",
        "plt.show()"
      ],
      "metadata": {
        "id": "ttXKXosUiHzh"
      },
      "execution_count": null,
      "outputs": []
    },
    {
      "cell_type": "code",
      "source": [],
      "metadata": {
        "id": "cU9AmRUMUfz4"
      },
      "execution_count": null,
      "outputs": []
    }
  ]
}