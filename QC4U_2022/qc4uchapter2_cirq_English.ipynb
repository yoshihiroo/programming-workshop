{
  "nbformat": 4,
  "nbformat_minor": 0,
  "metadata": {
    "colab": {
      "private_outputs": true,
      "provenance": [],
      "collapsed_sections": [],
      "include_colab_link": true
    },
    "kernelspec": {
      "name": "python3",
      "display_name": "Python 3"
    },
    "language_info": {
      "name": "python"
    }
  },
  "cells": [
    {
      "cell_type": "markdown",
      "metadata": {
        "id": "view-in-github",
        "colab_type": "text"
      },
      "source": [
        "<a href=\"https://colab.research.google.com/github/yoshihiroo/programming-workshop/blob/master/QC4U_2022/qc4uchapter2_cirq_English.ipynb\" target=\"_parent\"><img src=\"https://colab.research.google.com/assets/colab-badge.svg\" alt=\"Open In Colab\"/></a>"
      ]
    },
    {
      "cell_type": "markdown",
      "source": [
        "# QC4U Day2 Cirq porting\n",
        "2022.10.15 updated."
      ],
      "metadata": {
        "id": "BrDsVfUv6WcT"
      }
    },
    {
      "cell_type": "markdown",
      "source": [
        "This is an attempt to porting of the [QC4U](https://altema.is.tohoku.ac.jp/QC4U/) code written by Prof. Ohzeki of Tohoku University into Cirq for my recap and understanding. I am stealing with pride the almost all text of the explanation from the original site. (The article has been published with Prof. Ohzeki's permission.)\n",
        "\n",
        "[The original code of Day 2](https://colab.research.google.com/gist/mohzeki222/3e775df4ee15de10cd5aa6912332abdb/qc4uchapter2.ipynb)"
      ],
      "metadata": {
        "id": "LDrZDGjcibyw"
      }
    },
    {
      "cell_type": "markdown",
      "source": [
        "# Installing Cirq\n",
        "\n",
        "Quantum computers are available from several companies.\n",
        "One of them is Google, which thankfully provides a library for development.\n",
        "Let's use the quantum computer together by using this library.\n",
        "\n",
        "(Note added) After executing the command, the RESTART RUNTIME button will appear with WARNING, so click on it to restart the runtime."
      ],
      "metadata": {
        "id": "yoYNDMRnnWr8"
      }
    },
    {
      "cell_type": "code",
      "source": [
        "pip install cirq"
      ],
      "metadata": {
        "id": "2jMYymbRmK0C"
      },
      "execution_count": null,
      "outputs": []
    },
    {
      "cell_type": "markdown",
      "source": [
        "In this case, we will use Grover's search algorithm to perform the calculation of increasing the amplitude and obtaining the desired quantum state."
      ],
      "metadata": {
        "id": "jnWk7GsFv0rF"
      }
    },
    {
      "cell_type": "code",
      "execution_count": null,
      "metadata": {
        "id": "FgZN8RH3jfGL"
      },
      "outputs": [],
      "source": [
        "import cirq"
      ]
    },
    {
      "cell_type": "markdown",
      "source": [
        "This time, we use 5 qubits to extract one desired quantum state from the $2^5$ possible quantum states.\n",
        "Grover's algorithm requires the presence of an \"oracle\" that requests which quantum state it wants.\n",
        "We ask that oracle to check that we want this quantum state.\n",
        "If the oracle checks that you want this quantum state, it is not a check, because if the check is something that increases the amplitude, it would be a fake.\n",
        "The oracle is supposed to only invert the amplitude without changing the amplitude."
      ],
      "metadata": {
        "id": "PvFXndnDXfLT"
      }
    },
    {
      "cell_type": "markdown",
      "source": [
        "Let's first consider how to mark that desired state.\n",
        "It might be a bit easier if we only had one qubit, so let's consider two or more.\n",
        "We can take out one of the four states, namely|00>,|01>,|10>,|11>.\n",
        "For example, we want to mark only the quantum state |11>.\n",
        "There is a circuit that is just right for this, called a control Z-gate."
      ],
      "metadata": {
        "id": "hpwmef3JggQq"
      }
    },
    {
      "cell_type": "code",
      "source": [
        "n=2\n",
        "\n",
        "qc = cirq.Circuit()\n",
        "q = cirq.LineQubit.range(n)"
      ],
      "metadata": {
        "id": "nPcdKcEug8Vx"
      },
      "execution_count": null,
      "outputs": []
    },
    {
      "cell_type": "markdown",
      "source": [
        "First, we have two qubits.\n",
        "We apply an Hadamard circuit to these to create a superposition of multiple states."
      ],
      "metadata": {
        "id": "qaLVp9q2g-Wi"
      }
    },
    {
      "cell_type": "code",
      "source": [
        "qc.append(cirq.H.on_each(q))"
      ],
      "metadata": {
        "id": "K9t7nB94qdUC"
      },
      "execution_count": null,
      "outputs": []
    },
    {
      "cell_type": "markdown",
      "source": [
        "If you want to see the progress along the way, run it in the simulator."
      ],
      "metadata": {
        "id": "9PiyHOYrhUFo"
      }
    },
    {
      "cell_type": "code",
      "source": [
        "sim = cirq.Simulator()\n",
        "res = sim.simulate(qc)\n",
        "print(res)"
      ],
      "metadata": {
        "id": "djX0GeWFhWuI"
      },
      "execution_count": null,
      "outputs": []
    },
    {
      "cell_type": "markdown",
      "source": [
        "To display the results, the code should have been as follows."
      ],
      "metadata": {
        "id": "udJEybUhhaR_"
      }
    },
    {
      "cell_type": "code",
      "source": [
        "print(res.final_state_vector.round(5))"
      ],
      "metadata": {
        "id": "fSlsaVeXhfMd"
      },
      "execution_count": null,
      "outputs": []
    },
    {
      "cell_type": "markdown",
      "source": [
        "Each is 1/2, so squaring them together gives us 1/4, which means that all four states have equal probability."
      ],
      "metadata": {
        "id": "mMHzxSw4hlfs"
      }
    },
    {
      "cell_type": "markdown",
      "source": [
        "Now let's apply a control z-gate to this.\n",
        "You can implement it with cz.\n",
        "You specify which is the control qubit and which is the target qubit and run it."
      ],
      "metadata": {
        "id": "YqRJJ4Jghsx_"
      }
    },
    {
      "cell_type": "code",
      "source": [
        "qc.append(cirq.CZ(q[0], q[1]))"
      ],
      "metadata": {
        "id": "l5d-cJ8Eh65z"
      },
      "execution_count": null,
      "outputs": []
    },
    {
      "cell_type": "markdown",
      "source": [
        "It was a PRINT to see the status of the circuits along the way."
      ],
      "metadata": {
        "id": "AuARJXkJh9yr"
      }
    },
    {
      "cell_type": "code",
      "source": [
        "print(qc)"
      ],
      "metadata": {
        "id": "cPR3oXpriAZR"
      },
      "execution_count": null,
      "outputs": []
    },
    {
      "cell_type": "markdown",
      "source": [
        "Now what is the amplitude at this point?"
      ],
      "metadata": {
        "id": "oT9mKKjEiCq-"
      }
    },
    {
      "cell_type": "code",
      "source": [
        "sim = cirq.Simulator()\n",
        "res = sim.simulate(qc)\n",
        "print(res)"
      ],
      "metadata": {
        "id": "Ge8DuD6ViJLD"
      },
      "execution_count": null,
      "outputs": []
    },
    {
      "cell_type": "markdown",
      "source": [
        "We are able to mark -1 on |11> as we wanted.\n",
        "What this does is that when the control qubit is 0, it does nothing. And when the control qubit is 1, it causes a circuit called Z to act.\n",
        "|When the control qubit is 1, it acts on the circuit called Z. When the control qubit is 1, it acts on the circuit called Z. When the control qubit is 0, it does nothing.\n",
        "That something, the circuit Z, is supposed to remain the same when the bit is 0, and mark the bit as -1 when it is 1.\n",
        "So, the result of the calculation is that the circuit does nothing for |10> and adds a marker for |11>.\n",
        "It is amazing** that this can be done only once, without taking out each of |00>,|01>,|10>,|11> in parallel."
      ],
      "metadata": {
        "id": "wKAAg2yciLte"
      }
    },
    {
      "cell_type": "markdown",
      "source": [
        "### Equivalent Circuits\n",
        "There are many different types of quantum circuits, some of which give the same calculation results.\n",
        "It may be difficult to memorize all of them, but as you get used to them, you will understand the calculation results, and you may think that some of them can be written in a different way.\n",
        "\n",
        "In particular, the Hadamard circuit is famous for reversing the roles of Z and X.\n",
        "Z was left as it is for 0 and marked for 1.\n",
        "The Hadamardd circuit creates the superposition state of|0>+|1> for the case of|0> and the superposition state of|0>-|1> for the case of|1>.\n",
        "So, if we invert using X, we get |1>-|0>, which means that the coefficient is multiplied by -1 compared to the original state. Notice that this is similar to the effect of Z.\n",
        "However, this superposition is complicated as it is, so let's undo it.\n",
        "Let us run the following circuit."
      ],
      "metadata": {
        "id": "qR4TEBV9sNF_"
      }
    },
    {
      "cell_type": "code",
      "source": [
        "qc2 = cirq.Circuit()\n",
        "q = cirq.LineQubit.range(1)"
      ],
      "metadata": {
        "id": "i71vgPcltGLe"
      },
      "execution_count": null,
      "outputs": []
    },
    {
      "cell_type": "markdown",
      "source": [
        "Here, X is applied after the Hadamard circuit, followed by the Hadamard circuit.\n"
      ],
      "metadata": {
        "id": "a9w3aDUetInL"
      }
    },
    {
      "cell_type": "code",
      "source": [
        "qc2.append([\n",
        "    cirq.H(q[0]),\n",
        "    cirq.X(q[0]),\n",
        "    cirq.H(q[0])\n",
        "])"
      ],
      "metadata": {
        "id": "BBC0VHOYtSv-"
      },
      "execution_count": null,
      "outputs": []
    },
    {
      "cell_type": "markdown",
      "source": [
        "The overall circuit is as follows"
      ],
      "metadata": {
        "id": "6svAlQRdtbFf"
      }
    },
    {
      "cell_type": "code",
      "source": [
        "print(qc2)"
      ],
      "metadata": {
        "id": "JcUuY90ItdNm"
      },
      "execution_count": null,
      "outputs": []
    },
    {
      "cell_type": "markdown",
      "source": [
        "What would be the result of this calculation?"
      ],
      "metadata": {
        "id": "VyfrjiS_teuW"
      }
    },
    {
      "cell_type": "code",
      "source": [
        "res2 = sim.simulate(qc2)\n",
        "print(res2.final_state_vector.round(5))"
      ],
      "metadata": {
        "id": "OuezM7wetil2"
      },
      "execution_count": null,
      "outputs": []
    },
    {
      "cell_type": "markdown",
      "source": [
        "It's no wonder nothing happened. Since the initial state was |0>, nothing would have happened as it was.\n",
        "This is similar to the action of Z.\n",
        "Now let's invert the first state to |1>."
      ],
      "metadata": {
        "id": "RIgHzXyxtjtB"
      }
    },
    {
      "cell_type": "code",
      "source": [
        "qc3 = cirq.Circuit()\n",
        "q = cirq.LineQubit.range(1)\n",
        "qc3.append(cirq.X(q[0]))"
      ],
      "metadata": {
        "id": "d0vMTmlCtu2H"
      },
      "execution_count": null,
      "outputs": []
    },
    {
      "cell_type": "markdown",
      "source": [
        "Now let's run Hadamard, X, and Hadamard against this."
      ],
      "metadata": {
        "id": "0e_8uM5nvGeV"
      }
    },
    {
      "cell_type": "code",
      "source": [
        "qc3.append([\n",
        "    cirq.H(q[0]),\n",
        "    cirq.X(q[0]),\n",
        "    cirq.H(q[0])\n",
        "])"
      ],
      "metadata": {
        "id": "5gZcPiK4vAsA"
      },
      "execution_count": null,
      "outputs": []
    },
    {
      "cell_type": "markdown",
      "source": [
        "The overall circuit is as follows"
      ],
      "metadata": {
        "id": "-LVNfrrAvOcU"
      }
    },
    {
      "cell_type": "code",
      "source": [
        "print(qc3)"
      ],
      "metadata": {
        "id": "DK7vhLTEvQQj"
      },
      "execution_count": null,
      "outputs": []
    },
    {
      "cell_type": "markdown",
      "source": [
        "Let's see what the results are in the simulator."
      ],
      "metadata": {
        "id": "wwaPtRyYvSOO"
      }
    },
    {
      "cell_type": "code",
      "source": [
        "res3 = sim.simulate(qc3)\n",
        "print(res3.final_state_vector)"
      ],
      "metadata": {
        "id": "URApq4wCvWJh"
      },
      "execution_count": null,
      "outputs": []
    },
    {
      "cell_type": "markdown",
      "source": [
        "Like Z, it now does nothing when it is 0, and when it is 1, the coefficient reverses to -1."
      ],
      "metadata": {
        "id": "oNrpu4eCvZ2I"
      }
    },
    {
      "cell_type": "markdown",
      "source": [
        "In the same way, a control Z circuit can be made from a control X circuit."
      ],
      "metadata": {
        "id": "mEt0FH5Cvhj_"
      }
    },
    {
      "cell_type": "markdown",
      "source": [
        "Therefore, adding -1 to only |11> can be performed as follows."
      ],
      "metadata": {
        "id": "c66jYd5qvn6c"
      }
    },
    {
      "cell_type": "code",
      "source": [
        "qc4 = cirq.Circuit()\n",
        "q = cirq.LineQubit.range(2)"
      ],
      "metadata": {
        "id": "OrK_qfMwvmS8"
      },
      "execution_count": null,
      "outputs": []
    },
    {
      "cell_type": "markdown",
      "source": [
        "Now we first apply the Hadamard circuit to create a superposition condition."
      ],
      "metadata": {
        "id": "dCQIOqnqvvjH"
      }
    },
    {
      "cell_type": "code",
      "source": [
        "qc4.append(cirq.H.on_each(q))"
      ],
      "metadata": {
        "id": "inBdtdDcvzwE"
      },
      "execution_count": null,
      "outputs": []
    },
    {
      "cell_type": "markdown",
      "source": [
        "Then let's run it with a control X-gate instead of a control Z-gate."
      ],
      "metadata": {
        "id": "YOeu92X3v6el"
      }
    },
    {
      "cell_type": "code",
      "source": [
        "qc4.append([\n",
        "    cirq.H(q[1]),\n",
        "    cirq.CX(q[0],q[1]),\n",
        "    cirq.H(q[1])\n",
        "])"
      ],
      "metadata": {
        "id": "3CGn-DNMv_gx"
      },
      "execution_count": null,
      "outputs": []
    },
    {
      "cell_type": "markdown",
      "source": [
        "The whole circuit is starting to look quite complicated looking."
      ],
      "metadata": {
        "id": "3U7TrTDmwLWI"
      }
    },
    {
      "cell_type": "code",
      "source": [
        "from cirq.contrib.svg import SVGCircuit\n",
        "SVGCircuit(qc4)"
      ],
      "metadata": {
        "id": "AUvN2cfqwOQp"
      },
      "execution_count": null,
      "outputs": []
    },
    {
      "cell_type": "markdown",
      "source": [
        "Now let's run this circuit."
      ],
      "metadata": {
        "id": "5oCsQRLrwQwe"
      }
    },
    {
      "cell_type": "code",
      "source": [
        "res4 = sim.simulate(qc4)\n",
        "print(res4.final_state_vector.round(5))"
      ],
      "metadata": {
        "id": "dOpnGFRGwYk4"
      },
      "execution_count": null,
      "outputs": []
    },
    {
      "cell_type": "markdown",
      "source": [
        "As hoped, we have successfully inverted the coefficients of only|11> to -1!\n",
        "Thus, the Hadamard circuit can reverse the effects of X and Z.\n",
        "Also, the fact that the circuit makes a superposition state of|0>+|1> when acted upon in the state of|0> suggests that it is an important circuit with characteristics typical of quantum circuits."
      ],
      "metadata": {
        "id": "m5KGkDnKwk22"
      }
    },
    {
      "cell_type": "markdown",
      "source": [
        "### Free circuit design\n",
        "\n",
        "Not 11 when you want to mark it.\n",
        "How can we mark other states?\n",
        "Let's say you want to mark 01, for example.\n",
        "In that case, let's try to mark 01 as 11, apply CZ, and then put it back to the original state as if nothing happened."
      ],
      "metadata": {
        "id": "yrvYahcwiGQs"
      }
    },
    {
      "cell_type": "code",
      "source": [
        "qc5 = cirq.Circuit()\n",
        "q = cirq.LineQubit.range(2)"
      ],
      "metadata": {
        "id": "Ag1wbjqbjFAp"
      },
      "execution_count": null,
      "outputs": []
    },
    {
      "cell_type": "markdown",
      "source": [
        "First, we create the same superposition state and apply X to the second qubit, so that 10 becomes 11.\n",
        "Now 00 will be flipped to 01 as well, but in this case we can't put a marker on it.\n",
        "You can undo it later and you won't be offended."
      ],
      "metadata": {
        "id": "3iiTFgusjLc6"
      }
    },
    {
      "cell_type": "code",
      "source": [
        "qc5.append(cirq.H.on_each(q))"
      ],
      "metadata": {
        "id": "HPf1FaIbjYr_"
      },
      "execution_count": null,
      "outputs": []
    },
    {
      "cell_type": "code",
      "source": [
        "qc5.append([\n",
        "    cirq.X(q[1]),\n",
        "    cirq.CZ(q[0],q[1]),\n",
        "    cirq.X(q[1])\n",
        "])"
      ],
      "metadata": {
        "id": "EWEazlzhn8Yi"
      },
      "execution_count": null,
      "outputs": []
    },
    {
      "cell_type": "markdown",
      "source": [
        "The overall circuit will look something like this."
      ],
      "metadata": {
        "id": "4rSFZNcLjf0e"
      }
    },
    {
      "cell_type": "code",
      "source": [
        "SVGCircuit(qc5)"
      ],
      "metadata": {
        "id": "rnIuGX2wnqY-"
      },
      "execution_count": null,
      "outputs": []
    },
    {
      "cell_type": "markdown",
      "source": [
        "Now what are the results of this execution?"
      ],
      "metadata": {
        "id": "rtEwsgTAntLX"
      }
    },
    {
      "cell_type": "code",
      "source": [
        "res5 = sim.simulate(qc5)\n",
        "print(res5.final_state_vector.round(5))\n",
        "print(res5)"
      ],
      "metadata": {
        "id": "zwvHQx5xnwz6"
      },
      "execution_count": null,
      "outputs": []
    },
    {
      "cell_type": "markdown",
      "source": [
        "We were able to mark 10 (third) as desired. In this way we can realize the oracle by using control Z to mark the oracle.\n",
        "Similar to the control Z in the case of 2 qubits, in the case of multiple qubits, it is basically the same as the control Z in the case of|11.... .11>, we notice that we can do the equivalent if we can mark the states."
      ],
      "metadata": {
        "id": "kLWTn-M2olNB"
      }
    },
    {
      "cell_type": "markdown",
      "source": [
        "### Oracle for multiple qubits"
      ],
      "metadata": {
        "id": "ye1ng14LxEX_"
      }
    },
    {
      "cell_type": "markdown",
      "source": [
        "For example, we have five qubits and prepare to search for which of the enormous number of quantum states is the best in a superposition of states."
      ],
      "metadata": {
        "id": "Au3Bh_BYp1pl"
      }
    },
    {
      "cell_type": "code",
      "source": [
        "n = 5\n",
        "qc6 = cirq.Circuit()\n",
        "q = cirq.LineQubit.range(n)"
      ],
      "metadata": {
        "id": "RMFHGZdkpyeZ"
      },
      "execution_count": null,
      "outputs": []
    },
    {
      "cell_type": "markdown",
      "source": [
        "Applying an Hadamard circuit to each of these five qubits will create a superposition state of 0s and 1s.\n",
        "Since it is hard to write several of them, the for statement, the program can ask the computer to repeat the process."
      ],
      "metadata": {
        "id": "qcD1YCWIgpod"
      }
    },
    {
      "cell_type": "code",
      "source": [
        "for k in range(n):\n",
        "  qc6.append(cirq.H(q[k]))"
      ],
      "metadata": {
        "id": "SSaM4-NJa4Rs"
      },
      "execution_count": null,
      "outputs": []
    },
    {
      "cell_type": "markdown",
      "source": [
        "Or you can just type on_each(q) to make all qubits do the same action."
      ],
      "metadata": {
        "id": "AhYO_OR-rZsK"
      }
    },
    {
      "cell_type": "code",
      "source": [
        "#qc6.append(cirq.H.on_each(q))"
      ],
      "metadata": {
        "id": "illEUiDwrU4u"
      },
      "execution_count": null,
      "outputs": []
    },
    {
      "cell_type": "markdown",
      "source": [
        "In contrast, the same behavior as a control Z-gate across multiple qubits is called a multiple control Z-gate."
      ],
      "metadata": {
        "id": "632XWEuIbCFm"
      }
    },
    {
      "cell_type": "code",
      "source": [
        "qc6.append(cirq.Z(q[n-1]).controlled_by(*q[0:n-1]))"
      ],
      "metadata": {
        "id": "oUEoKXfaq02S"
      },
      "execution_count": null,
      "outputs": []
    },
    {
      "cell_type": "code",
      "source": [
        "SVGCircuit(qc6)"
      ],
      "metadata": {
        "id": "iTOlyrPZrTVM"
      },
      "execution_count": null,
      "outputs": []
    },
    {
      "cell_type": "markdown",
      "source": [
        "Now if only this circuit would invert the coefficient to -1 only for |11111>.\n",
        "Let's check that."
      ],
      "metadata": {
        "id": "AK-rXBgzbHtm"
      }
    },
    {
      "cell_type": "markdown",
      "source": [
        "As always, to see what the quantum state looks like, run it in the simulator."
      ],
      "metadata": {
        "id": "NqxLoaxvbR3I"
      }
    },
    {
      "cell_type": "code",
      "source": [
        "res6 = sim.simulate(qc6)\n",
        "print(res6.final_state_vector.round(5))"
      ],
      "metadata": {
        "id": "SgCZKYm0bQkp"
      },
      "execution_count": null,
      "outputs": []
    },
    {
      "cell_type": "markdown",
      "source": [
        "As expected, the coefficient is applied only to |11111>.\n",
        "By the way, the magnitude of the coefficients is about 0.17678 for all amplitudes.\n",
        "This is consistent with the result from $2^5=32$, which is $1/\\sqrt{32}\\approx 0.17678$."
      ],
      "metadata": {
        "id": "2cPDHbhJyZvI"
      }
    },
    {
      "cell_type": "markdown",
      "source": [
        "Putting the above together, we can create an oracle that will mark the states we want.\n",
        "We want to know how many of the 32 states we want to retrieve.\n",
        "Given a number, use a function that produces a binary display of that number."
      ],
      "metadata": {
        "id": "XLmNWPUtb9aR"
      }
    },
    {
      "cell_type": "code",
      "source": [
        "N = 12\n",
        "binN = format(N, '05b')[::-1] # Inverted because the most significant bit is in the opposite position of Qiskit (left for Qiskit, right for Cirq)\n",
        "                              # 01100 for Qiskit. 00110 for Cirq\n",
        "print(binN)"
      ],
      "metadata": {
        "id": "IIvhufJbzGzE"
      },
      "execution_count": null,
      "outputs": []
    },
    {
      "cell_type": "markdown",
      "source": [
        "By applying X to invert the qubits where one of these was 0, we can give it that wanted state of |11111>. So we can apply a multiple control Z-gate."
      ],
      "metadata": {
        "id": "Bdl7AnawzGSf"
      }
    },
    {
      "cell_type": "code",
      "source": [
        "n = 5\n",
        "qc7 = cirq.Circuit()"
      ],
      "metadata": {
        "id": "P2l779T_y4yY"
      },
      "execution_count": null,
      "outputs": []
    },
    {
      "cell_type": "markdown",
      "source": [
        "Let's start with the superposition.\n",
        "Apply an Hadamard circuit to all the qubits."
      ],
      "metadata": {
        "id": "MsmZUqFQzBD0"
      }
    },
    {
      "cell_type": "code",
      "source": [
        "qc7.append(cirq.H.on_each(q))"
      ],
      "metadata": {
        "id": "4llXnVpEzC8u"
      },
      "execution_count": null,
      "outputs": []
    },
    {
      "cell_type": "markdown",
      "source": [
        "In contrast, apply x where it was 0 in binN."
      ],
      "metadata": {
        "id": "KFDrXHZqdWfQ"
      }
    },
    {
      "cell_type": "code",
      "source": [
        "for k in range(n):\n",
        "  if binN[n-k-1] == \"0\":\n",
        "    qc7.append(cirq.X(q[k]))"
      ],
      "metadata": {
        "id": "vztaRqmydGOe"
      },
      "execution_count": null,
      "outputs": []
    },
    {
      "cell_type": "markdown",
      "source": [
        "Then after that, let's execute a multiple control Z-gate."
      ],
      "metadata": {
        "id": "iiLyRbDUzZt_"
      }
    },
    {
      "cell_type": "code",
      "source": [
        "qc7.append(cirq.Z(q[n-1]).controlled_by(*q[0:n-1]))"
      ],
      "metadata": {
        "id": "KcuknIeTdKdy"
      },
      "execution_count": null,
      "outputs": []
    },
    {
      "cell_type": "markdown",
      "source": [
        "Then perform the same action again where you applied X to restore it."
      ],
      "metadata": {
        "id": "9-8XdwrI0PZ7"
      }
    },
    {
      "cell_type": "code",
      "source": [
        "for k in range(n):\n",
        "  if binN[n-k-1] == \"0\":\n",
        "    qc7.append(cirq.X(q[k]))"
      ],
      "metadata": {
        "id": "frQrJ6io0VaE"
      },
      "execution_count": null,
      "outputs": []
    },
    {
      "cell_type": "markdown",
      "source": [
        "The overall circuit is as follows"
      ],
      "metadata": {
        "id": "yNxAJll5zh_z"
      }
    },
    {
      "cell_type": "code",
      "source": [
        "SVGCircuit(qc7)"
      ],
      "metadata": {
        "id": "RD_6b5r6zgYT"
      },
      "execution_count": null,
      "outputs": []
    },
    {
      "cell_type": "code",
      "source": [
        "res7 = sim.simulate(qc7)\n",
        "print(res7.final_state_vector)"
      ],
      "metadata": {
        "id": "VQXZV0Qszkqh"
      },
      "execution_count": null,
      "outputs": []
    },
    {
      "cell_type": "markdown",
      "source": [
        "It's too long, so the results are omitted."
      ],
      "metadata": {
        "id": "8kGpaY340Z8n"
      }
    },
    {
      "cell_type": "markdown",
      "source": [
        "We only need to confirm that the 12th coefficient is negative, so let's look at it directly."
      ],
      "metadata": {
        "id": "8UwGJnKi46Yw"
      }
    },
    {
      "cell_type": "code",
      "source": [
        "print(res7.final_state_vector[12])"
      ],
      "metadata": {
        "id": "E7jF5id-zvXe"
      },
      "execution_count": null,
      "outputs": []
    },
    {
      "cell_type": "markdown",
      "source": [
        "We have successfully created an oracle."
      ],
      "metadata": {
        "id": "1ZVV-ST-5F1M"
      }
    },
    {
      "cell_type": "markdown",
      "source": [
        "Let's put together the homebrew oracle circuits we have made so far and put them in a form that we can use later.\n",
        "To do this, we will create our own class in python.\n",
        "While setting up exception handling with if statements to accept various numbers with a maximum value of $2^n-1$, define the following class.\n",
        "Define the class as follows"
      ],
      "metadata": {
        "id": "9EKJuWG_quwe"
      }
    },
    {
      "cell_type": "code",
      "source": [
        "class Oracle(cirq.Gate):\n",
        "    def __init__(self, N, n):\n",
        "        if N > 2**n - 1:\n",
        "          N = 2**n-1\n",
        "        self.N = N\n",
        "        self.n = n\n",
        "\n",
        "    def _num_qubits_(self):\n",
        "        return self.n\n",
        "\n",
        "    def _decompose_(self, qubits):\n",
        "      q = qubits\n",
        "      binN = format(N, '05b')[::-1] # Inverted because the most significant bit is in the opposite position of Qiskit (left for Qiskit, right for Cirq)\n",
        "\n",
        "      #Change the desired state to|111.... .1>.\n",
        "      for k in range(self.n):\n",
        "        if binN[self.n-k-1] == \"0\":\n",
        "          yield cirq.X(q[k])\n",
        "\n",
        "      #Multiple control Z-gate\n",
        "      yield cirq.Z(q[self.n-1]).controlled_by(*q[0:self.n-1])\n",
        "\n",
        "      #|111.... .1> to the desired state.\n",
        "      for k in range(self.n):\n",
        "        if binN[self.n-k-1] == \"0\":\n",
        "          yield cirq.X(q[k])\n",
        "\n",
        "    def _circuit_diagram_info_(self, args):\n",
        "        return [\"Uoracle\"] * self.num_qubits()"
      ],
      "metadata": {
        "id": "sJRNr8GBqW_a"
      },
      "execution_count": null,
      "outputs": []
    },
    {
      "cell_type": "markdown",
      "source": [
        "Using this summarized circuit as soon as possible, a program can be written to make it compact as follows."
      ],
      "metadata": {
        "id": "qmbEWaH7tFcf"
      }
    },
    {
      "cell_type": "code",
      "source": [
        "n = 5\n",
        "N = 8\n",
        "\n",
        "qc8 = cirq.Circuit()\n",
        "q = cirq.LineQubit.range(n)\n",
        "qc8.append(cirq.H.on_each(q))\n",
        "oracle_gate = Oracle(N,n)\n",
        "qc8.append(oracle_gate.on(*q))\n"
      ],
      "metadata": {
        "id": "BpJn6eiM0e1h"
      },
      "execution_count": null,
      "outputs": []
    },
    {
      "cell_type": "markdown",
      "source": [
        "qc8.append(oracle_gate,qr)\n",
        "This is a unique part of the process. It specifies which qubits you want to apply your own circuit to.\n",
        "If you want to apply it to all of them, just use qr!\n",
        "\n",
        "The resulting circuit looks like this"
      ],
      "metadata": {
        "id": "j8ibhqu9tmPt"
      }
    },
    {
      "cell_type": "code",
      "source": [
        "SVGCircuit(qc8)"
      ],
      "metadata": {
        "id": "8Z4SBOm2sjFR"
      },
      "execution_count": null,
      "outputs": []
    },
    {
      "cell_type": "markdown",
      "source": [
        "It has been put together in a way that I don't know what's in it, but I'm not worried because I made it myself.\n",
        "However, I want to make sure that it is working properly."
      ],
      "metadata": {
        "id": "5hbQdNwltMB8"
      }
    },
    {
      "cell_type": "code",
      "source": [
        "res8 = sim.simulate(qc8)\n",
        "print(res8.final_state_vector.round(5))"
      ],
      "metadata": {
        "id": "TDoMr6m5GNkG"
      },
      "execution_count": null,
      "outputs": []
    },
    {
      "cell_type": "code",
      "source": [
        "print(res8.final_state_vector[N].round(5))"
      ],
      "metadata": {
        "id": "JVnE3B3UGgH6"
      },
      "execution_count": null,
      "outputs": []
    },
    {
      "cell_type": "markdown",
      "source": [
        "We were able to correctly set the amplitude negative only at N!"
      ],
      "metadata": {
        "id": "FsB5ZfWEG-OM"
      }
    },
    {
      "cell_type": "markdown",
      "source": [
        "### Creating a diffuser\n",
        "\n",
        "Next, we will consider amplifying the amplitude of a quantum state whose amplitude is negative.\n",
        "From the superposition of quantum states, only the amplitude of the quantum state we are looking for is inverted.\n",
        "We can say that this is a superposition state, but a collapsed one."
      ],
      "metadata": {
        "id": "LRKy3PfUvCAW"
      }
    },
    {
      "cell_type": "markdown",
      "source": [
        "For simplicity, let's create a superposition state with two qubits."
      ],
      "metadata": {
        "id": "zTelTCRIyIGK"
      }
    },
    {
      "cell_type": "code",
      "source": [
        "n = 2\n",
        "qc9 = cirq.Circuit()\n",
        "q = cirq.LineQubit.range(n)\n",
        "qc9.append(cirq.H.on_each(q))"
      ],
      "metadata": {
        "id": "Yzr5h-O5szts"
      },
      "execution_count": null,
      "outputs": []
    },
    {
      "cell_type": "markdown",
      "source": [
        "When we run the simulation in this situation, all states are superimposed with the same coefficients."
      ],
      "metadata": {
        "id": "2tKUBtuy3HwH"
      }
    },
    {
      "cell_type": "code",
      "source": [
        "res9 = sim.simulate(qc9)\n",
        "print(res9.final_state_vector.round(5))"
      ],
      "metadata": {
        "id": "GwkPn_iNycga"
      },
      "execution_count": null,
      "outputs": []
    },
    {
      "cell_type": "markdown",
      "source": [
        "What if we now solve for the superposition state?\n",
        "Run the Hadamard circuit again for all qubits."
      ],
      "metadata": {
        "id": "Jaem-z7U3Mjb"
      }
    },
    {
      "cell_type": "code",
      "source": [
        "qc9.append(cirq.H.on_each(q))"
      ],
      "metadata": {
        "id": "EwIIw2do3SBd"
      },
      "execution_count": null,
      "outputs": []
    },
    {
      "cell_type": "markdown",
      "source": [
        "The entire circuit is as follows"
      ],
      "metadata": {
        "id": "MjCYgnTz3TAq"
      }
    },
    {
      "cell_type": "code",
      "source": [
        "print(qc9)"
      ],
      "metadata": {
        "id": "bozknFTb3Gas"
      },
      "execution_count": null,
      "outputs": []
    },
    {
      "cell_type": "markdown",
      "source": [
        "The simulation shows the following changes"
      ],
      "metadata": {
        "id": "prMTs5EA3XWd"
      }
    },
    {
      "cell_type": "code",
      "source": [
        "res9 = sim.simulate(qc9)\n",
        "print(res9.final_state_vector.round(5))"
      ],
      "metadata": {
        "id": "q9kDp4BE3WBe"
      },
      "execution_count": null,
      "outputs": []
    },
    {
      "cell_type": "markdown",
      "source": [
        "|00> state.\n",
        "On the other hand, let's break the superposition state a bit."
      ],
      "metadata": {
        "id": "0dzKTgWb5QUh"
      }
    },
    {
      "cell_type": "code",
      "source": [
        "n = 2\n",
        "qc10 = cirq.Circuit()\n",
        "q = cirq.LineQubit.range(n)\n",
        "qc10.append(cirq.H.on_each(q))\n",
        "qc10.append(cirq.CZ(q[0],q[1]))\n",
        "qc10.append(cirq.H.on_each(q))"
      ],
      "metadata": {
        "id": "gXYSVij63cAF"
      },
      "execution_count": null,
      "outputs": []
    },
    {
      "cell_type": "markdown",
      "source": [
        "The situation is that the amplitude was reversed only for |11> because a control Z-gate was introduced in the middle."
      ],
      "metadata": {
        "id": "0fgi8tG-5dU_"
      }
    },
    {
      "cell_type": "code",
      "source": [
        "res10 = sim.simulate(qc10)\n",
        "print(res10)"
      ],
      "metadata": {
        "id": "DzodYvn05bp-"
      },
      "execution_count": null,
      "outputs": []
    },
    {
      "cell_type": "markdown",
      "source": [
        "Then, unlike the previous case, the probability amplitudes appear not only in the|00> but also in the other states.\n",
        "First of all, if we consider that the reaction occurs when the state of|00> goes through the Hadamard circuit when the superposition is perfect, we can say that the probability amplitude leaked out to|01>,|10>,|11> due to the effect of collapsing from the superposition state.\n",
        "The leaked probability amplitude must have been caused by the effect of setting the amplitude negative in order to mark the marker.\n",
        "What would happen if we set only |00> to negative and leave |01>,|10>,|11> as they are and return them to their original values?\n",
        "It is called putting back the overflow. Moreover, the idea is to try to change the part of the superposition state."
      ],
      "metadata": {
        "id": "9jdah7P_5ndW"
      }
    },
    {
      "cell_type": "markdown",
      "source": [
        "I could run the control Z circuit to do -1 for only the |11>.\n",
        "You could have done it by adapting X to each of the qubits, changing the |00> to |11>, running the control Z circuit, and then\n",
        "and then undo the change."
      ],
      "metadata": {
        "id": "T6PpUgG87Y11"
      }
    },
    {
      "cell_type": "code",
      "source": [
        "n = 2\n",
        "qc11 = cirq.Circuit()\n",
        "q = cirq.LineQubit.range(n)\n",
        "#Make a superposition\n",
        "qc11.append(cirq.H.on_each(q))\n",
        "#Mark #11.\n",
        "qc11.append(cirq.CZ(q[0],q[1]))\n",
        "qc11.append(cirq.H.on_each(q))\n",
        "\n",
        "#00 to 11.\n",
        "qc11.append(cirq.X.on_each(q))\n",
        "#Invert #11 amplitude (originally 00)\n",
        "qc11.append(cirq.CZ(q[0],q[1]))\n",
        "#11 to 00 and undoing reverses the 00 amplitude\n",
        "qc11.append(cirq.X.on_each(q))\n"
      ],
      "metadata": {
        "id": "gY_rNeGb5mUE"
      },
      "execution_count": null,
      "outputs": []
    },
    {
      "cell_type": "code",
      "source": [
        "res11 = sim.simulate(qc11)\n",
        "print(res11)"
      ],
      "metadata": {
        "id": "_MruKaf270vH"
      },
      "execution_count": null,
      "outputs": []
    },
    {
      "cell_type": "markdown",
      "source": [
        "Now let's try to undo this state with an Hadamard circuit.\n",
        "Has it changed somewhat?"
      ],
      "metadata": {
        "id": "bRiy_hzK-Eru"
      }
    },
    {
      "cell_type": "code",
      "source": [
        "#Dissolve superpositions\n",
        "qc11.append(cirq.H.on_each(q))"
      ],
      "metadata": {
        "id": "pGtgB-EB74MP"
      },
      "execution_count": null,
      "outputs": []
    },
    {
      "cell_type": "code",
      "source": [
        "res11 = sim.simulate(qc11)\n",
        "print(res11)"
      ],
      "metadata": {
        "id": "_-TFmm72-Lss"
      },
      "execution_count": null,
      "outputs": []
    },
    {
      "cell_type": "markdown",
      "source": [
        "Oh, oh. Only the state of |11> was retrieved....\n",
        "No way. No way. Couldn't we have done it?\n",
        "The idea was to reduce the number of superposition states and preserve the coefficients that leaked out because they were the effect of the marking.\n",
        "Let's make our own circuit to apply this with a general number of qubits."
      ],
      "metadata": {
        "id": "SmA1jzyF-QDz"
      }
    },
    {
      "cell_type": "code",
      "source": [
        "class Diffusion(cirq.Gate):\n",
        "    def __init__(self, n):\n",
        "        self.n = n\n",
        "\n",
        "    def _num_qubits_(self):\n",
        "        return self.n\n",
        "\n",
        "    def _decompose_(self, qubits):\n",
        "      q = qubits\n",
        "\n",
        "      #Run Hadamard to be able to examine the collapse of the overlapping conditions.\n",
        "      yield cirq.H.on_each(q)\n",
        "      #Multiple control Z-gate to set the coefficients of only|0.... .0> to set the coefficient of only|0.... .0> to|1.... .1>.\n",
        "      yield cirq.X.on_each(q)\n",
        "      #Multiplex control Z-gate\n",
        "      yield cirq.Z(q[n-1]).controlled_by(*q[0:n-1])\n",
        "      #Undo|1... .1> to|0.... .0>.\n",
        "      yield cirq.X.on_each(q)\n",
        "      #Apply Hadamard to solve the superposition condition\n",
        "      yield cirq.H.on_each(q)\n",
        "\n",
        "    def _circuit_diagram_info_(self, args):\n",
        "        return [\"Udiff\"] * self.num_qubits()"
      ],
      "metadata": {
        "id": "wl7Wkv4u-M09"
      },
      "execution_count": null,
      "outputs": []
    },
    {
      "cell_type": "markdown",
      "source": [
        "Let's run an oracle (Uoracle) and diffusion (Udiff) and see what results we get.\n",
        "The idea is to search for the quantum state indicated by the number n=5 qubits, N=12."
      ],
      "metadata": {
        "id": "spvK8s-6_hkN"
      }
    },
    {
      "cell_type": "code",
      "source": [
        "n = 5\n",
        "N = 8\n",
        "\n",
        "qc12 = cirq.Circuit()\n",
        "q = cirq.LineQubit.range(n)\n",
        "oracle_gate = Oracle(N,n)\n",
        "diff_gate = Diffusion(n)\n",
        "\n",
        "#State of superposition\n",
        "qc12.append(cirq.H.on_each(q))\n",
        "qc12.append(oracle_gate.on(*q))\n",
        "qc12.append(diff_gate.on(*q))"
      ],
      "metadata": {
        "id": "wZUgJJTa_gqV"
      },
      "execution_count": null,
      "outputs": []
    },
    {
      "cell_type": "code",
      "source": [
        "res12 = sim.simulate(qc12)\n",
        "print(res12)"
      ],
      "metadata": {
        "id": "l1TJTbNuAWL9"
      },
      "execution_count": null,
      "outputs": []
    },
    {
      "cell_type": "code",
      "source": [
        "print(res12.final_state_vector[N].round(5))"
      ],
      "metadata": {
        "id": "zlh9gY63AbAT"
      },
      "execution_count": null,
      "outputs": []
    },
    {
      "cell_type": "markdown",
      "source": [
        "We can see that only the nth one has a larger amplitude."
      ],
      "metadata": {
        "id": "plH9IcY-DIhd"
      }
    },
    {
      "cell_type": "markdown",
      "source": [
        "As the algorithm is repeated, this probability gradually increases.\n",
        "For example, let's create the following quantum circuit that repeats three times."
      ],
      "metadata": {
        "id": "YyppkCWODYEf"
      }
    },
    {
      "cell_type": "code",
      "source": [
        "n = 5\n",
        "N = 8\n",
        "Tall = 3\n",
        "\n",
        "qc13 = cirq.Circuit()\n",
        "q = cirq.LineQubit.range(n)\n",
        "#State of superposition\n",
        "qc13.append(cirq.H.on_each(q))\n",
        "oracle_gate = Oracle(N,n)\n",
        "diff_gate = Diffusion(n)\n",
        "for k in range(Tall):\n",
        "  qc13.append(oracle_gate.on(*q))\n",
        "  qc13.append(diff_gate.on(*q))\n"
      ],
      "metadata": {
        "id": "kEXBN4YHDRmg"
      },
      "execution_count": null,
      "outputs": []
    },
    {
      "cell_type": "markdown",
      "source": [
        "Let's run the simulation."
      ],
      "metadata": {
        "id": "zxPTw-7EHRqP"
      }
    },
    {
      "cell_type": "code",
      "source": [
        "res13 = sim.simulate(qc13)\n",
        "print(res13)"
      ],
      "metadata": {
        "id": "BS3cDghvHRSo"
      },
      "execution_count": null,
      "outputs": []
    },
    {
      "cell_type": "markdown",
      "source": [
        "Let's look at the Nth probability amplitude."
      ],
      "metadata": {
        "id": "y071PBwwHZ3o"
      }
    },
    {
      "cell_type": "code",
      "source": [
        "print(res13.final_state_vector[N].round(5))"
      ],
      "metadata": {
        "id": "IbtvSh8qHXfh"
      },
      "execution_count": null,
      "outputs": []
    },
    {
      "cell_type": "markdown",
      "source": [
        "We can see that it is overwhelmingly large.\n",
        "If the probability amplitude is this large, the state indicated by N will almost always appear when the measurement is made."
      ],
      "metadata": {
        "id": "2_qCk9KEHcCv"
      }
    },
    {
      "cell_type": "code",
      "source": [
        "qc13.append(cirq.measure(q, key='m'))\n",
        "SVGCircuit(qc13)"
      ],
      "metadata": {
        "id": "UfE9mwjWDs8F"
      },
      "execution_count": null,
      "outputs": []
    },
    {
      "cell_type": "code",
      "source": [
        "res13 = sim.run(qc13, repetitions=1000)\n",
        "counts = res13.histogram(key='m')"
      ],
      "metadata": {
        "id": "Ufs4W0k5Dkuk"
      },
      "execution_count": null,
      "outputs": []
    },
    {
      "cell_type": "code",
      "source": [
        "counts"
      ],
      "metadata": {
        "id": "APi17r6cDqUy"
      },
      "execution_count": null,
      "outputs": []
    },
    {
      "cell_type": "markdown",
      "source": [
        "Indeed, we can see that the probability of the appearance of a state corresponding to N is very high."
      ],
      "metadata": {
        "id": "Vq20jWVsHod_"
      }
    },
    {
      "cell_type": "code",
      "source": [
        "import matplotlib.pyplot as plt\n",
        "\n",
        "def binary_labels(num_qubits):\n",
        "    return [bin(x)[2:].zfill(num_qubits) for x in range(2 ** num_qubits)]\n",
        "\n",
        "cirq.plot_state_histogram(res13, plt.subplot(), tick_label=binary_labels(n))\n",
        "plt.xticks(rotation=90)\n",
        "plt.show()"
      ],
      "metadata": {
        "id": "MSeoF-HjP_Wi"
      },
      "execution_count": null,
      "outputs": []
    }
  ]
}